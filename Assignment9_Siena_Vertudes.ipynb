{
  "nbformat": 4,
  "nbformat_minor": 0,
  "metadata": {
    "colab": {
      "name": "Assignment9_Siena_Vertudes.ipynb",
      "provenance": [],
      "collapsed_sections": [],
      "include_colab_link": true
    },
    "kernelspec": {
      "name": "python3",
      "display_name": "Python 3"
    },
    "language_info": {
      "name": "python"
    }
  },
  "cells": [
    {
      "cell_type": "markdown",
      "metadata": {
        "id": "view-in-github",
        "colab_type": "text"
      },
      "source": [
        "<a href=\"https://colab.research.google.com/github/ja-nana/Linear-Algebra_ChE_2nd-Sem-2021/blob/main/Assignment9_Siena_Vertudes.ipynb\" target=\"_parent\"><img src=\"https://colab.research.google.com/assets/colab-badge.svg\" alt=\"Open In Colab\"/></a>"
      ]
    },
    {
      "cell_type": "markdown",
      "source": [
        "#**Plotting Vector using NumPy and MatPlotLib**"
      ],
      "metadata": {
        "id": "n4xS2v-Rj_C8"
      }
    },
    {
      "cell_type": "markdown",
      "source": [
        "In this laboratory we will be discussing the basics of numerical and scientific programming by working with Vectors using NumPy and MatPlotLib."
      ],
      "metadata": {
        "id": "9XpBB7uakRaU"
      }
    },
    {
      "cell_type": "markdown",
      "source": [
        "##**Objectives**\n",
        "\n",
        "* Be familiar with the libraries in Python for numerical and scientific programming.\n",
        "* Visualize vectors through python programming.\n",
        "* Perform simple vector operations through code."
      ],
      "metadata": {
        "id": "-GdjIQWrkYTd"
      }
    },
    {
      "cell_type": "markdown",
      "source": [
        "---\n",
        "##**Discussion**\n",
        "\n",
        "###**NumPy**\n",
        "\n",
        "Numpy or Numerical Python, is mainly used for matrix and vector operations. It is capable of declaring computing and representing matrices. Most Python scientific programming libraries uses NumPy as the basic code."
      ],
      "metadata": {
        "id": "biSrjbRFkl8M"
      }
    },
    {
      "cell_type": "markdown",
      "source": [
        "$$\n",
        "A = 5\\hat{x} + 4\\hat{y} \\\\\n",
        "B = 6\\hat{x} - 3\\hat{y} \\\\\n",
        "C = 7ax + 4ay - 9az \\\\\n",
        "D = 9\\hat{i} - 4\\hat{j} + 2\\hat{k}\n",
        "$$"
      ],
      "metadata": {
        "id": "ARJIaSSOlRB8"
      }
    },
    {
      "cell_type": "markdown",
      "source": [
        "In which it's matrix equivalent is:"
      ],
      "metadata": {
        "id": "6ZXfbm4FlROE"
      }
    },
    {
      "cell_type": "markdown",
      "source": [
        "$$A = \\begin{bmatrix} 5 \\\\ 4 \\end{bmatrix} ,  B = \\begin{bmatrix} 6 \\\\ -3 \\end{bmatrix} , C = \\begin{bmatrix} 7 \\\\ 4 \\\\  -9 \\end{bmatrix}, D = \\begin{bmatrix} 9 \\\\ -4 \\\\ 2 \\end{bmatrix}$$"
      ],
      "metadata": {
        "id": "YG7yxVT8lTHk"
      }
    },
    {
      "cell_type": "markdown",
      "source": [
        "$$ A = \\begin{bmatrix} 5 & 4 \\end{bmatrix} , B = \\begin{bmatrix} 6 & -3\\end{bmatrix} , C = \\begin{bmatrix} 7 & 4 & -9\\end{bmatrix} , D = \\begin{bmatrix} 9 & -4 & 2\\end{bmatrix}$$\n",
        "\n",
        "---"
      ],
      "metadata": {
        "id": "8ygdEk7rlTO7"
      }
    },
    {
      "cell_type": "code",
      "source": [
        "## Importing necessary libraries\n",
        "## 'np' here is short-hand name of the library (numpy) or a nickname.\n",
        "import numpy as np"
      ],
      "metadata": {
        "id": "vWeEbfM7lVqb"
      },
      "execution_count": null,
      "outputs": []
    },
    {
      "cell_type": "code",
      "source": [
        "A = np.array([5, 4])\n",
        "B = np.array([6, -3])\n",
        "C = np.array([[7], [4], [-9]])\n",
        "D = np.array ([[9], [-4], [2]])\n",
        "\n",
        "print('Vector A is ', A)\n",
        "print('Vector B is ', B)\n",
        "print('Vector C is ', C)\n",
        "print('Vector D is ', D)"
      ],
      "metadata": {
        "colab": {
          "base_uri": "https://localhost:8080/"
        },
        "id": "3x2dyUE6lZXc",
        "outputId": "03384405-220f-41bd-f61e-7f088744fc3a"
      },
      "execution_count": null,
      "outputs": [
        {
          "output_type": "stream",
          "name": "stdout",
          "text": [
            "Vector A is  [5 4]\n",
            "Vector B is  [ 6 -3]\n",
            "Vector C is  [[ 7]\n",
            " [ 4]\n",
            " [-9]]\n",
            "Vector D is  [[ 9]\n",
            " [-4]\n",
            " [ 2]]\n"
          ]
        }
      ]
    },
    {
      "cell_type": "markdown",
      "source": [
        "---\n",
        "**Describing vectors in NumPy**\n",
        "\n",
        "Describing vectors is very important if we want to perform basic to advanced operations with them. The fundamental ways in describing vectors are knowing their shape, size and dimensions."
      ],
      "metadata": {
        "id": "Zb6AUNvflbfs"
      }
    },
    {
      "cell_type": "code",
      "source": [
        "### Checking shapes\n",
        "### Shapes tells us how many elements are there on each row and column\n",
        "\n",
        "A.shape\n",
        "X = np.array([1, 0, 2, 5, -0.2, 0])\n",
        "X.shape\n",
        "C.shape"
      ],
      "metadata": {
        "colab": {
          "base_uri": "https://localhost:8080/"
        },
        "id": "OuQzXXH0lf5v",
        "outputId": "f093a076-cf32-4a69-d3f2-4b340e6bec4e"
      },
      "execution_count": null,
      "outputs": [
        {
          "output_type": "execute_result",
          "data": {
            "text/plain": [
              "(3, 1)"
            ]
          },
          "metadata": {},
          "execution_count": 3
        }
      ]
    },
    {
      "cell_type": "code",
      "source": [
        "### Checking size\n",
        "### Array/Vector sizes tells us many total number of elements are there in the vector\n",
        "\n",
        "D.size"
      ],
      "metadata": {
        "colab": {
          "base_uri": "https://localhost:8080/"
        },
        "id": "TmecJ6BGlgvk",
        "outputId": "d7d72ff2-2487-48c0-8005-2e1132007bec"
      },
      "execution_count": null,
      "outputs": [
        {
          "output_type": "execute_result",
          "data": {
            "text/plain": [
              "3"
            ]
          },
          "metadata": {},
          "execution_count": 4
        }
      ]
    },
    {
      "cell_type": "code",
      "source": [
        "### Checking dimensions\n",
        "### The dimensions or rank of a vector tells us how many dimensions are there for the vector.\n",
        "\n",
        "D.ndim"
      ],
      "metadata": {
        "colab": {
          "base_uri": "https://localhost:8080/"
        },
        "id": "9RDnl6t7litR",
        "outputId": "3dfae15e-a42e-4088-d86a-b3b89e96e2f6"
      },
      "execution_count": null,
      "outputs": [
        {
          "output_type": "execute_result",
          "data": {
            "text/plain": [
              "2"
            ]
          },
          "metadata": {},
          "execution_count": 5
        }
      ]
    },
    {
      "cell_type": "markdown",
      "source": [
        "---\n",
        "####**Addition**\n",
        "\n",
        "The addition rule is simple, the we just need to add the elements of the matrices according to their index. So in this case if we add vector  and vector  we will have a resulting vector:"
      ],
      "metadata": {
        "id": "eDfLZXZmlmCm"
      }
    },
    {
      "cell_type": "markdown",
      "source": [
        "$$R = 5\\hat{x}-3\\hat{y} \\\\ \\\\or \\\\ \\\\ R = \\begin{bmatrix} 5 \\\\ -3\\end{bmatrix} $$"
      ],
      "metadata": {
        "id": "ncXD7qmjlp2M"
      }
    },
    {
      "cell_type": "code",
      "source": [
        "## this is the functional method usisng the numpy library\n",
        "Q = np.add(A, B) \n",
        "W = np.add(C, D)"
      ],
      "metadata": {
        "id": "kdcRwcCmlqgn"
      },
      "execution_count": null,
      "outputs": []
    },
    {
      "cell_type": "code",
      "source": [
        "## this is the explicit method, since Python does a value-reference so it can \n",
        " ## know that these variables would need to do array operations.\n",
        "Q\n",
        "Q = A + B  \n",
        "Q"
      ],
      "metadata": {
        "colab": {
          "base_uri": "https://localhost:8080/"
        },
        "id": "FDaPu2azlr5U",
        "outputId": "fea94292-9306-4f23-918b-74caec55aa94"
      },
      "execution_count": null,
      "outputs": [
        {
          "output_type": "execute_result",
          "data": {
            "text/plain": [
              "array([11,  1])"
            ]
          },
          "metadata": {},
          "execution_count": 7
        }
      ]
    },
    {
      "cell_type": "code",
      "source": [
        "pos1 = np.array([2,2,2])\n",
        "pos2 = np.array([0,0,5])\n",
        "pos3 = np.array([6,2,-9])\n",
        "pos4 = np.array([8,-7,1])"
      ],
      "metadata": {
        "id": "kuZwtI0cltD8"
      },
      "execution_count": null,
      "outputs": []
    },
    {
      "cell_type": "code",
      "source": [
        "Q = pos1 + pos2 + pos3 + pos4\n",
        "Q"
      ],
      "metadata": {
        "colab": {
          "base_uri": "https://localhost:8080/"
        },
        "id": "Z86Nrun_Xxnn",
        "outputId": "f41e84fd-ca84-46b6-ee7a-57db8e6e4618"
      },
      "execution_count": null,
      "outputs": [
        {
          "output_type": "execute_result",
          "data": {
            "text/plain": [
              "array([16, -3, -1])"
            ]
          },
          "metadata": {},
          "execution_count": 9
        }
      ]
    },
    {
      "cell_type": "code",
      "source": [
        "Q = np.multiply(pos3, pos4)\n",
        "Q"
      ],
      "metadata": {
        "colab": {
          "base_uri": "https://localhost:8080/"
        },
        "id": "Qa25FBqHXui_",
        "outputId": "17a8279f-a12c-4b6a-c48c-9eb0b63972b6"
      },
      "execution_count": null,
      "outputs": [
        {
          "output_type": "execute_result",
          "data": {
            "text/plain": [
              "array([ 48, -14,  -9])"
            ]
          },
          "metadata": {},
          "execution_count": 10
        }
      ]
    },
    {
      "cell_type": "code",
      "source": [
        "Q = pos3 / pos4\n",
        "Q"
      ],
      "metadata": {
        "colab": {
          "base_uri": "https://localhost:8080/"
        },
        "id": "StwuB557XupW",
        "outputId": "7dc0f6c7-fb35-44f4-d1e2-a724e5a78115"
      },
      "execution_count": null,
      "outputs": [
        {
          "output_type": "execute_result",
          "data": {
            "text/plain": [
              "array([ 0.75      , -0.28571429, -9.        ])"
            ]
          },
          "metadata": {},
          "execution_count": 11
        }
      ]
    },
    {
      "cell_type": "markdown",
      "source": [
        "---\n",
        "\n",
        "Try to implement subtraction, multiplication, and division with vectors"
      ],
      "metadata": {
        "id": "Xew4HMWpluPQ"
      }
    },
    {
      "cell_type": "code",
      "source": [
        "G = np.array([[10, 14, 19],\n",
        "              [1, 9, 6],\n",
        "              [6, 4, 12],\n",
        "              [1, 8, 10]])\n",
        "H = np.array([[14, 15, 18],\n",
        "              [9, 0, 8],\n",
        "              [5, 17, 15],\n",
        "              [1, 7, 12]])"
      ],
      "metadata": {
        "id": "v53qZ9KDl3ut"
      },
      "execution_count": null,
      "outputs": []
    },
    {
      "cell_type": "code",
      "source": [
        "C = G - H\n",
        "C"
      ],
      "metadata": {
        "colab": {
          "base_uri": "https://localhost:8080/"
        },
        "id": "pyxt4hB3YiFA",
        "outputId": "364034cd-4006-48e3-d0a3-ca4a90ccd979"
      },
      "execution_count": null,
      "outputs": [
        {
          "output_type": "execute_result",
          "data": {
            "text/plain": [
              "array([[ -4,  -1,   1],\n",
              "       [ -8,   9,  -2],\n",
              "       [  1, -13,  -3],\n",
              "       [  0,   1,  -2]])"
            ]
          },
          "metadata": {},
          "execution_count": 13
        }
      ]
    },
    {
      "cell_type": "code",
      "source": [
        "C = np.multiply(G,H)\n",
        "C"
      ],
      "metadata": {
        "colab": {
          "base_uri": "https://localhost:8080/"
        },
        "id": "EkmhKpvsYldn",
        "outputId": "1e2692ca-535e-450f-adad-7948a0a2a593"
      },
      "execution_count": null,
      "outputs": [
        {
          "output_type": "execute_result",
          "data": {
            "text/plain": [
              "array([[140, 210, 342],\n",
              "       [  9,   0,  48],\n",
              "       [ 30,  68, 180],\n",
              "       [  1,  56, 120]])"
            ]
          },
          "metadata": {},
          "execution_count": 14
        }
      ]
    },
    {
      "cell_type": "code",
      "source": [
        "C = G / H\n",
        "C"
      ],
      "metadata": {
        "colab": {
          "base_uri": "https://localhost:8080/"
        },
        "id": "GhUQtWw8Yq4Y",
        "outputId": "b999aa3a-c787-4f64-ef85-7082318167d7"
      },
      "execution_count": null,
      "outputs": [
        {
          "output_type": "stream",
          "name": "stderr",
          "text": [
            "/usr/local/lib/python3.7/dist-packages/ipykernel_launcher.py:1: RuntimeWarning: divide by zero encountered in true_divide\n",
            "  \"\"\"Entry point for launching an IPython kernel.\n"
          ]
        },
        {
          "output_type": "execute_result",
          "data": {
            "text/plain": [
              "array([[0.71428571, 0.93333333, 1.05555556],\n",
              "       [0.11111111,        inf, 0.75      ],\n",
              "       [1.2       , 0.23529412, 0.8       ],\n",
              "       [1.        , 1.14285714, 0.83333333]])"
            ]
          },
          "metadata": {},
          "execution_count": 15
        }
      ]
    },
    {
      "cell_type": "markdown",
      "source": [
        "###**Scaling**\n",
        "\n",
        "Scaling or scalar multiplication takes a scalar value and performs multiplication with a vector. Let's take the example below:\n",
        "\n",
        "$$S = 5 \\cdot A$$"
      ],
      "metadata": {
        "id": "LyPReGIil27l"
      }
    },
    {
      "cell_type": "code",
      "source": [
        "#S = 5 * A\n",
        "S = np.multiply(5,A)\n",
        "S"
      ],
      "metadata": {
        "colab": {
          "base_uri": "https://localhost:8080/"
        },
        "id": "s3BeVyh9l8QI",
        "outputId": "1c9665b9-a23b-4e56-8bb9-1ee8eaec95f7"
      },
      "execution_count": null,
      "outputs": [
        {
          "output_type": "execute_result",
          "data": {
            "text/plain": [
              "array([25, 20])"
            ]
          },
          "metadata": {},
          "execution_count": 16
        }
      ]
    },
    {
      "cell_type": "markdown",
      "source": [
        "Try to implement scaling with two vectors."
      ],
      "metadata": {
        "id": "awg89nLwl9vL"
      }
    },
    {
      "cell_type": "code",
      "source": [
        "D = np.multiply(3,A)\n",
        "D"
      ],
      "metadata": {
        "id": "be4B4Gkel-Vz",
        "colab": {
          "base_uri": "https://localhost:8080/"
        },
        "outputId": "41016afa-8475-4aaf-fa9e-57108eeb626e"
      },
      "execution_count": null,
      "outputs": [
        {
          "output_type": "execute_result",
          "data": {
            "text/plain": [
              "array([15, 12])"
            ]
          },
          "metadata": {},
          "execution_count": 17
        }
      ]
    },
    {
      "cell_type": "code",
      "source": [
        "E = np.multiply(9,B)\n",
        "E"
      ],
      "metadata": {
        "colab": {
          "base_uri": "https://localhost:8080/"
        },
        "id": "APdDHXkwY8xp",
        "outputId": "44937b7d-8608-4a44-d426-a00f11a191c2"
      },
      "execution_count": null,
      "outputs": [
        {
          "output_type": "execute_result",
          "data": {
            "text/plain": [
              "array([ 54, -27])"
            ]
          },
          "metadata": {},
          "execution_count": 18
        }
      ]
    },
    {
      "cell_type": "markdown",
      "source": [
        "###**MatPlotLib**\n",
        "\n",
        "MatPlotLib or MATLab Plotting library is Python's take on MATLabs plotting feature. MatPlotLib can be used vastly from graping values to visualizing several dimensions of data.\n",
        "\n",
        "####**Visualizing Data**\n",
        "\n",
        "It's not enough just solving these vectors so might need to visualize them. So we'll use MatPlotLib for that. We'll need to import it first.\n",
        "\n"
      ],
      "metadata": {
        "id": "OFw5DXrYl-iD"
      }
    },
    {
      "cell_type": "code",
      "source": [
        "import matplotlib.pyplot as plt\n",
        "import matplotlib\n",
        "%matplotlib inline"
      ],
      "metadata": {
        "id": "GFpTyCXTmES7"
      },
      "execution_count": null,
      "outputs": []
    },
    {
      "cell_type": "code",
      "source": [
        "A = [1, -1]\n",
        "B = [5, -1]\n",
        "plt.scatter(A[0], A[1], label='A', c='green')\n",
        "plt.scatter(B[0], B[1], label='B', c='magenta')\n",
        "plt.grid()\n",
        "plt.legend()\n",
        "plt.show()"
      ],
      "metadata": {
        "colab": {
          "base_uri": "https://localhost:8080/",
          "height": 265
        },
        "id": "JgRnkjPSmFsc",
        "outputId": "52636475-1b3c-474c-e9bd-3b81089a2586"
      },
      "execution_count": null,
      "outputs": [
        {
          "output_type": "display_data",
          "data": {
            "text/plain": [
              "<Figure size 432x288 with 1 Axes>"
            ],
            "image/png": "[encoded data removed]"
          },
          "metadata": {
            "needs_background": "light"
          }
        }
      ]
    },
    {
      "cell_type": "code",
      "source": [
        "A = np.array([1, -1])\n",
        "B = np.array([1, 5])\n",
        "R = A + B\n",
        "Magnitude = np.sqrt(np.sum(R**2))\n",
        "plt.title(\"Resultant Vector\\nMagnitude:{}\" .format(Magnitude))\n",
        "plt.xlim(-5, 5)\n",
        "plt.ylim(-5, 5)\n",
        "plt.quiver(0, 0, A[0], A[1], angles='xy', scale_units='xy', scale=1, color='red')\n",
        "plt.quiver(A[0], A[1], B[0], B[1], angles='xy', scale_units='xy', scale=1, color='green')\n",
        "plt.quiver(0, 0, R[0], R[1], angles='xy', scale_units='xy', scale=1, color='black')\n",
        "plt.grid()\n",
        "plt.show()\n",
        "print(R)\n",
        "Magnitude = np.sqrt(np.sum(R**2))\n",
        "print(Magnitude)\n",
        "Slope = R[1]/R[0]\n",
        "print(Slope)\n",
        "Angle = (np.arctan(Slope))*(180/np.pi)\n",
        "print(Angle)"
      ],
      "metadata": {
        "colab": {
          "base_uri": "https://localhost:8080/",
          "height": 366
        },
        "id": "bX4AjicHmH0c",
        "outputId": "d9854fbf-1b8d-4d31-d97d-d678e098ea78"
      },
      "execution_count": null,
      "outputs": [
        {
          "output_type": "display_data",
          "data": {
            "text/plain": [
              "<Figure size 432x288 with 1 Axes>"
            ],
            "image/png": "[encoded data removed]"
          },
          "metadata": {
            "needs_background": "light"
          }
        },
        {
          "output_type": "stream",
          "name": "stdout",
          "text": [
            "[2 4]\n",
            "4.47213595499958\n",
            "2.0\n",
            "63.43494882292201\n"
          ]
        }
      ]
    },
    {
      "cell_type": "code",
      "source": [
        "n = A.shape[0]\n",
        "plt.xlim(-5, 5)\n",
        "plt.ylim(-5, 5)\n",
        "plt.grid()\n",
        "plt.quiver(0,0, A[0], A[1], angles='xy', scale_units='xy',scale=1)\n",
        "plt.quiver(A[0],A[1], B[0], B[1], angles='xy', scale_units='xy',scale=1)\n",
        "plt.quiver(0,0, R[0], R[1], angles='xy', scale_units='xy',scale=1)\n",
        "plt.show()"
      ],
      "metadata": {
        "colab": {
          "base_uri": "https://localhost:8080/",
          "height": 265
        },
        "id": "UhuWqq31mUaM",
        "outputId": "d65b2fe9-c497-47b0-94df-486adf0c39cf"
      },
      "execution_count": null,
      "outputs": [
        {
          "output_type": "display_data",
          "data": {
            "text/plain": [
              "<Figure size 432x288 with 1 Axes>"
            ],
            "image/png": "[encoded data removed]"
          },
          "metadata": {
            "needs_background": "light"
          }
        }
      ]
    },
    {
      "cell_type": "markdown",
      "source": [
        "Try plotting Three Vectors and show the Resultant Vector as a result. Use Head to Tail Method."
      ],
      "metadata": {
        "id": "oK2NleRzmWeU"
      }
    },
    {
      "cell_type": "code",
      "source": [
        "X = np.array([2, -4])\n",
        "Y = np.array([3, 6])\n",
        "Q = X + Y\n",
        "Z = np.array([-1, 3])\n",
        "R = X + Y + Z\n",
        "Magnitude = np.sqrt(np.sum(R**2))\n",
        "plt.title(\"Resultant Vector\\nMagnitude:{}\" .format(Magnitude))\n",
        "plt.xlim(-10, 10)\n",
        "plt.ylim(-10, 10)\n",
        "plt.quiver(0, 0, X[0], X[1], angles='xy', scale_units='xy', scale=1, color='blue')\n",
        "plt.quiver(X[0], X[1], Y[0], Y[1], angles='xy', scale_units='xy', scale=1, color='green')\n",
        "plt.quiver(Q[0], Q[1], Z[0], Z[1], angles='xy', scale_units='xy', scale=1, color='pink')\n",
        "plt.quiver(0, 0, R[0], R[1], angles='xy', scale_units='xy', scale=1, color='black')\n",
        "plt.grid()\n",
        "plt.show()\n",
        "print(R)\n",
        "print(Magnitude)\n",
        "Slope = R[1]/R[0]\n",
        "print(Slope)\n",
        "Angle = (np.arctan(Slope))*(180/np.pi)\n",
        "print(Angle)"
      ],
      "metadata": {
        "id": "AavaO10CmVkJ",
        "colab": {
          "base_uri": "https://localhost:8080/",
          "height": 366
        },
        "outputId": "e4c78050-08e2-4bc5-ef8c-429bb4373eff"
      },
      "execution_count": null,
      "outputs": [
        {
          "output_type": "display_data",
          "data": {
            "text/plain": [
              "<Figure size 432x288 with 1 Axes>"
            ],
            "image/png": "[encoded data removed]"
          },
          "metadata": {
            "needs_background": "light"
          }
        },
        {
          "output_type": "stream",
          "name": "stdout",
          "text": [
            "[4 5]\n",
            "6.4031242374328485\n",
            "1.25\n",
            "51.34019174590991\n"
          ]
        }
      ]
    }
  ]
}