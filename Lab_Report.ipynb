{
  "nbformat": 4,
  "nbformat_minor": 0,
  "metadata": {
    "colab": {
      "name": "Lab Report",
      "provenance": [],
      "collapsed_sections": [],
      "include_colab_link": true
    },
    "kernelspec": {
      "name": "python3",
      "display_name": "Python 3"
    },
    "language_info": {
      "name": "python"
    }
  },
  "cells": [
    {
      "cell_type": "markdown",
      "metadata": {
        "id": "view-in-github",
        "colab_type": "text"
      },
      "source": [
        "<a href=\"https://colab.research.google.com/github/ja-nana/Linear-Algebra_ChE_2nd-Sem-2021/blob/main/Lab_Report.ipynb\" target=\"_parent\"><img src=\"https://colab.research.google.com/assets/colab-badge.svg\" alt=\"Open In Colab\"/></a>"
      ]
    },
    {
      "cell_type": "markdown",
      "source": [
        "---\n",
        "# **Welcome to Python Fundamentals**\n",
        "---\n",
        "---\n",
        "\n",
        "In this module, we are going to establish or review our skills in Python programming. In this notebook we are going to cover:\n",
        "\n",
        "* *Variables and Data Types*\n",
        "* *Operations*\n",
        "* *Input and Output Operations*\n",
        "* *Logic Control*\n",
        "* *Iterables*\n",
        "* *Functions*\n",
        "---\n",
        "---\n"
      ],
      "metadata": {
        "id": "is1pRnf_FpLC"
      }
    },
    {
      "cell_type": "markdown",
      "source": [
        "##**Variables and Data Types**\n",
        "---\n",
        "---\n",
        "\n",
        "> **Variables** are \n",
        "\n",
        "\n",
        "---\n",
        "\n",
        "\n",
        "> **Data Types** are\n",
        "\n",
        "\n",
        "---\n",
        "---"
      ],
      "metadata": {
        "id": "0Xr5zQgkFxG8"
      }
    },
    {
      "cell_type": "code",
      "source": [
        "x=1\n",
        "y,z= 0,-2\n",
        "y"
      ],
      "metadata": {
        "colab": {
          "base_uri": "https://localhost:8080/"
        },
        "id": "E71T5u7NGcKj",
        "outputId": "887cc082-dfe3-4821-a017-e3ef1113b6ed"
      },
      "execution_count": null,
      "outputs": [
        {
          "output_type": "execute_result",
          "data": {
            "text/plain": [
              "0"
            ]
          },
          "metadata": {},
          "execution_count": 1
        }
      ]
    },
    {
      "cell_type": "code",
      "source": [
        "type(x)"
      ],
      "metadata": {
        "id": "eAiaKETKGzVI",
        "colab": {
          "base_uri": "https://localhost:8080/"
        },
        "outputId": "f1ec4d6d-12f2-40a4-d00b-d1f5a1f56367"
      },
      "execution_count": null,
      "outputs": [
        {
          "output_type": "execute_result",
          "data": {
            "text/plain": [
              "int"
            ]
          },
          "metadata": {},
          "execution_count": 20
        }
      ]
    },
    {
      "cell_type": "code",
      "source": [
        "r = 2.0\n",
        "type(r)"
      ],
      "metadata": {
        "colab": {
          "base_uri": "https://localhost:8080/"
        },
        "id": "c4RUTruAME-f",
        "outputId": "e380ca43-ec31-4a42-a2ae-40cd230d03e4"
      },
      "execution_count": null,
      "outputs": [
        {
          "output_type": "execute_result",
          "data": {
            "text/plain": [
              "float"
            ]
          },
          "metadata": {},
          "execution_count": 21
        }
      ]
    },
    {
      "cell_type": "code",
      "source": [
        "t = float(x)\n",
        "type(t)"
      ],
      "metadata": {
        "colab": {
          "base_uri": "https://localhost:8080/"
        },
        "id": "XlzP3kpaMLX3",
        "outputId": "af307f49-7256-4548-87b6-c6a7f0bce003"
      },
      "execution_count": null,
      "outputs": [
        {
          "output_type": "execute_result",
          "data": {
            "text/plain": [
              "float"
            ]
          },
          "metadata": {},
          "execution_count": 22
        }
      ]
    },
    {
      "cell_type": "code",
      "source": [
        "s,k,u = \"0\", '1', 'one'\n",
        "type(u)"
      ],
      "metadata": {
        "colab": {
          "base_uri": "https://localhost:8080/"
        },
        "id": "Zh7CQBe7MQvR",
        "outputId": "e22860b3-ba14-45f2-e582-7c36296de383"
      },
      "execution_count": null,
      "outputs": [
        {
          "output_type": "execute_result",
          "data": {
            "text/plain": [
              "str"
            ]
          },
          "metadata": {},
          "execution_count": 23
        }
      ]
    },
    {
      "cell_type": "code",
      "source": [
        "k_int = int(k)\n",
        "k_int\n",
        "type(k)"
      ],
      "metadata": {
        "colab": {
          "base_uri": "https://localhost:8080/"
        },
        "id": "QJBXPGLlMTn6",
        "outputId": "b7b31de5-c822-4863-a4a7-4addccdeef11"
      },
      "execution_count": null,
      "outputs": [
        {
          "output_type": "execute_result",
          "data": {
            "text/plain": [
              "str"
            ]
          },
          "metadata": {},
          "execution_count": 25
        }
      ]
    },
    {
      "cell_type": "markdown",
      "source": [
        "#**Operations**\n",
        "---\n",
        "---\n",
        "\n",
        "> These are\n",
        "---\n",
        "---"
      ],
      "metadata": {
        "id": "7dS18EMMGClZ"
      }
    },
    {
      "cell_type": "markdown",
      "source": [
        "---\n",
        "\n",
        "##**Arithmetic**\n",
        "\n",
        "> *definition* emz\n",
        "\n",
        "\n",
        "\n",
        "---"
      ],
      "metadata": {
        "id": "lRbCj-SWJQ9X"
      }
    },
    {
      "cell_type": "code",
      "source": [
        "#Addition\n",
        "a,b,c,d = 5,6,7,8"
      ],
      "metadata": {
        "id": "WH8tSmFuG6oo"
      },
      "execution_count": null,
      "outputs": []
    },
    {
      "cell_type": "code",
      "source": [
        "S = a+b\n",
        "S"
      ],
      "metadata": {
        "colab": {
          "base_uri": "https://localhost:8080/"
        },
        "id": "xequwU0cHAyn",
        "outputId": "052d00df-7d20-4c01-85a8-bb02e95bd1f4"
      },
      "execution_count": null,
      "outputs": [
        {
          "output_type": "execute_result",
          "data": {
            "text/plain": [
              "11"
            ]
          },
          "metadata": {},
          "execution_count": 3
        }
      ]
    },
    {
      "cell_type": "code",
      "source": [
        "#Subtraction\n",
        "M = c-a\n",
        "M"
      ],
      "metadata": {
        "colab": {
          "base_uri": "https://localhost:8080/"
        },
        "id": "tcueeByJMtem",
        "outputId": "a13323e4-a9c8-4f65-d6c0-321e7e2be405"
      },
      "execution_count": null,
      "outputs": [
        {
          "output_type": "execute_result",
          "data": {
            "text/plain": [
              "2"
            ]
          },
          "metadata": {},
          "execution_count": 27
        }
      ]
    },
    {
      "cell_type": "code",
      "source": [
        "#Multiplication\n",
        "X = a*d\n",
        "X"
      ],
      "metadata": {
        "colab": {
          "base_uri": "https://localhost:8080/"
        },
        "id": "XjhllMwmM3Dn",
        "outputId": "5c976358-4443-45ca-9e61-940a68a9d2ff"
      },
      "execution_count": null,
      "outputs": [
        {
          "output_type": "execute_result",
          "data": {
            "text/plain": [
              "40"
            ]
          },
          "metadata": {},
          "execution_count": 28
        }
      ]
    },
    {
      "cell_type": "code",
      "source": [
        "#Division\n",
        "H = c/a\n",
        "H"
      ],
      "metadata": {
        "colab": {
          "base_uri": "https://localhost:8080/"
        },
        "id": "HWXXWF-gM9H-",
        "outputId": "97a59e76-5a0a-4437-eb75-205633b1f213"
      },
      "execution_count": null,
      "outputs": [
        {
          "output_type": "execute_result",
          "data": {
            "text/plain": [
              "1.4"
            ]
          },
          "metadata": {},
          "execution_count": 30
        }
      ]
    },
    {
      "cell_type": "code",
      "source": [
        "#Floor Division\n",
        "HD = d//b\n",
        "HD"
      ],
      "metadata": {
        "colab": {
          "base_uri": "https://localhost:8080/"
        },
        "id": "k_JOsce8NF5f",
        "outputId": "82bf3412-4c63-4a99-fcb0-bd2d56de42dd"
      },
      "execution_count": null,
      "outputs": [
        {
          "output_type": "execute_result",
          "data": {
            "text/plain": [
              "1"
            ]
          },
          "metadata": {},
          "execution_count": 31
        }
      ]
    },
    {
      "cell_type": "code",
      "source": [
        "#Exponentiation\n",
        "E = b**a\n",
        "E"
      ],
      "metadata": {
        "colab": {
          "base_uri": "https://localhost:8080/"
        },
        "id": "EWKKnxR5My-q",
        "outputId": "37a96ba3-95c6-4bfa-c82e-a57f5a8cd541"
      },
      "execution_count": null,
      "outputs": [
        {
          "output_type": "execute_result",
          "data": {
            "text/plain": [
              "7776"
            ]
          },
          "metadata": {},
          "execution_count": 32
        }
      ]
    },
    {
      "cell_type": "code",
      "source": [
        "#Modulo\n",
        "MOD = c%b\n",
        "MOD"
      ],
      "metadata": {
        "colab": {
          "base_uri": "https://localhost:8080/"
        },
        "id": "2hhpSciGNUZW",
        "outputId": "043a9878-a002-4b57-feb1-698d96d6d781"
      },
      "execution_count": null,
      "outputs": [
        {
          "output_type": "execute_result",
          "data": {
            "text/plain": [
              "1"
            ]
          },
          "metadata": {},
          "execution_count": 33
        }
      ]
    },
    {
      "cell_type": "markdown",
      "source": [
        "---\n",
        "##**Assignment Operations**\n",
        "\n",
        "> Indented block\n",
        "\n",
        "---\n",
        "\n"
      ],
      "metadata": {
        "id": "oSGgJw8gNgm_"
      }
    },
    {
      "cell_type": "code",
      "source": [
        "I, J , K , L = 0, 100, 2, 2"
      ],
      "metadata": {
        "id": "dY6KtO3nNjJr"
      },
      "execution_count": null,
      "outputs": []
    },
    {
      "cell_type": "code",
      "source": [
        "J += L\n",
        "J"
      ],
      "metadata": {
        "colab": {
          "base_uri": "https://localhost:8080/"
        },
        "id": "uyz5YAM3Nl0j",
        "outputId": "ca981f9f-2f52-4be6-ca27-10ac36584673"
      },
      "execution_count": null,
      "outputs": [
        {
          "output_type": "execute_result",
          "data": {
            "text/plain": [
              "102"
            ]
          },
          "metadata": {},
          "execution_count": 41
        }
      ]
    },
    {
      "cell_type": "code",
      "source": [
        "H -= I\n",
        "H"
      ],
      "metadata": {
        "colab": {
          "base_uri": "https://localhost:8080/"
        },
        "id": "JZJvb90eOAYU",
        "outputId": "d9319854-4965-423d-8485-f2c1b024d394"
      },
      "execution_count": null,
      "outputs": [
        {
          "output_type": "execute_result",
          "data": {
            "text/plain": [
              "100"
            ]
          },
          "metadata": {},
          "execution_count": 42
        }
      ]
    },
    {
      "cell_type": "code",
      "source": [
        "J *= 3\n",
        "J"
      ],
      "metadata": {
        "colab": {
          "base_uri": "https://localhost:8080/"
        },
        "id": "ZdxWfzHfNnE-",
        "outputId": "714d7425-cd65-45a4-c154-868e7c4b0d1b"
      },
      "execution_count": null,
      "outputs": [
        {
          "output_type": "execute_result",
          "data": {
            "text/plain": [
              "306"
            ]
          },
          "metadata": {},
          "execution_count": 43
        }
      ]
    },
    {
      "cell_type": "code",
      "source": [
        "K **= 3\n",
        "K"
      ],
      "metadata": {
        "colab": {
          "base_uri": "https://localhost:8080/"
        },
        "id": "KYDlYI7IONbp",
        "outputId": "5f9cbdfd-dc40-48e1-fbec-d3432910aadd"
      },
      "execution_count": null,
      "outputs": [
        {
          "output_type": "execute_result",
          "data": {
            "text/plain": [
              "8"
            ]
          },
          "metadata": {},
          "execution_count": 44
        }
      ]
    },
    {
      "cell_type": "markdown",
      "source": [
        "---\n",
        "##**Comparators**\n",
        "\n",
        "> Indented block\n",
        "\n",
        "\n",
        "---"
      ],
      "metadata": {
        "id": "F3TSMhvqOTNf"
      }
    },
    {
      "cell_type": "code",
      "source": [
        "res_1, res_2, res_3 = 1,2.0,\"1\"\n",
        "true_val =1.0"
      ],
      "metadata": {
        "id": "iKuGUzvvOXCV"
      },
      "execution_count": null,
      "outputs": []
    },
    {
      "cell_type": "code",
      "source": [
        "## Equality\n",
        "res_1 == true_val"
      ],
      "metadata": {
        "colab": {
          "base_uri": "https://localhost:8080/"
        },
        "id": "v6aJeqUMObth",
        "outputId": "ed99577c-e75b-43a0-bb40-d4d74627778b"
      },
      "execution_count": null,
      "outputs": [
        {
          "output_type": "execute_result",
          "data": {
            "text/plain": [
              "True"
            ]
          },
          "metadata": {},
          "execution_count": 46
        }
      ]
    },
    {
      "cell_type": "code",
      "source": [
        "## Non-equality\n",
        "res_2 != true_val"
      ],
      "metadata": {
        "colab": {
          "base_uri": "https://localhost:8080/"
        },
        "id": "Ifo3nCI0Oe1W",
        "outputId": "bcc294c6-73d0-4632-be93-670facfccf92"
      },
      "execution_count": null,
      "outputs": [
        {
          "output_type": "execute_result",
          "data": {
            "text/plain": [
              "True"
            ]
          },
          "metadata": {},
          "execution_count": 47
        }
      ]
    },
    {
      "cell_type": "code",
      "source": [
        "## Inequality\n",
        "t1 = res_1 > res_2\n",
        "t2 = res_1 < res_2/2\n",
        "t3 = res_1 >= res_2/2\n",
        "t4 = res_1 <= res_2\n",
        "t1"
      ],
      "metadata": {
        "colab": {
          "base_uri": "https://localhost:8080/"
        },
        "id": "rE7YeBuQOgS1",
        "outputId": "2bd7b073-4c63-465f-dfdb-105e1722621f"
      },
      "execution_count": null,
      "outputs": [
        {
          "output_type": "execute_result",
          "data": {
            "text/plain": [
              "False"
            ]
          },
          "metadata": {},
          "execution_count": 48
        }
      ]
    },
    {
      "cell_type": "markdown",
      "source": [
        "---\n",
        "##**Logical**\n",
        "\n",
        "\n",
        "> Indented block\n",
        "\n",
        "\n",
        "---\n"
      ],
      "metadata": {
        "id": "YGSDuv2NOlJW"
      }
    },
    {
      "cell_type": "code",
      "source": [
        "res_1 == true_val"
      ],
      "metadata": {
        "colab": {
          "base_uri": "https://localhost:8080/"
        },
        "id": "0-fPpMR8Omih",
        "outputId": "0f656a21-b8db-4035-fa6c-ec32d054cf61"
      },
      "execution_count": null,
      "outputs": [
        {
          "output_type": "execute_result",
          "data": {
            "text/plain": [
              "True"
            ]
          },
          "metadata": {},
          "execution_count": 49
        }
      ]
    },
    {
      "cell_type": "code",
      "source": [
        "res_1 is true_val"
      ],
      "metadata": {
        "colab": {
          "base_uri": "https://localhost:8080/"
        },
        "id": "0lQGIubTOptj",
        "outputId": "fcdc0ceb-ed8b-45c7-8546-a2a3687b54f5"
      },
      "execution_count": null,
      "outputs": [
        {
          "output_type": "execute_result",
          "data": {
            "text/plain": [
              "False"
            ]
          },
          "metadata": {},
          "execution_count": 50
        }
      ]
    },
    {
      "cell_type": "code",
      "source": [
        "res_1 is not true_val"
      ],
      "metadata": {
        "colab": {
          "base_uri": "https://localhost:8080/"
        },
        "id": "cyriYGn9Or36",
        "outputId": "1a7f8940-b923-4a70-8aa5-d52b6ca32a37"
      },
      "execution_count": null,
      "outputs": [
        {
          "output_type": "execute_result",
          "data": {
            "text/plain": [
              "True"
            ]
          },
          "metadata": {},
          "execution_count": 51
        }
      ]
    },
    {
      "cell_type": "code",
      "source": [
        "P,Q = True, False\n",
        "conj = P and Q\n",
        "conj"
      ],
      "metadata": {
        "colab": {
          "base_uri": "https://localhost:8080/"
        },
        "id": "Hl1zQpY4OubP",
        "outputId": "71c274bf-e0f4-4916-e868-f749de8f2715"
      },
      "execution_count": null,
      "outputs": [
        {
          "output_type": "execute_result",
          "data": {
            "text/plain": [
              "False"
            ]
          },
          "metadata": {},
          "execution_count": 52
        }
      ]
    },
    {
      "cell_type": "code",
      "source": [
        "P, Q = True, False\n",
        "disj = P or Q\n",
        "disj"
      ],
      "metadata": {
        "colab": {
          "base_uri": "https://localhost:8080/"
        },
        "id": "AKvBBViSO04o",
        "outputId": "798b0c19-7330-4729-c2d0-e22c778bfa0d"
      },
      "execution_count": null,
      "outputs": [
        {
          "output_type": "execute_result",
          "data": {
            "text/plain": [
              "True"
            ]
          },
          "metadata": {},
          "execution_count": 53
        }
      ]
    },
    {
      "cell_type": "code",
      "source": [
        "P, Q = True, False\n",
        "nand = not(P and Q)\n",
        "nand"
      ],
      "metadata": {
        "colab": {
          "base_uri": "https://localhost:8080/"
        },
        "id": "5AdnNN4-O5Ao",
        "outputId": "ee091a78-b011-4bd7-d62b-b8837909382d"
      },
      "execution_count": null,
      "outputs": [
        {
          "output_type": "execute_result",
          "data": {
            "text/plain": [
              "True"
            ]
          },
          "metadata": {},
          "execution_count": 54
        }
      ]
    },
    {
      "cell_type": "code",
      "source": [
        "P, Q= True, False\n",
        "xor = (not P and Q) or (P and not Q)\n",
        "xor"
      ],
      "metadata": {
        "colab": {
          "base_uri": "https://localhost:8080/"
        },
        "id": "mpmlDs2cPCfL",
        "outputId": "39416610-9a9b-4444-9189-d13e351e1829"
      },
      "execution_count": null,
      "outputs": [
        {
          "output_type": "execute_result",
          "data": {
            "text/plain": [
              "True"
            ]
          },
          "metadata": {},
          "execution_count": 55
        }
      ]
    },
    {
      "cell_type": "markdown",
      "source": [
        "---\n",
        "##**I/O**\n",
        "\n",
        "\n",
        "> Indented block\n",
        "\n",
        "\n",
        "---"
      ],
      "metadata": {
        "id": "j0fzizNgPLZq"
      }
    },
    {
      "cell_type": "code",
      "source": [
        "print(\"Hello World\")"
      ],
      "metadata": {
        "colab": {
          "base_uri": "https://localhost:8080/"
        },
        "id": "KuVGy4-ZPOd8",
        "outputId": "9102de0d-53f3-4f9e-cc13-54c8ed9da6d3"
      },
      "execution_count": null,
      "outputs": [
        {
          "output_type": "stream",
          "name": "stdout",
          "text": [
            "Hello World\n"
          ]
        }
      ]
    },
    {
      "cell_type": "code",
      "source": [
        "cnt = 1"
      ],
      "metadata": {
        "id": "3hRB2r9IPQpz"
      },
      "execution_count": null,
      "outputs": []
    },
    {
      "cell_type": "code",
      "source": [
        "string = \"Hello World\"\n",
        "print (string, \", Current run count is:\", cnt)\n",
        "cnt += 1"
      ],
      "metadata": {
        "colab": {
          "base_uri": "https://localhost:8080/"
        },
        "id": "vT_rmdqrPTD3",
        "outputId": "ec19b9fb-bae8-4d9b-c5e1-ce6e7c3d9106"
      },
      "execution_count": null,
      "outputs": [
        {
          "output_type": "stream",
          "name": "stdout",
          "text": [
            "Hello World , Current run count is: 1\n"
          ]
        }
      ]
    },
    {
      "cell_type": "code",
      "source": [
        "print(f\"{string}, Current count is: {cnt}\")"
      ],
      "metadata": {
        "colab": {
          "base_uri": "https://localhost:8080/"
        },
        "id": "26n1fA-yPWpg",
        "outputId": "98b7d7cf-2d89-46e1-aa96-b1fd46e85c4f"
      },
      "execution_count": null,
      "outputs": [
        {
          "output_type": "stream",
          "name": "stdout",
          "text": [
            "Hello World, Current count is: 2\n"
          ]
        }
      ]
    },
    {
      "cell_type": "code",
      "source": [
        "sem_grade = 82.243564657746123\n",
        "name = \"Ja\"\n",
        "print(\"Hello {}, your semestral grade is: {}\".format(name, sem_grade))"
      ],
      "metadata": {
        "colab": {
          "base_uri": "https://localhost:8080/"
        },
        "id": "g8sDKmDCPaEW",
        "outputId": "bb094dbd-9006-4bd9-cd82-970f7b992f88"
      },
      "execution_count": null,
      "outputs": [
        {
          "output_type": "stream",
          "name": "stdout",
          "text": [
            "Hello Ja, your semestral grade is: 82.24356465774612\n"
          ]
        }
      ]
    },
    {
      "cell_type": "code",
      "source": [
        "pre,mid,fin = 0.25, 0.25, 0.3\n",
        "print(\"The weights of your semestral grade are:\\\n",
        "      \\n\\t{:.2%} for Prelims,\\\n",
        "      \\n\\t{:.2%} for Midterms, and\\\n",
        "      \\n\\t{:.2%} for Finals.\".format(pre,mid,fin))"
      ],
      "metadata": {
        "colab": {
          "base_uri": "https://localhost:8080/"
        },
        "id": "PjGe1ab9HQ60",
        "outputId": "31626993-539b-41a4-b416-e5a67e9f6676"
      },
      "execution_count": null,
      "outputs": [
        {
          "output_type": "stream",
          "name": "stdout",
          "text": [
            "The weights of your semestral grade are:      \n",
            "\t25.00% for Prelims,      \n",
            "\t25.00% for Midterms, and      \n",
            "\t30.00% for Finals.\n"
          ]
        }
      ]
    },
    {
      "cell_type": "code",
      "source": [
        "q= input(\"Enter your name: \")\n",
        "q"
      ],
      "metadata": {
        "colab": {
          "base_uri": "https://localhost:8080/",
          "height": 53
        },
        "id": "zYBe_iMYHiSD",
        "outputId": "fa1ef9fe-0047-4476-e741-b53bccbbc488"
      },
      "execution_count": null,
      "outputs": [
        {
          "name": "stdout",
          "output_type": "stream",
          "text": [
            "Enter your name: AHe\n"
          ]
        },
        {
          "output_type": "execute_result",
          "data": {
            "application/vnd.google.colaboratory.intrinsic+json": {
              "type": "string"
            },
            "text/plain": [
              "'AHe'"
            ]
          },
          "metadata": {},
          "execution_count": 6
        }
      ]
    },
    {
      "cell_type": "code",
      "source": [
        "name = input (\"Your name: \")\n",
        "pr = input(\"Enter Prelim: \")\n",
        "md = input(\"Enter Midterm: \")\n",
        "fn = input(\"Enter Final: \")\n",
        "sg = 85\n",
        "print(\"Hello {}, your semestral grade is: {}\".format(name,sg))"
      ],
      "metadata": {
        "colab": {
          "base_uri": "https://localhost:8080/"
        },
        "id": "uRHcsst4HyFu",
        "outputId": "b69a80c1-55cf-46c0-98fa-3d91f5a42243"
      },
      "execution_count": null,
      "outputs": [
        {
          "output_type": "stream",
          "name": "stdout",
          "text": [
            "Your name: Ahe\n",
            "Enter Prelim: 10\n",
            "Enter Midterm: 23\n",
            "Enter Final: 40\n",
            "Hello Ahe, your semestral grade is: 85\n"
          ]
        }
      ]
    },
    {
      "cell_type": "markdown",
      "source": [
        "#**Looping Statements**\n",
        "---\n",
        "---\n",
        "\n",
        "\n",
        "\n",
        "> Indented block\n",
        "\n",
        "\n",
        "---\n",
        "---"
      ],
      "metadata": {
        "id": "c6C2XEuoQInZ"
      }
    },
    {
      "cell_type": "markdown",
      "source": [
        "\n",
        "\n",
        "---\n",
        "\n",
        "\n",
        "###**While**\n",
        "\n",
        "\n",
        "> Indented block\n",
        "\n",
        "\n",
        "\n",
        "---\n",
        "\n"
      ],
      "metadata": {
        "id": "ZAsZxyuAQL94"
      }
    },
    {
      "cell_type": "code",
      "source": [
        "## While Looping\n",
        "s , k = 1,5\n",
        "while(s<=k):\n",
        "  print(f\"{s}\\t|\\t{k}\")\n",
        "  s+=1\n"
      ],
      "metadata": {
        "colab": {
          "base_uri": "https://localhost:8080/"
        },
        "id": "6F0EtqepIElZ",
        "outputId": "3823aeb1-0997-42b0-83b0-946563ccbd34"
      },
      "execution_count": null,
      "outputs": [
        {
          "output_type": "stream",
          "name": "stdout",
          "text": [
            "1\t|\t5\n",
            "2\t|\t5\n",
            "3\t|\t5\n",
            "4\t|\t5\n",
            "5\t|\t5\n"
          ]
        }
      ]
    },
    {
      "cell_type": "markdown",
      "source": [
        "\n",
        "---\n",
        "###**For**\n",
        "\n",
        "\n",
        "> Indented block\n",
        "\n",
        "\n",
        "\n",
        "---"
      ],
      "metadata": {
        "id": "gWDwl0oQQPZt"
      }
    },
    {
      "cell_type": "code",
      "source": [
        "# for (int p=0; p<10; i++){\n",
        "# printf(p)}\n",
        "\n",
        "p=0\n",
        "for p in range(11):\n",
        "  print (p)"
      ],
      "metadata": {
        "colab": {
          "base_uri": "https://localhost:8080/"
        },
        "id": "fNHK8QbzIOOm",
        "outputId": "5c5813e1-d168-423d-9ed2-3556befc9fac"
      },
      "execution_count": null,
      "outputs": [
        {
          "output_type": "stream",
          "name": "stdout",
          "text": [
            "0\n",
            "1\n",
            "2\n",
            "3\n",
            "4\n",
            "5\n",
            "6\n",
            "7\n",
            "8\n",
            "9\n",
            "10\n"
          ]
        }
      ]
    },
    {
      "cell_type": "code",
      "source": [
        "playlist = [\"소리꾼\", \"기도\", \"All Too Well\"]\n",
        "print('Now Playing:\\n')\n",
        "for song in playlist:\n",
        "  print(song)"
      ],
      "metadata": {
        "colab": {
          "base_uri": "https://localhost:8080/"
        },
        "id": "whpGUVLfIU6C",
        "outputId": "d5fde327-ba8e-4cac-8fdb-11f04330c9f1"
      },
      "execution_count": null,
      "outputs": [
        {
          "output_type": "stream",
          "name": "stdout",
          "text": [
            "Now Playing:\n",
            "\n",
            "소리꾼\n",
            "기도\n",
            "All Too Well\n"
          ]
        }
      ]
    },
    {
      "cell_type": "markdown",
      "source": [
        "#**Flow Control**\n",
        "---\n",
        "---\n",
        "\n",
        "> Indented block\n",
        "\n",
        "---\n",
        "---"
      ],
      "metadata": {
        "id": "P09wf5zNIwR6"
      }
    },
    {
      "cell_type": "markdown",
      "source": [
        "---\n",
        "##**Condition Statements**\n",
        "\n",
        "> Indented block\n",
        "\n",
        "\n",
        "\n",
        "---"
      ],
      "metadata": {
        "id": "jofNXhhtJFjI"
      }
    },
    {
      "cell_type": "code",
      "source": [
        "num1, num2 = 15,1\n",
        "if(num1<num2): \n",
        "  print(\"Yes\")\n",
        "elif(num1>num2):\n",
        "  print(\"Hehe\")\n",
        "else:\n",
        "  print(\"eme\")"
      ],
      "metadata": {
        "colab": {
          "base_uri": "https://localhost:8080/"
        },
        "id": "cwPft4ptI4rC",
        "outputId": "f1ff96d0-1b6d-4e98-c1b4-6ad068137e3a"
      },
      "execution_count": null,
      "outputs": [
        {
          "output_type": "stream",
          "name": "stdout",
          "text": [
            "Hehe\n"
          ]
        }
      ]
    },
    {
      "cell_type": "markdown",
      "source": [
        "---\n",
        "##**Function**\n",
        "\n",
        "\n",
        "> Indented block\n",
        "\n",
        "\n",
        "\n",
        "---"
      ],
      "metadata": {
        "id": "yAWJGj7iJB6C"
      }
    },
    {
      "cell_type": "code",
      "source": [
        "# void DeleteUser(int username){\n",
        "# delete(username); }\n",
        "\n",
        "def delete_u (username):\n",
        "  print(\"Finished Deleting user: {}\".format(username))\n",
        "\n",
        "def delete_allu():\n",
        "  print(\"Finished Deleting all users\")\n",
        "\n",
        "username = 20201000\n",
        "delete_u(20201000)\n",
        "delete_allu()"
      ],
      "metadata": {
        "colab": {
          "base_uri": "https://localhost:8080/"
        },
        "id": "kAuo_9d7JVDh",
        "outputId": "b9dea078-328a-4017-e6c0-9cc862da5ad4"
      },
      "execution_count": null,
      "outputs": [
        {
          "output_type": "stream",
          "name": "stdout",
          "text": [
            "Finished Deleting user: 20201000\n",
            "Finished Deleting all users\n"
          ]
        }
      ]
    },
    {
      "cell_type": "code",
      "source": [
        "def add(nume1, nume2):\n",
        "  print(\"I know how to add nume1 and nume2\")\n",
        "  return nume1 + nume2\n",
        "\n",
        "def power_base2(exponent):\n",
        "  return 2**exponent\n",
        "\n",
        "nume1 = 10\n",
        "nume2 = 5\n",
        "\n",
        "exponent=5 \n",
        "#add(nume1,nume2)\n",
        "power_base2(exponent)"
      ],
      "metadata": {
        "colab": {
          "base_uri": "https://localhost:8080/"
        },
        "id": "ZDAfbCBXJg_Z",
        "outputId": "20346bae-d815-408f-8b89-716c9931d931"
      },
      "execution_count": null,
      "outputs": [
        {
          "output_type": "execute_result",
          "data": {
            "text/plain": [
              "32"
            ]
          },
          "metadata": {},
          "execution_count": 15
        }
      ]
    },
    {
      "cell_type": "markdown",
      "source": [
        "---\n",
        "---\n",
        "#**Lambda Functions**\n",
        "\n",
        "> Indented block\n",
        "\n",
        "---\n",
        "---\n",
        "\n",
        "\n",
        "\n"
      ],
      "metadata": {
        "id": "7YgK8PjHQxrC"
      }
    },
    {
      "cell_type": "markdown",
      "source": [
        "\n",
        "```\n",
        "Activity & Lab Report\n",
        "```\n",
        "#***Grade Calculator***\n",
        "---\n",
        "\n",
        "Create a **grade calculator** that computes for the semestral grade of a course.\n",
        "\n",
        "Students could *type their names*, the *name of the course, then their prelim, midterm, and final grade*.\n",
        "\n",
        "The program should *print the semestral grade in 2 decimal points* and should display the folowing emojis depending on the situation:\n",
        "\n",
        "**happy** - when *grade is greater than 70.00*\n",
        "\n",
        "**laughing** - when *grade is exactly 70.00*\n",
        "\n",
        "**sad** - when *grade is below 70.00*\n",
        "\n",
        "---\n",
        "\n",
        "####**USE THESE EMOJIS:**\n",
        "\n",
        "Happy:\n",
        "```\n",
        "\"\\U0001F600\"\n",
        "```\n",
        "LOL:\n",
        "```\n",
        "\"\\U0001F606\"\n",
        "```\n",
        "Sad:\n",
        "\n",
        "```\n",
        "\"\\U0001F62D\"\n",
        "```\n",
        "---\n",
        "---"
      ],
      "metadata": {
        "id": "Jq3Purx_HIPf"
      }
    },
    {
      "cell_type": "code",
      "source": [
        "\"\\U0001F600 \""
      ],
      "metadata": {
        "colab": {
          "base_uri": "https://localhost:8080/",
          "height": 35
        },
        "id": "bOud2bxkJrEt",
        "outputId": "35c0b9e7-9b86-4320-bab8-cc99b88c9595"
      },
      "execution_count": null,
      "outputs": [
        {
          "output_type": "execute_result",
          "data": {
            "application/vnd.google.colaboratory.intrinsic+json": {
              "type": "string"
            },
            "text/plain": [
              "'😀 '"
            ]
          },
          "metadata": {},
          "execution_count": 19
        }
      ]
    },
    {
      "cell_type": "code",
      "source": [
        "\"\\U0001F62D \""
      ],
      "metadata": {
        "colab": {
          "base_uri": "https://localhost:8080/",
          "height": 35
        },
        "id": "0_CPlbG9JvSB",
        "outputId": "a6905e83-0335-4ded-e3b1-d78874a206e8"
      },
      "execution_count": null,
      "outputs": [
        {
          "output_type": "execute_result",
          "data": {
            "application/vnd.google.colaboratory.intrinsic+json": {
              "type": "string"
            },
            "text/plain": [
              "'😭 '"
            ]
          },
          "metadata": {},
          "execution_count": 17
        }
      ]
    },
    {
      "cell_type": "code",
      "source": [
        "\"\\U0001F606 \""
      ],
      "metadata": {
        "colab": {
          "base_uri": "https://localhost:8080/",
          "height": 35
        },
        "id": "i5HMHO1EJxPn",
        "outputId": "1b324c20-5dec-404a-eed8-1e5a289158fc"
      },
      "execution_count": null,
      "outputs": [
        {
          "output_type": "execute_result",
          "data": {
            "application/vnd.google.colaboratory.intrinsic+json": {
              "type": "string"
            },
            "text/plain": [
              "'😆 '"
            ]
          },
          "metadata": {},
          "execution_count": 18
        }
      ]
    },
    {
      "cell_type": "code",
      "execution_count": null,
      "metadata": {
        "colab": {
          "base_uri": "https://localhost:8080/"
        },
        "id": "eJH3r5t-Ad0o",
        "outputId": "52b53c9f-e908-4376-8f22-1bd59d09d483"
      },
      "outputs": [
        {
          "output_type": "stream",
          "name": "stdout",
          "text": [
            "Student Name [INPUT FULL NAME]: jdshklgh\n",
            "Student ID: 405687\n",
            "\n",
            "Prelim Grade: 60\n",
            "Midterm Grade: 50\n",
            "Final Grade: 40\n",
            "\n",
            "Student: jdshklgh\n",
            "ID: 405687\n",
            "Your Semestral Grade is 50.0\n",
            "😭\n"
          ]
        }
      ],
      "source": [
        "name = input(\"Student Name [INPUT FULL NAME]: \")\n",
        "studid = input(\"Student ID: \")\n",
        "print()\n",
        "Prelims = float(input(\"Prelim Grade: \"))\n",
        "Midterms = float(input(\"Midterm Grade: \"))\n",
        "Finals = float(input(\"Final Grade: \"))\n",
        "Total = (Prelims) + (Midterms) + (Finals)\n",
        "Sem = Total/3\n",
        "Sem = float(round(Sem,2))\n",
        "print()\n",
        "print(\"Student: {}\".format(name))\n",
        "print(\"ID: {}\".format(studid))\n",
        "print(\"Your Semestral Grade is {}\".format(Sem))\n",
        "if Sem > 70.00:\n",
        "  print(\"\\U0001F606\")\n",
        "elif Sem == 70.00:\n",
        "  print(\"\\U0001F600\")\n",
        "else:\n",
        "  print(\"\\U0001F62D\")"
      ]
    }
  ]
}