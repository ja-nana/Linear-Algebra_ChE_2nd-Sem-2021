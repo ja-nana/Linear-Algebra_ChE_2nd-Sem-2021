{
  "nbformat": 4,
  "nbformat_minor": 0,
  "metadata": {
    "colab": {
      "name": "Assignment1_Siena_Vertudes",
      "provenance": [],
      "collapsed_sections": [],
      "include_colab_link": true
    },
    "kernelspec": {
      "name": "python3",
      "display_name": "Python 3"
    },
    "language_info": {
      "name": "python"
    }
  },
  "cells": [
    {
      "cell_type": "markdown",
      "metadata": {
        "id": "view-in-github",
        "colab_type": "text"
      },
      "source": [
        "<a href=\"https://colab.research.google.com/github/ja-nana/Linear-Algebra_ChE_2nd-Sem-2021/blob/main/Assignment1_Siena_Vertudes.ipynb\" target=\"_parent\"><img src=\"https://colab.research.google.com/assets/colab-badge.svg\" alt=\"Open In Colab\"/></a>"
      ]
    },
    {
      "cell_type": "markdown",
      "source": [
        "---\n",
        "# **Welcome to Python Fundamentals**\n",
        "---\n",
        "---\n",
        "\n",
        "In this module, we are going to establish or review our skills in Python programming. In this notebook we are going to cover:\n",
        "\n",
        "* *Variables and Data Types*\n",
        "* *Operations*\n",
        "* *Input and Output Operations*\n",
        "* *Logic Control*\n",
        "* *Iterables*\n",
        "* *Functions*\n",
        "---\n",
        "---\n"
      ],
      "metadata": {
        "id": "is1pRnf_FpLC"
      }
    },
    {
      "cell_type": "markdown",
      "source": [
        "##**Variables and Data Types**\n",
        "---\n",
        "---\n",
        "\n",
        "> **Variables** are the identifiers of the values or data assigned to them. You may also refer to them as the \"nouns\" of the programming language because they are the placeholders for their respective values. Every variable has a data type, which affects how they interact with other variables and operators.\n",
        "\n",
        "\n",
        "---\n",
        "\n",
        "\n",
        "> **Data Types** are the different categories of data. They represent whether a value is numerical or a string value, including non-numerical characters. Boolean values are also included here, representing whether a statement is true or false.\n",
        "\n",
        "\n",
        "---\n",
        "---"
      ],
      "metadata": {
        "id": "0Xr5zQgkFxG8"
      }
    },
    {
      "cell_type": "code",
      "source": [
        "x=1\n",
        "y,z= 0,-2\n",
        "y"
      ],
      "metadata": {
        "colab": {
          "base_uri": "https://localhost:8080/"
        },
        "id": "E71T5u7NGcKj",
        "outputId": "4879e591-dde3-4055-ef73-c5eadb489345"
      },
      "execution_count": null,
      "outputs": [
        {
          "output_type": "execute_result",
          "data": {
            "text/plain": [
              "0"
            ]
          },
          "metadata": {},
          "execution_count": 15
        }
      ]
    },
    {
      "cell_type": "code",
      "source": [
        "type(x)"
      ],
      "metadata": {
        "id": "eAiaKETKGzVI",
        "colab": {
          "base_uri": "https://localhost:8080/"
        },
        "outputId": "0e74131d-718b-4cd3-c66a-970942e6ae7f"
      },
      "execution_count": null,
      "outputs": [
        {
          "output_type": "execute_result",
          "data": {
            "text/plain": [
              "int"
            ]
          },
          "metadata": {},
          "execution_count": 16
        }
      ]
    },
    {
      "cell_type": "code",
      "source": [
        "r = 2.0\n",
        "type(r)"
      ],
      "metadata": {
        "colab": {
          "base_uri": "https://localhost:8080/"
        },
        "id": "c4RUTruAME-f",
        "outputId": "513b20cb-4602-4e18-897e-6784795c967c"
      },
      "execution_count": null,
      "outputs": [
        {
          "output_type": "execute_result",
          "data": {
            "text/plain": [
              "float"
            ]
          },
          "metadata": {},
          "execution_count": 13
        }
      ]
    },
    {
      "cell_type": "code",
      "source": [
        "t = float(x)\n",
        "type(t)"
      ],
      "metadata": {
        "colab": {
          "base_uri": "https://localhost:8080/"
        },
        "id": "XlzP3kpaMLX3",
        "outputId": "687cace5-1b07-44b2-bfe4-b39afab3a442"
      },
      "execution_count": null,
      "outputs": [
        {
          "output_type": "execute_result",
          "data": {
            "text/plain": [
              "float"
            ]
          },
          "metadata": {},
          "execution_count": 17
        }
      ]
    },
    {
      "cell_type": "code",
      "source": [
        "s,k,u = \"0\", '1', 'one'\n",
        "type(u)"
      ],
      "metadata": {
        "colab": {
          "base_uri": "https://localhost:8080/"
        },
        "id": "Zh7CQBe7MQvR",
        "outputId": "e22860b3-ba14-45f2-e582-7c36296de383"
      },
      "execution_count": null,
      "outputs": [
        {
          "output_type": "execute_result",
          "data": {
            "text/plain": [
              "str"
            ]
          },
          "metadata": {},
          "execution_count": 23
        }
      ]
    },
    {
      "cell_type": "code",
      "source": [
        "k_int = int(k)\n",
        "k_int\n",
        "type(k)"
      ],
      "metadata": {
        "colab": {
          "base_uri": "https://localhost:8080/"
        },
        "id": "QJBXPGLlMTn6",
        "outputId": "b7b31de5-c822-4863-a4a7-4addccdeef11"
      },
      "execution_count": null,
      "outputs": [
        {
          "output_type": "execute_result",
          "data": {
            "text/plain": [
              "str"
            ]
          },
          "metadata": {},
          "execution_count": 25
        }
      ]
    },
    {
      "cell_type": "markdown",
      "source": [
        "#**Operations**\n",
        "---\n",
        "---\n",
        "\n",
        "> These are the set of characters which decide the program's course of action. The operations to be discussed are as follows:\n",
        "*  *Arithmetic Operations*\n",
        "*  *Assignment Operations*\n",
        "*  *Comparators*\n",
        "*  *Logical Operations*\n",
        "*  *Input/Output Operations*\n",
        "\n",
        "---\n",
        "---"
      ],
      "metadata": {
        "id": "7dS18EMMGClZ"
      }
    },
    {
      "cell_type": "markdown",
      "source": [
        "---\n",
        "##**Arithmetic**\n",
        "\n",
        "> Arithmetic Operators are used with numerical values in order to perform arithmetic, or common mathematical operations.\n",
        "\n",
        "\n",
        "\n",
        "---"
      ],
      "metadata": {
        "id": "lRbCj-SWJQ9X"
      }
    },
    {
      "cell_type": "code",
      "source": [
        "a,b,c,d = 5,6,7,8"
      ],
      "metadata": {
        "id": "WH8tSmFuG6oo"
      },
      "execution_count": null,
      "outputs": []
    },
    {
      "cell_type": "code",
      "source": [
        "#Addition\n",
        "S = a+b\n",
        "S"
      ],
      "metadata": {
        "colab": {
          "base_uri": "https://localhost:8080/"
        },
        "id": "xequwU0cHAyn",
        "outputId": "9d0d66d6-2114-427e-ea97-5f3d49af0ffb"
      },
      "execution_count": null,
      "outputs": [
        {
          "output_type": "execute_result",
          "data": {
            "text/plain": [
              "11"
            ]
          },
          "metadata": {},
          "execution_count": 2
        }
      ]
    },
    {
      "cell_type": "code",
      "source": [
        "#Subtraction\n",
        "M = c-a\n",
        "M"
      ],
      "metadata": {
        "colab": {
          "base_uri": "https://localhost:8080/"
        },
        "id": "tcueeByJMtem",
        "outputId": "141d61bf-3ae4-4e61-fcb8-72967b0d0c9f"
      },
      "execution_count": null,
      "outputs": [
        {
          "output_type": "execute_result",
          "data": {
            "text/plain": [
              "2"
            ]
          },
          "metadata": {},
          "execution_count": 3
        }
      ]
    },
    {
      "cell_type": "code",
      "source": [
        "#Multiplication\n",
        "X = a*d\n",
        "X"
      ],
      "metadata": {
        "colab": {
          "base_uri": "https://localhost:8080/"
        },
        "id": "XjhllMwmM3Dn",
        "outputId": "d5469fea-d440-4db6-974b-4415b651d872"
      },
      "execution_count": null,
      "outputs": [
        {
          "output_type": "execute_result",
          "data": {
            "text/plain": [
              "40"
            ]
          },
          "metadata": {},
          "execution_count": 4
        }
      ]
    },
    {
      "cell_type": "code",
      "source": [
        "#Division\n",
        "H = c/a\n",
        "H"
      ],
      "metadata": {
        "colab": {
          "base_uri": "https://localhost:8080/"
        },
        "id": "HWXXWF-gM9H-",
        "outputId": "5d541972-d131-439e-8924-fe40d2fd04fb"
      },
      "execution_count": null,
      "outputs": [
        {
          "output_type": "execute_result",
          "data": {
            "text/plain": [
              "1.4"
            ]
          },
          "metadata": {},
          "execution_count": 5
        }
      ]
    },
    {
      "cell_type": "code",
      "source": [
        "#Floor Division\n",
        "HD = d//b\n",
        "HD"
      ],
      "metadata": {
        "colab": {
          "base_uri": "https://localhost:8080/"
        },
        "id": "k_JOsce8NF5f",
        "outputId": "dbd3dea2-409c-4c1f-e9cf-c43568876bb3"
      },
      "execution_count": null,
      "outputs": [
        {
          "output_type": "execute_result",
          "data": {
            "text/plain": [
              "1"
            ]
          },
          "metadata": {},
          "execution_count": 6
        }
      ]
    },
    {
      "cell_type": "code",
      "source": [
        "#Exponentiation\n",
        "E = b**a\n",
        "E"
      ],
      "metadata": {
        "colab": {
          "base_uri": "https://localhost:8080/"
        },
        "id": "EWKKnxR5My-q",
        "outputId": "b61fc395-09e1-433c-a29e-5d895096bb85"
      },
      "execution_count": null,
      "outputs": [
        {
          "output_type": "execute_result",
          "data": {
            "text/plain": [
              "7776"
            ]
          },
          "metadata": {},
          "execution_count": 7
        }
      ]
    },
    {
      "cell_type": "code",
      "source": [
        "#Modulo\n",
        "MOD = c%b\n",
        "MOD"
      ],
      "metadata": {
        "colab": {
          "base_uri": "https://localhost:8080/"
        },
        "id": "2hhpSciGNUZW",
        "outputId": "cb0aec3b-b992-4e31-eae9-b4d5527108a8"
      },
      "execution_count": null,
      "outputs": [
        {
          "output_type": "execute_result",
          "data": {
            "text/plain": [
              "1"
            ]
          },
          "metadata": {},
          "execution_count": 8
        }
      ]
    },
    {
      "cell_type": "markdown",
      "source": [
        "---\n",
        "##**Assignment Operations**\n",
        "\n",
        "> Assignment Operators are used to assign values to variables or to change already existing values. These operations could also be used in logical operations.\n",
        "---\n",
        "\n"
      ],
      "metadata": {
        "id": "oSGgJw8gNgm_"
      }
    },
    {
      "cell_type": "code",
      "source": [
        "I, J , K , L = 0, 100, 2, 2"
      ],
      "metadata": {
        "id": "dY6KtO3nNjJr"
      },
      "execution_count": null,
      "outputs": []
    },
    {
      "cell_type": "code",
      "source": [
        "J += L\n",
        "J"
      ],
      "metadata": {
        "colab": {
          "base_uri": "https://localhost:8080/"
        },
        "id": "uyz5YAM3Nl0j",
        "outputId": "5d8a5809-fd1a-419f-8148-7a231dd14537"
      },
      "execution_count": null,
      "outputs": [
        {
          "output_type": "execute_result",
          "data": {
            "text/plain": [
              "102"
            ]
          },
          "metadata": {},
          "execution_count": 10
        }
      ]
    },
    {
      "cell_type": "code",
      "source": [
        "H -= I\n",
        "H"
      ],
      "metadata": {
        "colab": {
          "base_uri": "https://localhost:8080/"
        },
        "id": "JZJvb90eOAYU",
        "outputId": "69cc7ec7-c8e7-4952-a7b3-355f24088c6e"
      },
      "execution_count": null,
      "outputs": [
        {
          "output_type": "execute_result",
          "data": {
            "text/plain": [
              "1.4"
            ]
          },
          "metadata": {},
          "execution_count": 11
        }
      ]
    },
    {
      "cell_type": "code",
      "source": [
        "J *= 3\n",
        "J"
      ],
      "metadata": {
        "colab": {
          "base_uri": "https://localhost:8080/"
        },
        "id": "ZdxWfzHfNnE-",
        "outputId": "79b31281-20f7-4df4-e57e-ab6044b587d4"
      },
      "execution_count": null,
      "outputs": [
        {
          "output_type": "execute_result",
          "data": {
            "text/plain": [
              "306"
            ]
          },
          "metadata": {},
          "execution_count": 12
        }
      ]
    },
    {
      "cell_type": "code",
      "source": [
        "K **= 3\n",
        "K"
      ],
      "metadata": {
        "colab": {
          "base_uri": "https://localhost:8080/"
        },
        "id": "KYDlYI7IONbp",
        "outputId": "19007165-df7e-41b5-a24e-e0fe34eba384"
      },
      "execution_count": null,
      "outputs": [
        {
          "output_type": "execute_result",
          "data": {
            "text/plain": [
              "8"
            ]
          },
          "metadata": {},
          "execution_count": 13
        }
      ]
    },
    {
      "cell_type": "markdown",
      "source": [
        "---\n",
        "##**Comparators**\n",
        "\n",
        "> Comparators are the operations used to compare two values of the same data type. These operations return a *boolean* value, which is either *true* or *false*.\n",
        "\n",
        "\n",
        "---"
      ],
      "metadata": {
        "id": "F3TSMhvqOTNf"
      }
    },
    {
      "cell_type": "code",
      "source": [
        "res_1, res_2, res_3 = 1,2.0,\"1\"\n",
        "true_val =1.0"
      ],
      "metadata": {
        "id": "iKuGUzvvOXCV"
      },
      "execution_count": null,
      "outputs": []
    },
    {
      "cell_type": "code",
      "source": [
        "## Equality\n",
        "res_1 == true_val"
      ],
      "metadata": {
        "colab": {
          "base_uri": "https://localhost:8080/"
        },
        "id": "v6aJeqUMObth",
        "outputId": "6358f196-9109-4fc9-f527-45e7c69a9777"
      },
      "execution_count": null,
      "outputs": [
        {
          "output_type": "execute_result",
          "data": {
            "text/plain": [
              "True"
            ]
          },
          "metadata": {},
          "execution_count": 15
        }
      ]
    },
    {
      "cell_type": "code",
      "source": [
        "## Non-equality\n",
        "res_2 != true_val"
      ],
      "metadata": {
        "colab": {
          "base_uri": "https://localhost:8080/"
        },
        "id": "Ifo3nCI0Oe1W",
        "outputId": "7cbbf552-dc49-4931-f1e7-46dffe646b96"
      },
      "execution_count": null,
      "outputs": [
        {
          "output_type": "execute_result",
          "data": {
            "text/plain": [
              "True"
            ]
          },
          "metadata": {},
          "execution_count": 16
        }
      ]
    },
    {
      "cell_type": "code",
      "source": [
        "## Inequality\n",
        "t1 = res_1 > res_2\n",
        "t2 = res_1 < res_2/2\n",
        "t3 = res_1 >= res_2/2\n",
        "t4 = res_1 <= res_2\n",
        "t1"
      ],
      "metadata": {
        "colab": {
          "base_uri": "https://localhost:8080/"
        },
        "id": "rE7YeBuQOgS1",
        "outputId": "49dd400c-58dc-4d55-8752-c2dc452ed8e6"
      },
      "execution_count": null,
      "outputs": [
        {
          "output_type": "execute_result",
          "data": {
            "text/plain": [
              "False"
            ]
          },
          "metadata": {},
          "execution_count": 17
        }
      ]
    },
    {
      "cell_type": "markdown",
      "source": [
        "---\n",
        "##**Logical**\n",
        "\n",
        "\n",
        ">  Logical Operators are used to create conditional statements. These statements return a *boolean* value, which is either *true* or *false*, depending on the values given and the operator used.\n",
        "\n",
        "\n",
        "---\n"
      ],
      "metadata": {
        "id": "YGSDuv2NOlJW"
      }
    },
    {
      "cell_type": "code",
      "source": [
        "res_1 == true_val"
      ],
      "metadata": {
        "colab": {
          "base_uri": "https://localhost:8080/"
        },
        "id": "0-fPpMR8Omih",
        "outputId": "17234000-88dc-450a-d330-d7878e59ff25"
      },
      "execution_count": null,
      "outputs": [
        {
          "output_type": "execute_result",
          "data": {
            "text/plain": [
              "True"
            ]
          },
          "metadata": {},
          "execution_count": 18
        }
      ]
    },
    {
      "cell_type": "code",
      "source": [
        "res_1 is true_val"
      ],
      "metadata": {
        "colab": {
          "base_uri": "https://localhost:8080/"
        },
        "id": "0lQGIubTOptj",
        "outputId": "85b8ecab-3d02-4362-ba33-79f29f0f9414"
      },
      "execution_count": null,
      "outputs": [
        {
          "output_type": "execute_result",
          "data": {
            "text/plain": [
              "False"
            ]
          },
          "metadata": {},
          "execution_count": 19
        }
      ]
    },
    {
      "cell_type": "code",
      "source": [
        "res_1 is not true_val"
      ],
      "metadata": {
        "colab": {
          "base_uri": "https://localhost:8080/"
        },
        "id": "cyriYGn9Or36",
        "outputId": "608e2475-c936-4a53-c9de-1da5c9fc464d"
      },
      "execution_count": null,
      "outputs": [
        {
          "output_type": "execute_result",
          "data": {
            "text/plain": [
              "True"
            ]
          },
          "metadata": {},
          "execution_count": 20
        }
      ]
    },
    {
      "cell_type": "code",
      "source": [
        "P,Q = True, False\n",
        "conj = P and Q\n",
        "conj"
      ],
      "metadata": {
        "colab": {
          "base_uri": "https://localhost:8080/"
        },
        "id": "Hl1zQpY4OubP",
        "outputId": "893e7411-6ffe-47e5-c56f-a1d7e0ef2657"
      },
      "execution_count": null,
      "outputs": [
        {
          "output_type": "execute_result",
          "data": {
            "text/plain": [
              "False"
            ]
          },
          "metadata": {},
          "execution_count": 21
        }
      ]
    },
    {
      "cell_type": "code",
      "source": [
        "P, Q = True, False\n",
        "disj = P or Q\n",
        "disj"
      ],
      "metadata": {
        "colab": {
          "base_uri": "https://localhost:8080/"
        },
        "id": "AKvBBViSO04o",
        "outputId": "66a1b91b-01a0-48fb-8024-a586e545bb3b"
      },
      "execution_count": null,
      "outputs": [
        {
          "output_type": "execute_result",
          "data": {
            "text/plain": [
              "True"
            ]
          },
          "metadata": {},
          "execution_count": 22
        }
      ]
    },
    {
      "cell_type": "code",
      "source": [
        "P, Q = True, False\n",
        "nand = not(P and Q)\n",
        "nand"
      ],
      "metadata": {
        "colab": {
          "base_uri": "https://localhost:8080/"
        },
        "id": "5AdnNN4-O5Ao",
        "outputId": "1692a943-5c81-41a4-fe2d-1efc2e7a972a"
      },
      "execution_count": null,
      "outputs": [
        {
          "output_type": "execute_result",
          "data": {
            "text/plain": [
              "True"
            ]
          },
          "metadata": {},
          "execution_count": 23
        }
      ]
    },
    {
      "cell_type": "code",
      "source": [
        "P, Q= True, False\n",
        "xor = (not P and Q) or (P and not Q)\n",
        "xor"
      ],
      "metadata": {
        "colab": {
          "base_uri": "https://localhost:8080/"
        },
        "id": "mpmlDs2cPCfL",
        "outputId": "265c0d98-4085-4792-f5f8-ef6a96823ab9"
      },
      "execution_count": null,
      "outputs": [
        {
          "output_type": "execute_result",
          "data": {
            "text/plain": [
              "True"
            ]
          },
          "metadata": {},
          "execution_count": 24
        }
      ]
    },
    {
      "cell_type": "markdown",
      "source": [
        "---\n",
        "##**I/O: Input/Output**\n",
        "\n",
        "\n",
        "> The previous methods of defining variables has been to input the value into the code itself, but Input and Output operations allows for user interaction with the program itself. Through the *input()* statement, the user may assign any character to a variable. The *.format()* statement allows the user to make their output appear less cluttered.\n",
        "\n",
        "\n",
        "---"
      ],
      "metadata": {
        "id": "j0fzizNgPLZq"
      }
    },
    {
      "cell_type": "code",
      "source": [
        "print(\"Hello World\")"
      ],
      "metadata": {
        "colab": {
          "base_uri": "https://localhost:8080/"
        },
        "id": "KuVGy4-ZPOd8",
        "outputId": "0820f732-7082-4ab8-adba-1f739bd98519"
      },
      "execution_count": null,
      "outputs": [
        {
          "output_type": "stream",
          "name": "stdout",
          "text": [
            "Hello World\n"
          ]
        }
      ]
    },
    {
      "cell_type": "code",
      "source": [
        "cnt = 1"
      ],
      "metadata": {
        "id": "3hRB2r9IPQpz"
      },
      "execution_count": null,
      "outputs": []
    },
    {
      "cell_type": "code",
      "source": [
        "string = \"Hello World\"\n",
        "print (string, \", Current run count is:\", cnt)\n",
        "cnt += 1"
      ],
      "metadata": {
        "colab": {
          "base_uri": "https://localhost:8080/"
        },
        "id": "vT_rmdqrPTD3",
        "outputId": "869aaed9-1b52-44a3-b2bb-5ed40e96ca15"
      },
      "execution_count": null,
      "outputs": [
        {
          "output_type": "stream",
          "name": "stdout",
          "text": [
            "Hello World , Current run count is: 1\n"
          ]
        }
      ]
    },
    {
      "cell_type": "code",
      "source": [
        "print(f\"{string}, Current count is: {cnt}\")"
      ],
      "metadata": {
        "colab": {
          "base_uri": "https://localhost:8080/"
        },
        "id": "26n1fA-yPWpg",
        "outputId": "e244e445-4787-4af9-cd88-9d3d323f92e7"
      },
      "execution_count": null,
      "outputs": [
        {
          "output_type": "stream",
          "name": "stdout",
          "text": [
            "Hello World, Current count is: 2\n"
          ]
        }
      ]
    },
    {
      "cell_type": "code",
      "source": [
        "sem_grade = 82.243564657746123\n",
        "name = \"Ja\"\n",
        "print(\"Hello {}, your semestral grade is: {}\".format(name, sem_grade))"
      ],
      "metadata": {
        "colab": {
          "base_uri": "https://localhost:8080/"
        },
        "id": "g8sDKmDCPaEW",
        "outputId": "dcbe78d1-5e9d-4a7d-856c-daabc4395029"
      },
      "execution_count": null,
      "outputs": [
        {
          "output_type": "stream",
          "name": "stdout",
          "text": [
            "Hello Ja, your semestral grade is: 82.24356465774612\n"
          ]
        }
      ]
    },
    {
      "cell_type": "code",
      "source": [
        "pre,mid,fin = 0.25, 0.25, 0.5\n",
        "print(\"The weights of your semestral grade are:\\\n",
        "      \\n\\t{:.2%} for Prelims,\\\n",
        "      \\n\\t{:.2%} for Midterms, and\\\n",
        "      \\n\\t{:.2%} for Finals.\".format(pre,mid,fin))"
      ],
      "metadata": {
        "colab": {
          "base_uri": "https://localhost:8080/"
        },
        "id": "PjGe1ab9HQ60",
        "outputId": "cf25c46f-5e29-4eea-eb7c-60e601315084"
      },
      "execution_count": null,
      "outputs": [
        {
          "output_type": "stream",
          "name": "stdout",
          "text": [
            "The weights of your semestral grade are:      \n",
            "\t25.00% for Prelims,      \n",
            "\t25.00% for Midterms, and      \n",
            "\t50.00% for Finals.\n"
          ]
        }
      ]
    },
    {
      "cell_type": "code",
      "source": [
        "q= input(\"Enter your name: \")\n",
        "q"
      ],
      "metadata": {
        "colab": {
          "base_uri": "https://localhost:8080/",
          "height": 53
        },
        "id": "zYBe_iMYHiSD",
        "outputId": "a1661252-9b95-4e18-b1c5-da7d35b702be"
      },
      "execution_count": null,
      "outputs": [
        {
          "name": "stdout",
          "output_type": "stream",
          "text": [
            "Enter your name: Janus\n"
          ]
        },
        {
          "output_type": "execute_result",
          "data": {
            "application/vnd.google.colaboratory.intrinsic+json": {
              "type": "string"
            },
            "text/plain": [
              "'Janus'"
            ]
          },
          "metadata": {},
          "execution_count": 31
        }
      ]
    },
    {
      "cell_type": "code",
      "source": [
        "name = input (\"Your name: \")\n",
        "pr = input(\"Enter Prelim: \")\n",
        "md = input(\"Enter Midterm: \")\n",
        "fn = input(\"Enter Final: \")\n",
        "sg = 85\n",
        "print(\"Hello {}, your semestral grade is: {}\".format(name,sg))"
      ],
      "metadata": {
        "colab": {
          "base_uri": "https://localhost:8080/"
        },
        "id": "uRHcsst4HyFu",
        "outputId": "951e0be6-1319-46fc-e76d-edc617bf41a3"
      },
      "execution_count": null,
      "outputs": [
        {
          "output_type": "stream",
          "name": "stdout",
          "text": [
            "Your name: Janus\n",
            "Enter Prelim: 80.76\n",
            "Enter Midterm: 90.89\n",
            "Enter Final: 75.89\n",
            "Hello Janus, your semestral grade is: 85\n"
          ]
        }
      ]
    },
    {
      "cell_type": "markdown",
      "source": [
        "#**Looping Statements**\n",
        "---\n",
        "---\n",
        "\n",
        "\n",
        "\n",
        "> Looping Statements contain directions that repeat continuously until the statement's condition is achieved. \n",
        "\n",
        "\n",
        "---\n",
        "---"
      ],
      "metadata": {
        "id": "c6C2XEuoQInZ"
      }
    },
    {
      "cell_type": "markdown",
      "source": [
        "\n",
        "\n",
        "---\n",
        "\n",
        "\n",
        "###**While**\n",
        "\n",
        "\n",
        "> While Statements are a type of looping statement which *FIRST CHECKS* the condition before performing its instructions. It will continuously perform the instructions until the condition is proven *FALSE*.\n",
        "\n",
        "\n",
        "\n",
        "---\n",
        "\n"
      ],
      "metadata": {
        "id": "ZAsZxyuAQL94"
      }
    },
    {
      "cell_type": "code",
      "source": [
        "## While Looping\n",
        "s , k = 1,5\n",
        "while(s<=k):\n",
        "  print(f\"{s}\\t|\\t{k}\")\n",
        "  s+=1\n"
      ],
      "metadata": {
        "colab": {
          "base_uri": "https://localhost:8080/"
        },
        "id": "6F0EtqepIElZ",
        "outputId": "3823aeb1-0997-42b0-83b0-946563ccbd34"
      },
      "execution_count": null,
      "outputs": [
        {
          "output_type": "stream",
          "name": "stdout",
          "text": [
            "1\t|\t5\n",
            "2\t|\t5\n",
            "3\t|\t5\n",
            "4\t|\t5\n",
            "5\t|\t5\n"
          ]
        }
      ]
    },
    {
      "cell_type": "markdown",
      "source": [
        "\n",
        "---\n",
        "###**For**\n",
        "\n",
        "\n",
        "> For Loop Statements are used to perform a statement for each item or data in a set or range.\n",
        "\n",
        "\n",
        "\n",
        "---"
      ],
      "metadata": {
        "id": "gWDwl0oQQPZt"
      }
    },
    {
      "cell_type": "code",
      "source": [
        "# for (int p=0; p<10; i++){\n",
        "# printf(p)}\n",
        "\n",
        "p=0\n",
        "for p in range(11):\n",
        "  print (p)"
      ],
      "metadata": {
        "colab": {
          "base_uri": "https://localhost:8080/"
        },
        "id": "fNHK8QbzIOOm",
        "outputId": "5c5813e1-d168-423d-9ed2-3556befc9fac"
      },
      "execution_count": null,
      "outputs": [
        {
          "output_type": "stream",
          "name": "stdout",
          "text": [
            "0\n",
            "1\n",
            "2\n",
            "3\n",
            "4\n",
            "5\n",
            "6\n",
            "7\n",
            "8\n",
            "9\n",
            "10\n"
          ]
        }
      ]
    },
    {
      "cell_type": "code",
      "source": [
        "playlist = [\"소리꾼\", \"기도\", \"All Too Well\"]\n",
        "print('Now Playing:\\n')\n",
        "for song in playlist:\n",
        "  print(song)"
      ],
      "metadata": {
        "colab": {
          "base_uri": "https://localhost:8080/"
        },
        "id": "whpGUVLfIU6C",
        "outputId": "d5fde327-ba8e-4cac-8fdb-11f04330c9f1"
      },
      "execution_count": null,
      "outputs": [
        {
          "output_type": "stream",
          "name": "stdout",
          "text": [
            "Now Playing:\n",
            "\n",
            "소리꾼\n",
            "기도\n",
            "All Too Well\n"
          ]
        }
      ]
    },
    {
      "cell_type": "markdown",
      "source": [
        "#**Flow Control**\n",
        "---\n",
        "---\n",
        "\n",
        "> Flow Control is used to determine the sequence in which the program's statements run. This is either sequential or conditional.\n",
        "\n",
        "---\n",
        "---"
      ],
      "metadata": {
        "id": "P09wf5zNIwR6"
      }
    },
    {
      "cell_type": "markdown",
      "source": [
        "---\n",
        "##**Condition Statements**\n",
        "\n",
        "> Conditional Statements includes the *if()*, *elif()*, and *else()* statements. The program checks the conditions for each statement and if the value is determined to be *TRUE*, then the program proceeds to perform that specific condition. If determined as *FALSE*, then the program moves on the to the next statement.\n",
        "\n",
        "\n",
        "\n",
        "---"
      ],
      "metadata": {
        "id": "jofNXhhtJFjI"
      }
    },
    {
      "cell_type": "code",
      "source": [
        "num1, num2 = 15,1\n",
        "if(num1<num2): \n",
        "  print(\"Yes\")\n",
        "elif(num1>num2):\n",
        "  print(\"Hehe\")\n",
        "else:\n",
        "  print(\"eme\")"
      ],
      "metadata": {
        "colab": {
          "base_uri": "https://localhost:8080/"
        },
        "id": "cwPft4ptI4rC",
        "outputId": "0f3e1d25-c3fe-420d-b044-527caec4379c"
      },
      "execution_count": null,
      "outputs": [
        {
          "output_type": "stream",
          "name": "stdout",
          "text": [
            "Hehe\n"
          ]
        }
      ]
    },
    {
      "cell_type": "markdown",
      "source": [
        "---\n",
        "##**Function**\n",
        "\n",
        "\n",
        "> Function are used to complete specific directions only when called upon. Data can be defined within a function, which can be returned as a result of the program. \n",
        "\n",
        "\n",
        "\n",
        "---"
      ],
      "metadata": {
        "id": "yAWJGj7iJB6C"
      }
    },
    {
      "cell_type": "code",
      "source": [
        "# void DeleteUser(int username){\n",
        "# delete(username); }\n",
        "\n",
        "def delete_u (username):\n",
        "  print(\"Finished Deleting user: {}\".format(username))\n",
        "\n",
        "def delete_allu():\n",
        "  print(\"Finished Deleting all users\")\n",
        "\n",
        "username = 20201000\n",
        "delete_u(20201000)\n",
        "delete_allu()"
      ],
      "metadata": {
        "colab": {
          "base_uri": "https://localhost:8080/"
        },
        "id": "kAuo_9d7JVDh",
        "outputId": "b9dea078-328a-4017-e6c0-9cc862da5ad4"
      },
      "execution_count": null,
      "outputs": [
        {
          "output_type": "stream",
          "name": "stdout",
          "text": [
            "Finished Deleting user: 20201000\n",
            "Finished Deleting all users\n"
          ]
        }
      ]
    },
    {
      "cell_type": "code",
      "source": [
        "def add(nume1, nume2):\n",
        "  print(\"I know how to add nume1 and nume2\")\n",
        "  return nume1 + nume2\n",
        "\n",
        "def power_base2(exponent):\n",
        "  return 2**exponent\n",
        "\n",
        "nume1 = 10\n",
        "nume2 = 5\n",
        "\n",
        "exponent=5 \n",
        "#add(nume1,nume2)\n",
        "power_base2(exponent)"
      ],
      "metadata": {
        "colab": {
          "base_uri": "https://localhost:8080/"
        },
        "id": "ZDAfbCBXJg_Z",
        "outputId": "20346bae-d815-408f-8b89-716c9931d931"
      },
      "execution_count": null,
      "outputs": [
        {
          "output_type": "execute_result",
          "data": {
            "text/plain": [
              "32"
            ]
          },
          "metadata": {},
          "execution_count": 15
        }
      ]
    },
    {
      "cell_type": "markdown",
      "source": [
        "---\n",
        "---\n",
        "#**Lambda Functions**\n",
        "\n",
        "Lambda functions are a specific type of function in which it is \"anonymous\", meaning it does not have a defined variable name. Lambda functions are typically used in high-order functions, which are functions that take in other functions as arguments.\n",
        "\n",
        "---\n",
        "---\n",
        "\n",
        "\n",
        "\n"
      ],
      "metadata": {
        "id": "7YgK8PjHQxrC"
      }
    },
    {
      "cell_type": "markdown",
      "source": [
        "\n",
        "```\n",
        "Activity & Lab Report\n",
        "```\n",
        "#***Grade Calculator***\n",
        "---\n",
        "\n",
        "Create a **grade calculator** that computes for the semestral grade of a course.\n",
        "\n",
        "Students could *type their names*, the *name of the course, then their prelim, midterm, and final grade*.\n",
        "\n",
        "The program should *print the semestral grade in 2 decimal points* and should display the folowing emojis depending on the situation:\n",
        "\n",
        "**happy** - when *grade is greater than 70.00*\n",
        "\n",
        "**laughing** - when *grade is exactly 70.00*\n",
        "\n",
        "**sad** - when *grade is below 70.00*\n",
        "\n",
        "---\n",
        "\n",
        "####**USE THESE EMOJIS:**\n",
        "\n",
        "Happy:\n",
        "```\n",
        "\"\\U0001F600\"\n",
        "```\n",
        "LOL:\n",
        "```\n",
        "\"\\U0001F606\"\n",
        "```\n",
        "Sad:\n",
        "\n",
        "```\n",
        "\"\\U0001F62D\"\n",
        "```\n",
        "---\n",
        "---"
      ],
      "metadata": {
        "id": "Jq3Purx_HIPf"
      }
    },
    {
      "cell_type": "code",
      "source": [
        "\"\\U0001F600 \""
      ],
      "metadata": {
        "colab": {
          "base_uri": "https://localhost:8080/",
          "height": 35
        },
        "id": "bOud2bxkJrEt",
        "outputId": "35c0b9e7-9b86-4320-bab8-cc99b88c9595"
      },
      "execution_count": null,
      "outputs": [
        {
          "output_type": "execute_result",
          "data": {
            "application/vnd.google.colaboratory.intrinsic+json": {
              "type": "string"
            },
            "text/plain": [
              "'😀 '"
            ]
          },
          "metadata": {},
          "execution_count": 19
        }
      ]
    },
    {
      "cell_type": "code",
      "source": [
        "\"\\U0001F62D \""
      ],
      "metadata": {
        "colab": {
          "base_uri": "https://localhost:8080/",
          "height": 35
        },
        "id": "0_CPlbG9JvSB",
        "outputId": "a6905e83-0335-4ded-e3b1-d78874a206e8"
      },
      "execution_count": null,
      "outputs": [
        {
          "output_type": "execute_result",
          "data": {
            "application/vnd.google.colaboratory.intrinsic+json": {
              "type": "string"
            },
            "text/plain": [
              "'😭 '"
            ]
          },
          "metadata": {},
          "execution_count": 17
        }
      ]
    },
    {
      "cell_type": "code",
      "source": [
        "\"\\U0001F606 \""
      ],
      "metadata": {
        "colab": {
          "base_uri": "https://localhost:8080/",
          "height": 35
        },
        "id": "i5HMHO1EJxPn",
        "outputId": "1b324c20-5dec-404a-eed8-1e5a289158fc"
      },
      "execution_count": null,
      "outputs": [
        {
          "output_type": "execute_result",
          "data": {
            "application/vnd.google.colaboratory.intrinsic+json": {
              "type": "string"
            },
            "text/plain": [
              "'😆 '"
            ]
          },
          "metadata": {},
          "execution_count": 18
        }
      ]
    },
    {
      "cell_type": "markdown",
      "source": [
        "\n",
        "\n",
        "---\n",
        "\n"
      ],
      "metadata": {
        "id": "znjI9SIBeywc"
      }
    },
    {
      "cell_type": "code",
      "execution_count": null,
      "metadata": {
        "colab": {
          "base_uri": "https://localhost:8080/"
        },
        "id": "eJH3r5t-Ad0o",
        "outputId": "cd7b4977-f95c-4dd7-b1fc-2c8ea4059d85"
      },
      "outputs": [
        {
          "output_type": "stream",
          "name": "stdout",
          "text": [
            "Student Name [INPUT FULL NAME]: Lee Felix\n",
            "Course: Linear Algebra\n",
            "\n",
            "Prelim Grade: 90\n",
            "Midterm Grade: 78\n",
            "Final Grade: 89.88\n",
            "\n",
            "Student: Lee Felix\n",
            "Course: Linear Algebra\n",
            "Your Semestral Grade is 85.96\n",
            "😀\n"
          ]
        }
      ],
      "source": [
        "name = input(\"Student Name [INPUT FULL NAME]: \")\n",
        "course = input(\"Course: \")\n",
        "print()\n",
        "Prelims = float(input(\"Prelim Grade: \"))\n",
        "Midterms = float(input(\"Midterm Grade: \"))\n",
        "Finals = float(input(\"Final Grade: \"))\n",
        "Total = (Prelims) + (Midterms) + (Finals)\n",
        "Sem = Total/3\n",
        "sem_f= \"{:.2f}\".format(Sem)\n",
        "print()\n",
        "print(\"Student: {}\".format(name))\n",
        "print(\"Course: {}\".format(course))\n",
        "print(\"Your Semestral Grade is {}\".format(sem_f))\n",
        "if Sem > 70.00:\n",
        "  print(\"\\U0001F600\")\n",
        "elif Sem == 70.00:\n",
        "  print(\"\\U0001F606\")\n",
        "else:\n",
        "  print(\"\\U0001F62D\")"
      ]
    }
  ]
}