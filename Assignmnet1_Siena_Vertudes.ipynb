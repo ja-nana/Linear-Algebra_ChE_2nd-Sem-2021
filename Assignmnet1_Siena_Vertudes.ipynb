{
  "nbformat": 4,
  "nbformat_minor": 0,
  "metadata": {
    "colab": {
      "name": "Assignmnet1_Siena_Vertudes",
      "provenance": [],
      "collapsed_sections": [],
      "include_colab_link": true
    },
    "kernelspec": {
      "name": "python3",
      "display_name": "Python 3"
    },
    "language_info": {
      "name": "python"
    }
  },
  "cells": [
    {
      "cell_type": "markdown",
      "metadata": {
        "id": "view-in-github",
        "colab_type": "text"
      },
      "source": [
        "<a href=\"https://colab.research.google.com/github/ja-nana/Linear-Algebra_ChE_2nd-Sem-2021/blob/main/Assignmnet1_Siena_Vertudes.ipynb\" target=\"_parent\"><img src=\"https://colab.research.google.com/assets/colab-badge.svg\" alt=\"Open In Colab\"/></a>"
      ]
    },
    {
      "cell_type": "markdown",
      "source": [
        "---\n",
        "# **Welcome to Python Fundamentals**\n",
        "---\n",
        "---\n",
        "\n",
        "In this module, we are going to establish or review our skills in Python programming. In this notebook we are going to cover:\n",
        "\n",
        "* *Variables and Data Types*\n",
        "* *Operations*\n",
        "* *Input and Output Operations*\n",
        "* *Logic Control*\n",
        "* *Iterables*\n",
        "* *Functions*\n",
        "---\n",
        "---\n"
      ],
      "metadata": {
        "id": "is1pRnf_FpLC"
      }
    },
    {
      "cell_type": "markdown",
      "source": [
        "##**Variables and Data Types**\n",
        "---\n",
        "---\n",
        "\n",
        "> **Variables** are the identifiers of the values or data assigned to them. You may also refer to them as the \"nouns\" of the programming language because they are the placeholders for their respective values. Every variable has a data type, which affects how they interact with other variables and operators.\n",
        "\n",
        "\n",
        "---\n",
        "\n",
        "\n",
        "> **Data Types** are the different categories of data. They represent whether a value is numerical or a string value, including non-numerical characters. Boolean values are also included here, representing whether a statement is true or false.\n",
        "\n",
        "The different data types are as follows:\n",
        "\n",
        "* Integers\n",
        "* Floats\n",
        "* Strings\n",
        "* Booleans (*True* and *False*)\n",
        "\n",
        "\n",
        "---\n",
        "---"
      ],
      "metadata": {
        "id": "0Xr5zQgkFxG8"
      }
    },
    {
      "cell_type": "code",
      "source": [
        "x=1\n",
        "y,z= 0,-2\n",
        "y"
      ],
      "metadata": {
        "colab": {
          "base_uri": "https://localhost:8080/"
        },
        "id": "E71T5u7NGcKj",
        "outputId": "8916aeba-c675-40d8-f83d-b80bcd3fd01f"
      },
      "execution_count": null,
      "outputs": [
        {
          "output_type": "execute_result",
          "data": {
            "text/plain": [
              "0"
            ]
          },
          "metadata": {},
          "execution_count": 1
        }
      ]
    },
    {
      "cell_type": "code",
      "source": [
        "type(x)"
      ],
      "metadata": {
        "id": "eAiaKETKGzVI",
        "colab": {
          "base_uri": "https://localhost:8080/"
        },
        "outputId": "2fda3ab8-6fc2-49c1-942e-b05ab70ba1cc"
      },
      "execution_count": null,
      "outputs": [
        {
          "output_type": "execute_result",
          "data": {
            "text/plain": [
              "int"
            ]
          },
          "metadata": {},
          "execution_count": 2
        }
      ]
    },
    {
      "cell_type": "code",
      "source": [
        "r = 2.0\n",
        "type(r)"
      ],
      "metadata": {
        "colab": {
          "base_uri": "https://localhost:8080/"
        },
        "id": "c4RUTruAME-f",
        "outputId": "70c63da3-e7f7-4256-dbee-9a000e34b7ef"
      },
      "execution_count": null,
      "outputs": [
        {
          "output_type": "execute_result",
          "data": {
            "text/plain": [
              "float"
            ]
          },
          "metadata": {},
          "execution_count": 3
        }
      ]
    },
    {
      "cell_type": "code",
      "source": [
        "t = float(x)\n",
        "type(t)"
      ],
      "metadata": {
        "colab": {
          "base_uri": "https://localhost:8080/"
        },
        "id": "XlzP3kpaMLX3",
        "outputId": "42dac290-5d41-4334-d0c7-23254e38204a"
      },
      "execution_count": null,
      "outputs": [
        {
          "output_type": "execute_result",
          "data": {
            "text/plain": [
              "float"
            ]
          },
          "metadata": {},
          "execution_count": 4
        }
      ]
    },
    {
      "cell_type": "code",
      "source": [
        "s,k,u = \"0\", '1', 'one'\n",
        "type(u)"
      ],
      "metadata": {
        "colab": {
          "base_uri": "https://localhost:8080/"
        },
        "id": "Zh7CQBe7MQvR",
        "outputId": "1a3d1cbe-72be-489e-8ef2-99e1dbecf4ab"
      },
      "execution_count": null,
      "outputs": [
        {
          "output_type": "execute_result",
          "data": {
            "text/plain": [
              "str"
            ]
          },
          "metadata": {},
          "execution_count": 5
        }
      ]
    },
    {
      "cell_type": "code",
      "source": [
        "k_int = int(k)\n",
        "k_int\n",
        "type(k)"
      ],
      "metadata": {
        "colab": {
          "base_uri": "https://localhost:8080/"
        },
        "id": "QJBXPGLlMTn6",
        "outputId": "56a39dcb-ee76-41b6-bebd-f63742f0f984"
      },
      "execution_count": null,
      "outputs": [
        {
          "output_type": "execute_result",
          "data": {
            "text/plain": [
              "str"
            ]
          },
          "metadata": {},
          "execution_count": 6
        }
      ]
    },
    {
      "cell_type": "markdown",
      "source": [
        "#**Operations**\n",
        "---\n",
        "---\n",
        "\n",
        "> These are the set of characters which decide the program's course of action. The operations to be discussed are as follows:\n",
        "*  *Arithmetic Operations*\n",
        "*  *Assignment Operations*\n",
        "*  *Comparators*\n",
        "*  *Logical Operations*\n",
        "*  *Input/Output Operations*\n",
        "\n",
        "---\n",
        "---"
      ],
      "metadata": {
        "id": "7dS18EMMGClZ"
      }
    },
    {
      "cell_type": "markdown",
      "source": [
        "---\n",
        "##**Arithmetic**\n",
        "\n",
        "> Arithmetic Operators are used with numerical values in order to perform arithmetic, or common mathematical operations.\n",
        "\n",
        "\n",
        "\n",
        "---"
      ],
      "metadata": {
        "id": "lRbCj-SWJQ9X"
      }
    },
    {
      "cell_type": "code",
      "source": [
        "a,b,c,d = 5,6,7,8"
      ],
      "metadata": {
        "id": "WH8tSmFuG6oo"
      },
      "execution_count": null,
      "outputs": []
    },
    {
      "cell_type": "code",
      "source": [
        "#Addition\n",
        "S = a+b\n",
        "S"
      ],
      "metadata": {
        "colab": {
          "base_uri": "https://localhost:8080/"
        },
        "id": "xequwU0cHAyn",
        "outputId": "5361e189-1c54-40bb-fccf-5fc7c121a2f4"
      },
      "execution_count": null,
      "outputs": [
        {
          "output_type": "execute_result",
          "data": {
            "text/plain": [
              "11"
            ]
          },
          "metadata": {},
          "execution_count": 8
        }
      ]
    },
    {
      "cell_type": "code",
      "source": [
        "#Subtraction\n",
        "M = c-a\n",
        "M"
      ],
      "metadata": {
        "colab": {
          "base_uri": "https://localhost:8080/"
        },
        "id": "tcueeByJMtem",
        "outputId": "8c327698-4ad9-4463-b142-7b5f54e76525"
      },
      "execution_count": null,
      "outputs": [
        {
          "output_type": "execute_result",
          "data": {
            "text/plain": [
              "2"
            ]
          },
          "metadata": {},
          "execution_count": 9
        }
      ]
    },
    {
      "cell_type": "code",
      "source": [
        "#Multiplication\n",
        "X = a*d\n",
        "X"
      ],
      "metadata": {
        "colab": {
          "base_uri": "https://localhost:8080/"
        },
        "id": "XjhllMwmM3Dn",
        "outputId": "866d6525-121e-4c92-b869-d8baaa968324"
      },
      "execution_count": null,
      "outputs": [
        {
          "output_type": "execute_result",
          "data": {
            "text/plain": [
              "40"
            ]
          },
          "metadata": {},
          "execution_count": 10
        }
      ]
    },
    {
      "cell_type": "code",
      "source": [
        "#Division\n",
        "H = c/a\n",
        "H"
      ],
      "metadata": {
        "colab": {
          "base_uri": "https://localhost:8080/"
        },
        "id": "HWXXWF-gM9H-",
        "outputId": "364dd17d-0882-4fdf-a670-f25717def49c"
      },
      "execution_count": null,
      "outputs": [
        {
          "output_type": "execute_result",
          "data": {
            "text/plain": [
              "1.4"
            ]
          },
          "metadata": {},
          "execution_count": 11
        }
      ]
    },
    {
      "cell_type": "code",
      "source": [
        "#Floor Division\n",
        "HD = d//b\n",
        "HD"
      ],
      "metadata": {
        "colab": {
          "base_uri": "https://localhost:8080/"
        },
        "id": "k_JOsce8NF5f",
        "outputId": "3794d038-d028-4326-c2ef-b9684ce009d0"
      },
      "execution_count": null,
      "outputs": [
        {
          "output_type": "execute_result",
          "data": {
            "text/plain": [
              "1"
            ]
          },
          "metadata": {},
          "execution_count": 12
        }
      ]
    },
    {
      "cell_type": "code",
      "source": [
        "#Exponentiation\n",
        "E = b**a\n",
        "E"
      ],
      "metadata": {
        "colab": {
          "base_uri": "https://localhost:8080/"
        },
        "id": "EWKKnxR5My-q",
        "outputId": "d67e7e66-d4e2-4f0b-81e4-7748882dfe4b"
      },
      "execution_count": null,
      "outputs": [
        {
          "output_type": "execute_result",
          "data": {
            "text/plain": [
              "7776"
            ]
          },
          "metadata": {},
          "execution_count": 13
        }
      ]
    },
    {
      "cell_type": "code",
      "source": [
        "#Modulo\n",
        "MOD = c%b\n",
        "MOD"
      ],
      "metadata": {
        "colab": {
          "base_uri": "https://localhost:8080/"
        },
        "id": "2hhpSciGNUZW",
        "outputId": "56a87158-0085-4433-e118-6d6ec66cf081"
      },
      "execution_count": null,
      "outputs": [
        {
          "output_type": "execute_result",
          "data": {
            "text/plain": [
              "1"
            ]
          },
          "metadata": {},
          "execution_count": 14
        }
      ]
    },
    {
      "cell_type": "markdown",
      "source": [
        "---\n",
        "##**Assignment Operations**\n",
        "\n",
        "> Assignment Operators are used to assign values to variables or to change already existing values. These operations could also be used in logical operations.\n",
        "---\n",
        "\n"
      ],
      "metadata": {
        "id": "oSGgJw8gNgm_"
      }
    },
    {
      "cell_type": "code",
      "source": [
        "I, J , K , L = 0, 100, 2, 2"
      ],
      "metadata": {
        "id": "dY6KtO3nNjJr"
      },
      "execution_count": null,
      "outputs": []
    },
    {
      "cell_type": "code",
      "source": [
        "J += L\n",
        "J"
      ],
      "metadata": {
        "colab": {
          "base_uri": "https://localhost:8080/"
        },
        "id": "uyz5YAM3Nl0j",
        "outputId": "e0b34e77-e69a-4e59-d1c3-36aa10a74b39"
      },
      "execution_count": null,
      "outputs": [
        {
          "output_type": "execute_result",
          "data": {
            "text/plain": [
              "102"
            ]
          },
          "metadata": {},
          "execution_count": 16
        }
      ]
    },
    {
      "cell_type": "code",
      "source": [
        "H -= I\n",
        "H"
      ],
      "metadata": {
        "colab": {
          "base_uri": "https://localhost:8080/"
        },
        "id": "JZJvb90eOAYU",
        "outputId": "259e855a-f8c1-479d-f73b-52ccb02d4c4e"
      },
      "execution_count": null,
      "outputs": [
        {
          "output_type": "execute_result",
          "data": {
            "text/plain": [
              "1.4"
            ]
          },
          "metadata": {},
          "execution_count": 17
        }
      ]
    },
    {
      "cell_type": "code",
      "source": [
        "J *= 3\n",
        "J"
      ],
      "metadata": {
        "colab": {
          "base_uri": "https://localhost:8080/"
        },
        "id": "ZdxWfzHfNnE-",
        "outputId": "4f7c7198-5f7b-4c36-a9e6-02a4de0d0d4f"
      },
      "execution_count": null,
      "outputs": [
        {
          "output_type": "execute_result",
          "data": {
            "text/plain": [
              "306"
            ]
          },
          "metadata": {},
          "execution_count": 18
        }
      ]
    },
    {
      "cell_type": "code",
      "source": [
        "K **= 3\n",
        "K"
      ],
      "metadata": {
        "colab": {
          "base_uri": "https://localhost:8080/"
        },
        "id": "KYDlYI7IONbp",
        "outputId": "0f5ac507-1bd1-42cb-ece4-8776f149d16f"
      },
      "execution_count": null,
      "outputs": [
        {
          "output_type": "execute_result",
          "data": {
            "text/plain": [
              "8"
            ]
          },
          "metadata": {},
          "execution_count": 19
        }
      ]
    },
    {
      "cell_type": "markdown",
      "source": [
        "---\n",
        "##**Comparators**\n",
        "\n",
        "> Comparators are the operations used to compare two values of the same data type. These operations return a *boolean* value, which is either *true* or *false*.\n",
        "\n",
        "\n",
        "---"
      ],
      "metadata": {
        "id": "F3TSMhvqOTNf"
      }
    },
    {
      "cell_type": "code",
      "source": [
        "res_1, res_2, res_3 = 1,2.0,\"1\"\n",
        "true_val =1.0"
      ],
      "metadata": {
        "id": "iKuGUzvvOXCV"
      },
      "execution_count": null,
      "outputs": []
    },
    {
      "cell_type": "code",
      "source": [
        "## Equality\n",
        "res_1 == true_val"
      ],
      "metadata": {
        "colab": {
          "base_uri": "https://localhost:8080/"
        },
        "id": "v6aJeqUMObth",
        "outputId": "6e10fad5-d214-4eef-a469-5c31c0377365"
      },
      "execution_count": null,
      "outputs": [
        {
          "output_type": "execute_result",
          "data": {
            "text/plain": [
              "True"
            ]
          },
          "metadata": {},
          "execution_count": 21
        }
      ]
    },
    {
      "cell_type": "code",
      "source": [
        "## Non-equality\n",
        "res_2 != true_val"
      ],
      "metadata": {
        "colab": {
          "base_uri": "https://localhost:8080/"
        },
        "id": "Ifo3nCI0Oe1W",
        "outputId": "8df5f859-1a15-441c-dd24-422921c1501d"
      },
      "execution_count": null,
      "outputs": [
        {
          "output_type": "execute_result",
          "data": {
            "text/plain": [
              "True"
            ]
          },
          "metadata": {},
          "execution_count": 22
        }
      ]
    },
    {
      "cell_type": "code",
      "source": [
        "## Inequality\n",
        "t1 = res_1 > res_2\n",
        "t2 = res_1 < res_2/2\n",
        "t3 = res_1 >= res_2/2\n",
        "t4 = res_1 <= res_2\n",
        "t1"
      ],
      "metadata": {
        "colab": {
          "base_uri": "https://localhost:8080/"
        },
        "id": "rE7YeBuQOgS1",
        "outputId": "73e5e261-0a3e-4914-b3e0-b2bce40e38a3"
      },
      "execution_count": null,
      "outputs": [
        {
          "output_type": "execute_result",
          "data": {
            "text/plain": [
              "False"
            ]
          },
          "metadata": {},
          "execution_count": 23
        }
      ]
    },
    {
      "cell_type": "markdown",
      "source": [
        "---\n",
        "##**Logical**\n",
        "\n",
        "\n",
        ">  Logical Operators are used to create conditional statements. These statements return a *boolean* value, which is either *true* or *false*, depending on the values given and the operator used.\n",
        "\n",
        "\n",
        "---\n"
      ],
      "metadata": {
        "id": "YGSDuv2NOlJW"
      }
    },
    {
      "cell_type": "code",
      "source": [
        "res_1 == true_val"
      ],
      "metadata": {
        "colab": {
          "base_uri": "https://localhost:8080/"
        },
        "id": "0-fPpMR8Omih",
        "outputId": "1155e7bf-fc20-405b-bba8-e7cc505722ef"
      },
      "execution_count": null,
      "outputs": [
        {
          "output_type": "execute_result",
          "data": {
            "text/plain": [
              "True"
            ]
          },
          "metadata": {},
          "execution_count": 24
        }
      ]
    },
    {
      "cell_type": "code",
      "source": [
        "res_1 is true_val"
      ],
      "metadata": {
        "colab": {
          "base_uri": "https://localhost:8080/"
        },
        "id": "0lQGIubTOptj",
        "outputId": "25109285-7d13-44fc-94d0-a57553df497d"
      },
      "execution_count": null,
      "outputs": [
        {
          "output_type": "execute_result",
          "data": {
            "text/plain": [
              "False"
            ]
          },
          "metadata": {},
          "execution_count": 25
        }
      ]
    },
    {
      "cell_type": "code",
      "source": [
        "res_1 is not true_val"
      ],
      "metadata": {
        "colab": {
          "base_uri": "https://localhost:8080/"
        },
        "id": "cyriYGn9Or36",
        "outputId": "1fabb461-b9c5-4b9f-f30a-d286d01dc43a"
      },
      "execution_count": null,
      "outputs": [
        {
          "output_type": "execute_result",
          "data": {
            "text/plain": [
              "True"
            ]
          },
          "metadata": {},
          "execution_count": 26
        }
      ]
    },
    {
      "cell_type": "code",
      "source": [
        "P,Q = True, False\n",
        "conj = P and Q\n",
        "conj"
      ],
      "metadata": {
        "colab": {
          "base_uri": "https://localhost:8080/"
        },
        "id": "Hl1zQpY4OubP",
        "outputId": "ed1e421e-0b73-4c01-cb9c-975c13188a06"
      },
      "execution_count": null,
      "outputs": [
        {
          "output_type": "execute_result",
          "data": {
            "text/plain": [
              "False"
            ]
          },
          "metadata": {},
          "execution_count": 27
        }
      ]
    },
    {
      "cell_type": "code",
      "source": [
        "P, Q = True, False\n",
        "disj = P or Q\n",
        "disj"
      ],
      "metadata": {
        "colab": {
          "base_uri": "https://localhost:8080/"
        },
        "id": "AKvBBViSO04o",
        "outputId": "9365d05b-f818-4ce7-8259-8ea7d946b93b"
      },
      "execution_count": null,
      "outputs": [
        {
          "output_type": "execute_result",
          "data": {
            "text/plain": [
              "True"
            ]
          },
          "metadata": {},
          "execution_count": 28
        }
      ]
    },
    {
      "cell_type": "code",
      "source": [
        "P, Q = True, False\n",
        "nand = not(P and Q)\n",
        "nand"
      ],
      "metadata": {
        "colab": {
          "base_uri": "https://localhost:8080/"
        },
        "id": "5AdnNN4-O5Ao",
        "outputId": "b23bb7d9-c560-4dcc-c19a-bbb4607af227"
      },
      "execution_count": null,
      "outputs": [
        {
          "output_type": "execute_result",
          "data": {
            "text/plain": [
              "True"
            ]
          },
          "metadata": {},
          "execution_count": 29
        }
      ]
    },
    {
      "cell_type": "code",
      "source": [
        "P, Q= True, False\n",
        "xor = (not P and Q) or (P and not Q)\n",
        "xor"
      ],
      "metadata": {
        "colab": {
          "base_uri": "https://localhost:8080/"
        },
        "id": "mpmlDs2cPCfL",
        "outputId": "e9d10715-3ac6-40cc-9b9f-fbc866d37fd5"
      },
      "execution_count": null,
      "outputs": [
        {
          "output_type": "execute_result",
          "data": {
            "text/plain": [
              "True"
            ]
          },
          "metadata": {},
          "execution_count": 30
        }
      ]
    },
    {
      "cell_type": "markdown",
      "source": [
        "---\n",
        "##**I/O: Input/Output**\n",
        "\n",
        "\n",
        "> The previous methods of defining variables has been to input the value into the code itself, but Input and Output operations allows for user interaction with the program itself. Through the *input()* statement, the user may assign any character to a variable. The *.format()* statement allows the user to make their output appear less cluttered.\n",
        "\n",
        "\n",
        "---"
      ],
      "metadata": {
        "id": "j0fzizNgPLZq"
      }
    },
    {
      "cell_type": "code",
      "source": [
        "print(\"Hello World\")"
      ],
      "metadata": {
        "colab": {
          "base_uri": "https://localhost:8080/"
        },
        "id": "KuVGy4-ZPOd8",
        "outputId": "796cf0ec-c12e-4a05-eda2-0faa556323de"
      },
      "execution_count": null,
      "outputs": [
        {
          "output_type": "stream",
          "name": "stdout",
          "text": [
            "Hello World\n"
          ]
        }
      ]
    },
    {
      "cell_type": "code",
      "source": [
        "cnt = 1"
      ],
      "metadata": {
        "id": "3hRB2r9IPQpz"
      },
      "execution_count": null,
      "outputs": []
    },
    {
      "cell_type": "code",
      "source": [
        "string = \"Hello World\"\n",
        "print (string, \", Current run count is:\", cnt)\n",
        "cnt += 1"
      ],
      "metadata": {
        "colab": {
          "base_uri": "https://localhost:8080/"
        },
        "id": "vT_rmdqrPTD3",
        "outputId": "caa18e3d-e928-4ec9-f777-410d42af82c4"
      },
      "execution_count": null,
      "outputs": [
        {
          "output_type": "stream",
          "name": "stdout",
          "text": [
            "Hello World , Current run count is: 1\n"
          ]
        }
      ]
    },
    {
      "cell_type": "code",
      "source": [
        "print(f\"{string}, Current count is: {cnt}\")"
      ],
      "metadata": {
        "colab": {
          "base_uri": "https://localhost:8080/"
        },
        "id": "26n1fA-yPWpg",
        "outputId": "7f658370-62e1-4894-c3a5-eb1242ebdcea"
      },
      "execution_count": null,
      "outputs": [
        {
          "output_type": "stream",
          "name": "stdout",
          "text": [
            "Hello World, Current count is: 2\n"
          ]
        }
      ]
    },
    {
      "cell_type": "code",
      "source": [
        "sem_grade = 82.243564657746123\n",
        "name = \"Ja\"\n",
        "print(\"Hello {}, your semestral grade is: {}\".format(name, sem_grade))"
      ],
      "metadata": {
        "colab": {
          "base_uri": "https://localhost:8080/"
        },
        "id": "g8sDKmDCPaEW",
        "outputId": "8731a569-c9cb-4873-c38a-325084533996"
      },
      "execution_count": null,
      "outputs": [
        {
          "output_type": "stream",
          "name": "stdout",
          "text": [
            "Hello Ja, your semestral grade is: 82.24356465774612\n"
          ]
        }
      ]
    },
    {
      "cell_type": "code",
      "source": [
        "pre,mid,fin = 0.25, 0.25, 0.5\n",
        "print(\"The weights of your semestral grade are:\\\n",
        "      \\n\\t{:.2%} for Prelims,\\\n",
        "      \\n\\t{:.2%} for Midterms, and\\\n",
        "      \\n\\t{:.2%} for Finals.\".format(pre,mid,fin))"
      ],
      "metadata": {
        "colab": {
          "base_uri": "https://localhost:8080/"
        },
        "id": "PjGe1ab9HQ60",
        "outputId": "4c4d1a9a-8dc8-4c46-feaa-2463b1e095d9"
      },
      "execution_count": null,
      "outputs": [
        {
          "output_type": "stream",
          "name": "stdout",
          "text": [
            "The weights of your semestral grade are:      \n",
            "\t25.00% for Prelims,      \n",
            "\t25.00% for Midterms, and      \n",
            "\t50.00% for Finals.\n"
          ]
        }
      ]
    },
    {
      "cell_type": "code",
      "source": [
        "q= input(\"Enter your name: \")\n",
        "q"
      ],
      "metadata": {
        "colab": {
          "base_uri": "https://localhost:8080/",
          "height": 53
        },
        "id": "zYBe_iMYHiSD",
        "outputId": "df3f6c5a-6e1d-4486-bbe0-43ffa71b0847"
      },
      "execution_count": null,
      "outputs": [
        {
          "name": "stdout",
          "output_type": "stream",
          "text": [
            "Enter your name: Janus\n"
          ]
        },
        {
          "output_type": "execute_result",
          "data": {
            "application/vnd.google.colaboratory.intrinsic+json": {
              "type": "string"
            },
            "text/plain": [
              "'Janus'"
            ]
          },
          "metadata": {},
          "execution_count": 37
        }
      ]
    },
    {
      "cell_type": "code",
      "source": [
        "name = input (\"Your name: \")\n",
        "pr = input(\"Enter Prelim: \")\n",
        "md = input(\"Enter Midterm: \")\n",
        "fn = input(\"Enter Final: \")\n",
        "sg = 85\n",
        "print(\"Hello {}, your semestral grade is: {}\".format(name,sg))"
      ],
      "metadata": {
        "colab": {
          "base_uri": "https://localhost:8080/"
        },
        "id": "uRHcsst4HyFu",
        "outputId": "3bb06613-ffb5-4676-d3d4-0d906f25d36b"
      },
      "execution_count": null,
      "outputs": [
        {
          "output_type": "stream",
          "name": "stdout",
          "text": [
            "Your name: Janus\n",
            "Enter Prelim: 80.67\n",
            "Enter Midterm: 80.78\n",
            "Enter Final: 90.87\n",
            "Hello Janus, your semestral grade is: 85\n"
          ]
        }
      ]
    },
    {
      "cell_type": "markdown",
      "source": [
        "#**Looping Statements**\n",
        "---\n",
        "---\n",
        "\n",
        "\n",
        "\n",
        "> Looping Statements contain directions that repeat continuously until the statement's condition is achieved. \n",
        "\n",
        "\n",
        "---\n",
        "---"
      ],
      "metadata": {
        "id": "c6C2XEuoQInZ"
      }
    },
    {
      "cell_type": "markdown",
      "source": [
        "\n",
        "\n",
        "---\n",
        "\n",
        "\n",
        "###**While**\n",
        "\n",
        "\n",
        "> While Statements are a type of looping statement which *FIRST CHECKS* the condition before performing its instructions. It will continuously perform the instructions until the condition is proven *FALSE*.\n",
        "\n",
        "\n",
        "\n",
        "---\n",
        "\n"
      ],
      "metadata": {
        "id": "ZAsZxyuAQL94"
      }
    },
    {
      "cell_type": "code",
      "source": [
        "## While Looping\n",
        "s , k = 1,5\n",
        "while(s<=k):\n",
        "  print(f\"{s}\\t|\\t{k}\")\n",
        "  s+=1\n"
      ],
      "metadata": {
        "colab": {
          "base_uri": "https://localhost:8080/"
        },
        "id": "6F0EtqepIElZ",
        "outputId": "c9fb36c8-5002-4ed9-a88f-c21e8176fb8b"
      },
      "execution_count": null,
      "outputs": [
        {
          "output_type": "stream",
          "name": "stdout",
          "text": [
            "1\t|\t5\n",
            "2\t|\t5\n",
            "3\t|\t5\n",
            "4\t|\t5\n",
            "5\t|\t5\n"
          ]
        }
      ]
    },
    {
      "cell_type": "markdown",
      "source": [
        "\n",
        "---\n",
        "###**For**\n",
        "\n",
        "\n",
        "> For Loop Statements are used to perform a statement for each item or data in a set or range.\n",
        "\n",
        "\n",
        "\n",
        "---"
      ],
      "metadata": {
        "id": "gWDwl0oQQPZt"
      }
    },
    {
      "cell_type": "code",
      "source": [
        "# for (int p=0; p<10; i++){\n",
        "# printf(p)}\n",
        "\n",
        "p=0\n",
        "for p in range(11):\n",
        "  print (p)"
      ],
      "metadata": {
        "colab": {
          "base_uri": "https://localhost:8080/"
        },
        "id": "fNHK8QbzIOOm",
        "outputId": "eed91571-8af2-4be7-a77f-939005a9a041"
      },
      "execution_count": null,
      "outputs": [
        {
          "output_type": "stream",
          "name": "stdout",
          "text": [
            "0\n",
            "1\n",
            "2\n",
            "3\n",
            "4\n",
            "5\n",
            "6\n",
            "7\n",
            "8\n",
            "9\n",
            "10\n"
          ]
        }
      ]
    },
    {
      "cell_type": "code",
      "source": [
        "playlist = [\"소리꾼\", \"기도\", \"All Too Well\"]\n",
        "print('Now Playing:\\n')\n",
        "for song in playlist:\n",
        "  print(song)"
      ],
      "metadata": {
        "colab": {
          "base_uri": "https://localhost:8080/"
        },
        "id": "whpGUVLfIU6C",
        "outputId": "f59b2ae9-4e0e-40ac-82f2-497589e03730"
      },
      "execution_count": null,
      "outputs": [
        {
          "output_type": "stream",
          "name": "stdout",
          "text": [
            "Now Playing:\n",
            "\n",
            "소리꾼\n",
            "기도\n",
            "All Too Well\n"
          ]
        }
      ]
    },
    {
      "cell_type": "markdown",
      "source": [
        "#**Flow Control**\n",
        "---\n",
        "---\n",
        "\n",
        "> Flow Control is used to determine the sequence in which the program's statements run. This is either sequential or conditional.\n",
        "\n",
        "---\n",
        "---"
      ],
      "metadata": {
        "id": "P09wf5zNIwR6"
      }
    },
    {
      "cell_type": "markdown",
      "source": [
        "---\n",
        "##**Condition Statements**\n",
        "\n",
        "> Conditional Statements includes the *if()*, *elif()*, and *else()* statements. The program checks the conditions for each statement and if the value is determined to be *TRUE*, then the program proceeds to perform that specific condition. If determined as *FALSE*, then the program moves on the to the next statement.\n",
        "\n",
        "\n",
        "\n",
        "---"
      ],
      "metadata": {
        "id": "jofNXhhtJFjI"
      }
    },
    {
      "cell_type": "code",
      "source": [
        "num1, num2 = 15,1\n",
        "if(num1<num2): \n",
        "  print(\"Yes\")\n",
        "elif(num1>num2):\n",
        "  print(\"Hehe\")\n",
        "else:\n",
        "  print(\"eme\")"
      ],
      "metadata": {
        "colab": {
          "base_uri": "https://localhost:8080/"
        },
        "id": "cwPft4ptI4rC",
        "outputId": "00b347fb-6928-44aa-d7a8-88a751775615"
      },
      "execution_count": null,
      "outputs": [
        {
          "output_type": "stream",
          "name": "stdout",
          "text": [
            "Hehe\n"
          ]
        }
      ]
    },
    {
      "cell_type": "markdown",
      "source": [
        "---\n",
        "##**Function**\n",
        "\n",
        "\n",
        "> Function are used to complete specific directions only when called upon. Data can be defined within a function, which can be returned as a result of the program. \n",
        "\n",
        "\n",
        "\n",
        "---"
      ],
      "metadata": {
        "id": "yAWJGj7iJB6C"
      }
    },
    {
      "cell_type": "code",
      "source": [
        "# void DeleteUser(int username){\n",
        "# delete(username); }\n",
        "\n",
        "def delete_u (username):\n",
        "  print(\"Finished Deleting user: {}\".format(username))\n",
        "\n",
        "def delete_allu():\n",
        "  print(\"Finished Deleting all users\")\n",
        "\n",
        "username = 20201000\n",
        "delete_u(20201000)\n",
        "delete_allu()"
      ],
      "metadata": {
        "colab": {
          "base_uri": "https://localhost:8080/"
        },
        "id": "kAuo_9d7JVDh",
        "outputId": "eb2eb386-2942-47d5-9a68-d2cc91724f59"
      },
      "execution_count": null,
      "outputs": [
        {
          "output_type": "stream",
          "name": "stdout",
          "text": [
            "Finished Deleting user: 20201000\n",
            "Finished Deleting all users\n"
          ]
        }
      ]
    },
    {
      "cell_type": "code",
      "source": [
        "def add(nume1, nume2):\n",
        "  print(\"I know how to add nume1 and nume2\")\n",
        "  return nume1 + nume2\n",
        "\n",
        "def power_base2(exponent):\n",
        "  return 2**exponent\n",
        "\n",
        "nume1 = 10\n",
        "nume2 = 5\n",
        "\n",
        "exponent=5 \n",
        "#add(nume1,nume2)\n",
        "power_base2(exponent)"
      ],
      "metadata": {
        "colab": {
          "base_uri": "https://localhost:8080/"
        },
        "id": "ZDAfbCBXJg_Z",
        "outputId": "b772a0c6-1352-416f-b100-eb53a5384ee6"
      },
      "execution_count": null,
      "outputs": [
        {
          "output_type": "execute_result",
          "data": {
            "text/plain": [
              "32"
            ]
          },
          "metadata": {},
          "execution_count": 44
        }
      ]
    },
    {
      "cell_type": "code",
      "source": [
        "add(nume1, nume2)"
      ],
      "metadata": {
        "colab": {
          "base_uri": "https://localhost:8080/"
        },
        "id": "3-f-0HTnu4E6",
        "outputId": "769ecd50-27c2-4c6e-fa64-56d6f26990da"
      },
      "execution_count": null,
      "outputs": [
        {
          "output_type": "stream",
          "name": "stdout",
          "text": [
            "I know how to add nume1 and nume2\n"
          ]
        },
        {
          "output_type": "execute_result",
          "data": {
            "text/plain": [
              "15"
            ]
          },
          "metadata": {},
          "execution_count": 45
        }
      ]
    },
    {
      "cell_type": "markdown",
      "source": [
        "---\n",
        "---\n",
        "#**Lambda Functions**\n",
        "\n",
        "Lambda functions are a specific type of function in which it is \"anonymous\", meaning it does not have a defined variable name. Lambda functions are typically used in high-order functions, which are functions that take in other functions as arguments.\n",
        "\n",
        "---\n",
        "---\n",
        "\n",
        "\n",
        "\n"
      ],
      "metadata": {
        "id": "7YgK8PjHQxrC"
      }
    },
    {
      "cell_type": "markdown",
      "source": [
        "\n",
        "```\n",
        "Activity & Lab Report\n",
        "```\n",
        "#***Grade Calculator***\n",
        "---\n",
        "\n",
        "Create a **grade calculator** that computes for the semestral grade of a course.\n",
        "\n",
        "Students could *type their names*, the *name of the course, then their prelim, midterm, and final grade*.\n",
        "\n",
        "The program should *print the semestral grade in 2 decimal points* and should display the folowing emojis depending on the situation:\n",
        "\n",
        "**happy** - when *grade is greater than 70.00*\n",
        "\n",
        "**laughing** - when *grade is exactly 70.00*\n",
        "\n",
        "**sad** - when *grade is below 70.00*\n",
        "\n",
        "---\n",
        "\n",
        "####**USE THESE EMOJIS:**\n",
        "\n",
        "Happy:\n",
        "```\n",
        "\"\\U0001F600\"\n",
        "```\n",
        "LOL:\n",
        "```\n",
        "\"\\U0001F606\"\n",
        "```\n",
        "Sad:\n",
        "\n",
        "```\n",
        "\"\\U0001F62D\"\n",
        "```\n",
        "---\n",
        "---"
      ],
      "metadata": {
        "id": "Jq3Purx_HIPf"
      }
    },
    {
      "cell_type": "code",
      "source": [
        "\"\\U0001F600 \""
      ],
      "metadata": {
        "colab": {
          "base_uri": "https://localhost:8080/",
          "height": 35
        },
        "id": "bOud2bxkJrEt",
        "outputId": "35c0b9e7-9b86-4320-bab8-cc99b88c9595"
      },
      "execution_count": null,
      "outputs": [
        {
          "output_type": "execute_result",
          "data": {
            "application/vnd.google.colaboratory.intrinsic+json": {
              "type": "string"
            },
            "text/plain": [
              "'😀 '"
            ]
          },
          "metadata": {},
          "execution_count": 19
        }
      ]
    },
    {
      "cell_type": "code",
      "source": [
        "\"\\U0001F62D \""
      ],
      "metadata": {
        "colab": {
          "base_uri": "https://localhost:8080/",
          "height": 35
        },
        "id": "0_CPlbG9JvSB",
        "outputId": "a6905e83-0335-4ded-e3b1-d78874a206e8"
      },
      "execution_count": null,
      "outputs": [
        {
          "output_type": "execute_result",
          "data": {
            "application/vnd.google.colaboratory.intrinsic+json": {
              "type": "string"
            },
            "text/plain": [
              "'😭 '"
            ]
          },
          "metadata": {},
          "execution_count": 17
        }
      ]
    },
    {
      "cell_type": "code",
      "source": [
        "\"\\U0001F606 \""
      ],
      "metadata": {
        "colab": {
          "base_uri": "https://localhost:8080/",
          "height": 35
        },
        "id": "i5HMHO1EJxPn",
        "outputId": "1b324c20-5dec-404a-eed8-1e5a289158fc"
      },
      "execution_count": null,
      "outputs": [
        {
          "output_type": "execute_result",
          "data": {
            "application/vnd.google.colaboratory.intrinsic+json": {
              "type": "string"
            },
            "text/plain": [
              "'😆 '"
            ]
          },
          "metadata": {},
          "execution_count": 18
        }
      ]
    },
    {
      "cell_type": "markdown",
      "source": [
        "\n",
        "\n",
        "---\n",
        "\n"
      ],
      "metadata": {
        "id": "znjI9SIBeywc"
      }
    },
    {
      "cell_type": "code",
      "execution_count": null,
      "metadata": {
        "colab": {
          "base_uri": "https://localhost:8080/"
        },
        "id": "eJH3r5t-Ad0o",
        "outputId": "cd7b4977-f95c-4dd7-b1fc-2c8ea4059d85"
      },
      "outputs": [
        {
          "output_type": "stream",
          "name": "stdout",
          "text": [
            "Student Name [INPUT FULL NAME]: Lee Felix\n",
            "Course: Linear Algebra\n",
            "\n",
            "Prelim Grade: 90\n",
            "Midterm Grade: 78\n",
            "Final Grade: 89.88\n",
            "\n",
            "Student: Lee Felix\n",
            "Course: Linear Algebra\n",
            "Your Semestral Grade is 85.96\n",
            "😀\n"
          ]
        }
      ],
      "source": [
        "name = input(\"Student Name [INPUT FULL NAME]: \")\n",
        "course = input(\"Course: \")\n",
        "print()\n",
        "Prelims = float(input(\"Prelim Grade: \"))\n",
        "Midterms = float(input(\"Midterm Grade: \"))\n",
        "Finals = float(input(\"Final Grade: \"))\n",
        "Total = (Prelims) + (Midterms) + (Finals)\n",
        "Sem = Total/3\n",
        "sem_f= \"{:.2f}\".format(Sem)\n",
        "print()\n",
        "print(\"Student: {}\".format(name))\n",
        "print(\"Course: {}\".format(course))\n",
        "print(\"Your Semestral Grade is {}\".format(sem_f))\n",
        "if Sem > 70.00:\n",
        "  print(\"\\U0001F600\")\n",
        "elif Sem == 70.00:\n",
        "  print(\"\\U0001F606\")\n",
        "else:\n",
        "  print(\"\\U0001F62D\")"
      ]
    }
  ]
}