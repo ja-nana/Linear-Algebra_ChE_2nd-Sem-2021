{
  "nbformat": 4,
  "nbformat_minor": 0,
  "metadata": {
    "colab": {
      "name": "Assignment3_Siena_Vertudes.ipynb",
      "provenance": [],
      "collapsed_sections": [],
      "include_colab_link": true
    },
    "kernelspec": {
      "name": "python3",
      "display_name": "Python 3"
    },
    "language_info": {
      "name": "python"
    }
  },
  "cells": [
    {
      "cell_type": "markdown",
      "metadata": {
        "id": "view-in-github",
        "colab_type": "text"
      },
      "source": [
        "<a href=\"https://colab.research.google.com/github/ja-nana/Linear-Algebra_ChE_2nd-Sem-2021/blob/main/Assignment3_Siena_Vertudes.ipynb\" target=\"_parent\"><img src=\"https://colab.research.google.com/assets/colab-badge.svg\" alt=\"Open In Colab\"/></a>"
      ]
    },
    {
      "cell_type": "markdown",
      "source": [
        "#LABORATORY 4: **MATRICES**\n",
        "---\n",
        "##Objectives\n",
        "\n",
        "At the end of this activity, we have been able to:\n",
        "\n",
        "\n",
        "1. *Be familiar with matrices and their relation to linear equation.*\n",
        "\n",
        "2. *Perform basic matrix operations.*\n",
        "\n",
        "3. *Program and translate matrix equations and operations using Python.*\n",
        "\n",
        "\n",
        "\n"
      ],
      "metadata": {
        "id": "SrvvVXr7m2Nt"
      }
    },
    {
      "cell_type": "markdown",
      "source": [
        "##Discussion\n",
        "\n",
        "\n",
        "```\n",
        "import numpy as np\n",
        "import matplotlib.pyplot as plt\n",
        "import scipy.linalg as la\n",
        "%matplotlib inline\n",
        "\n",
        "```\n",
        "\n",
        "\n"
      ],
      "metadata": {
        "id": "EHHNj22CqSJH"
      }
    },
    {
      "cell_type": "markdown",
      "source": [
        "---\n",
        "###**MATRICES**\n",
        "\n",
        "rectangular array or table of numbers, symbols, or expressions, arranged in rows and columns, which is used to represent a mathematical object or a property of such an object.\n",
        "\n"
      ],
      "metadata": {
        "id": "6QEujFKPqzf9"
      }
    },
    {
      "cell_type": "markdown",
      "source": [
        "---\n",
        "###Example **X** and **Y** as system of equation\n",
        "\n",
        "$$\n",
        "X = \\left\\{\n",
        "    \\begin{array}\\\n",
        "      a + b \\\\\n",
        "      5a - 15b\n",
        "    \\end{array}\n",
        "\\right.\\\\\n",
        "Y = \\left\\{\n",
        "    \\begin{array}\\\n",
        "      a+b+c \\\\\n",
        "      2a - 3b -c \\\\\n",
        "      =a + 5b + 7c\n",
        "    \\end{array}\n",
        "\\right. \\\\\n",
        "Z = \\left\\{\n",
        "    \\begin{array}\\\n",
        "      q-2a+6b-10c \\\\\n",
        "      4q- a -4b + c \\\\\n",
        "      6q -a + 8b - 9c\n",
        "    \\end{array}\n",
        "  \\right. $$"
      ],
      "metadata": {
        "id": "BpezuwZlwRld"
      }
    },
    {
      "cell_type": "markdown",
      "source": [
        "####**\"X\"** is a system of 2 equations with 2 paramenters; \n",
        "####**\"Y\"** is a system of 3 equations with 3 parameters. Therefore, we can represent as matrices below:\n",
        "\n",
        "$$\n",
        "X=\\begin{bmatrix} 3 & 5 \\\\ 8 & (-11)\\end{bmatrix} \\\\\n",
        "Y=\\begin{bmatrix} 5 & 5 & 5 \\\\ 9 & -4 & 3 \\\\ -3 & 5 & 8\\end{bmatrix} \\\\\n",
        "Z=\\begin{bmatrix} 3 & 3 & 9 &5 \\\\ 10 & -8 & 3 & -6 \\\\ 3 & -5 & -1 & 2\\end{bmatrix}$$"
      ],
      "metadata": {
        "id": "oJj0_FhV8ZLt"
      }
    },
    {
      "cell_type": "markdown",
      "source": [
        "###*Declaring Matrices*\n",
        "\n",
        "> Definition or whatever emz\n"
      ],
      "metadata": {
        "id": "iactrdM2-nyz"
      }
    },
    {
      "cell_type": "code",
      "source": [
        "##Function\n",
        "\n",
        "def des_mat(matrix):\n",
        "    print(f'Matrix:\\n{matrix}\\n\\nShape:{matrix.shape}\\nRank:{matrix.ndim}\\n')"
      ],
      "metadata": {
        "id": "fRz7xnYHAssb"
      },
      "execution_count": null,
      "outputs": []
    },
    {
      "cell_type": "code",
      "source": [
        "import numpy as np\n",
        "import matplotlib.pyplot as plt\n",
        "import scipy.linalg as la\n",
        "%matplotlib inline"
      ],
      "metadata": {
        "id": "kHMrVw0aGTW4"
      },
      "execution_count": null,
      "outputs": []
    },
    {
      "cell_type": "code",
      "source": [
        "## Declaring a 2 x 2 matrix\n",
        "S = np.array([\n",
        "    [4, 15],\n",
        "    [17, 20]\n",
        "])\n",
        "des_mat(S)"
      ],
      "metadata": {
        "colab": {
          "base_uri": "https://localhost:8080/"
        },
        "id": "M5Glcd0JBhMj",
        "outputId": "a6c73cea-3987-49a4-8b35-5a70b39bddbd"
      },
      "execution_count": null,
      "outputs": [
        {
          "output_type": "stream",
          "name": "stdout",
          "text": [
            "Matrix:\n",
            "[[ 4 15]\n",
            " [17 20]]\n",
            "\n",
            "Shape:(2, 2)\n",
            "Rank:2\n",
            "\n"
          ]
        }
      ]
    },
    {
      "cell_type": "code",
      "source": [
        "H = np.array([\n",
        "    [8,-5],\n",
        "    [9,4]\n",
        "])\n",
        "des_mat(H)"
      ],
      "metadata": {
        "id": "F4FUNHFiFu3k",
        "colab": {
          "base_uri": "https://localhost:8080/"
        },
        "outputId": "f10721cf-2e6c-46f3-b6de-fb88d8efd717"
      },
      "execution_count": null,
      "outputs": [
        {
          "output_type": "stream",
          "name": "stdout",
          "text": [
            "Matrix:\n",
            "[[ 8 -5]\n",
            " [ 9  4]]\n",
            "\n",
            "Shape:(2, 2)\n",
            "Rank:2\n",
            "\n"
          ]
        }
      ]
    },
    {
      "cell_type": "code",
      "source": [
        "## Declaring a 3 x 2 matrix\n",
        "E = np.array([\n",
        "    [12, 7],\n",
        "    [15, 26],\n",
        "    [69, 15]\n",
        "])\n",
        "des_mat(E)"
      ],
      "metadata": {
        "colab": {
          "base_uri": "https://localhost:8080/"
        },
        "id": "p9iBIHehGrE5",
        "outputId": "fe60a75a-068e-4437-e03b-84bd8cad0d45"
      },
      "execution_count": null,
      "outputs": [
        {
          "output_type": "stream",
          "name": "stdout",
          "text": [
            "Matrix:\n",
            "[[12  7]\n",
            " [15 26]\n",
            " [69 15]]\n",
            "\n",
            "Shape:(3, 2)\n",
            "Rank:2\n",
            "\n"
          ]
        }
      ]
    },
    {
      "cell_type": "code",
      "source": [
        "T = np.array([6,9,15,32,20])\n",
        "des_mat(T)"
      ],
      "metadata": {
        "colab": {
          "base_uri": "https://localhost:8080/"
        },
        "id": "Awmsw1B-Gx8Q",
        "outputId": "12da693f-ba38-4a99-efc0-df85d3d714d6"
      },
      "execution_count": null,
      "outputs": [
        {
          "output_type": "stream",
          "name": "stdout",
          "text": [
            "Matrix:\n",
            "[ 6  9 15 32 20]\n",
            "\n",
            "Shape:(5,)\n",
            "Rank:1\n",
            "\n"
          ]
        }
      ]
    },
    {
      "cell_type": "markdown",
      "source": [
        "#Categorizing Matrices\n",
        "---\n",
        "There are several ways of classifying matrices. Once could be according to their shape and another is according to their element values.\n",
        "---\n",
        "\n"
      ],
      "metadata": {
        "id": "99cKH-vHTLiR"
      }
    },
    {
      "cell_type": "markdown",
      "source": [
        "---\n",
        "##According to Shape\n",
        "\n",
        "###**Row and Column Matrices**\n",
        "Row and column matrices are common in vector and matrix computations.\n",
        "\n",
        "---"
      ],
      "metadata": {
        "id": "FWDT0pVenHoP"
      }
    },
    {
      "cell_type": "code",
      "source": [
        "##Declaring a ROW MATRIX\n",
        "\n",
        "row_1D = np.array([ 5, 6, 7])\n",
        "##Row 1 is a 1-D matrix with a shape of (3,), not really a matirx\n",
        "row_2D = np.array([[ 4, 3, 5 ]])\n",
        "##Row 2 is a 2-D matrix with a shape of (1,3)\n",
        "des_mat(row_1D)\n",
        "des_mat(row_2D)"
      ],
      "metadata": {
        "id": "1EWfU5vJ3Wso",
        "colab": {
          "base_uri": "https://localhost:8080/"
        },
        "outputId": "1637b685-7ed6-4b08-da61-37ad01234739"
      },
      "execution_count": null,
      "outputs": [
        {
          "output_type": "stream",
          "name": "stdout",
          "text": [
            "Matrix:\n",
            "[5 6 7]\n",
            "\n",
            "Shape:(3,)\n",
            "Rank:1\n",
            "\n",
            "Matrix:\n",
            "[[4 3 5]]\n",
            "\n",
            "Shape:(1, 3)\n",
            "Rank:2\n",
            "\n"
          ]
        }
      ]
    },
    {
      "cell_type": "code",
      "source": [
        "##Declaring Column Matrix\n",
        "\n",
        "col_m = np.array ([ [11], [66], [45]])\n",
        "##2-D matrix with a shape of (3,1)\n",
        "des_mat(col_m)"
      ],
      "metadata": {
        "colab": {
          "base_uri": "https://localhost:8080/"
        },
        "id": "nRCu1n2bo7gL",
        "outputId": "0546392f-433d-4360-c43f-c2baf60d198e"
      },
      "execution_count": null,
      "outputs": [
        {
          "output_type": "stream",
          "name": "stdout",
          "text": [
            "Matrix:\n",
            "[[11]\n",
            " [66]\n",
            " [45]]\n",
            "\n",
            "Shape:(3, 1)\n",
            "Rank:2\n",
            "\n"
          ]
        }
      ]
    },
    {
      "cell_type": "markdown",
      "source": [
        "---\n",
        "##Square Matrices\n",
        "\n",
        "These are matrices with the same row an column sizes. eme"
      ],
      "metadata": {
        "id": "E9sO7HhtpQG0"
      }
    },
    {
      "cell_type": "code",
      "source": [
        "def describe_mat(matrix):\n",
        "    is_square = True if matrix.shape[0] == matrix.shape[1] else False \n",
        "    print(f'Matrix:\\n{matrix}\\n\\nShape: {matrix.shape}\\nRank:{matrix.ndim}\\nIs Square: {is_square}\\n')"
      ],
      "metadata": {
        "id": "Kwz0lZnNru72"
      },
      "execution_count": null,
      "outputs": []
    },
    {
      "cell_type": "code",
      "source": [
        "sq_mat = np.array([\n",
        "  [22, 34, 50], \n",
        "  [60, 89 ,99], \n",
        "  [10, 20, 30]\n",
        "])\n",
        "\n",
        "not_sq = np.array([\n",
        "      [1,5,8], \n",
        "      [7,9,0]\n",
        "])\n",
        "describe_mat(sq_mat)\n",
        "describe_mat(not_sq)"
      ],
      "metadata": {
        "colab": {
          "base_uri": "https://localhost:8080/"
        },
        "id": "TVUy7_FLqJIz",
        "outputId": "8cdf78ee-64f8-47f7-d3af-b2157afb8ac7"
      },
      "execution_count": null,
      "outputs": [
        {
          "output_type": "stream",
          "name": "stdout",
          "text": [
            "Matrix:\n",
            "[[22 34 50]\n",
            " [60 89 99]\n",
            " [10 20 30]]\n",
            "\n",
            "Shape: (3, 3)\n",
            "Rank:2\n",
            "Is Square: True\n",
            "\n",
            "Matrix:\n",
            "[[1 5 8]\n",
            " [7 9 0]]\n",
            "\n",
            "Shape: (2, 3)\n",
            "Rank:2\n",
            "Is Square: False\n",
            "\n"
          ]
        }
      ]
    },
    {
      "cell_type": "markdown",
      "source": [
        "---\n",
        "##According to Element Values\n",
        "---\n",
        "###**Null Matrix**\n",
        "\n",
        "A null matrix has no elements. It is a subspace of any vector or matrix\n",
        "---"
      ],
      "metadata": {
        "id": "xPeus36esEBM"
      }
    },
    {
      "cell_type": "code",
      "source": [
        "def describe_mat(matrix):\n",
        "    if matrix.size > 0:\n",
        "        is_square = True if matrix.shape[0] == matrix.shape[1] else False \n",
        "        print(f'Matrix:\\n{matrix}\\n\\nShape:{matrix.shape}\\nRank:{matrix.ndim}\\nIs Square: {is_square}\\n')\n",
        "    else:\n",
        "        print('Matrix is Null')"
      ],
      "metadata": {
        "id": "vt6zEV1vtmpc"
      },
      "execution_count": null,
      "outputs": []
    },
    {
      "cell_type": "code",
      "source": [
        "null_m = np.array([])\n",
        "describe_mat(null_m)"
      ],
      "metadata": {
        "colab": {
          "base_uri": "https://localhost:8080/"
        },
        "id": "iOmYw_eatZ0e",
        "outputId": "3703b9e8-f8e2-470d-aff8-e43b80327a32"
      },
      "execution_count": null,
      "outputs": [
        {
          "output_type": "stream",
          "name": "stdout",
          "text": [
            "Matrix is Null\n"
          ]
        }
      ]
    },
    {
      "cell_type": "markdown",
      "source": [
        "---\n",
        "###**Zero Matrix**\n",
        "Can be any rectangular matric but the elements have a value of 0\n"
      ],
      "metadata": {
        "id": "6MLdQHqotviv"
      }
    },
    {
      "cell_type": "code",
      "source": [
        "zero_row = np.zeros((4,5))\n",
        "zero_sqr = np.zeros((8,9))\n",
        "zero_rct = np.zeros((3,3))\n",
        "\n",
        "print(f'Zero Row Matrix: \\n{zero_row}')\n",
        "print(f'Zero Square Matric: \\n{zero_sqr}')\n",
        "print(f'Zero Rectangular Matrix: \\n{zero_rct}')\n"
      ],
      "metadata": {
        "colab": {
          "base_uri": "https://localhost:8080/"
        },
        "id": "SS_58p0Kt7-x",
        "outputId": "8fae25ef-6ced-4f99-f9a8-142dc8c91ea4"
      },
      "execution_count": null,
      "outputs": [
        {
          "output_type": "stream",
          "name": "stdout",
          "text": [
            "Zero Row Matrix: \n",
            "[[0. 0. 0. 0. 0.]\n",
            " [0. 0. 0. 0. 0.]\n",
            " [0. 0. 0. 0. 0.]\n",
            " [0. 0. 0. 0. 0.]]\n",
            "Zero Square Matric: \n",
            "[[0. 0. 0. 0. 0. 0. 0. 0. 0.]\n",
            " [0. 0. 0. 0. 0. 0. 0. 0. 0.]\n",
            " [0. 0. 0. 0. 0. 0. 0. 0. 0.]\n",
            " [0. 0. 0. 0. 0. 0. 0. 0. 0.]\n",
            " [0. 0. 0. 0. 0. 0. 0. 0. 0.]\n",
            " [0. 0. 0. 0. 0. 0. 0. 0. 0.]\n",
            " [0. 0. 0. 0. 0. 0. 0. 0. 0.]\n",
            " [0. 0. 0. 0. 0. 0. 0. 0. 0.]]\n",
            "Zero Rectangular Matrix: \n",
            "[[0. 0. 0.]\n",
            " [0. 0. 0.]\n",
            " [0. 0. 0.]]\n"
          ]
        }
      ]
    },
    {
      "cell_type": "markdown",
      "source": [
        "---\n",
        "###**Ones Matrix**\n",
        "The same as zero matrix which can be any rectangular matrix but all elements are 1s."
      ],
      "metadata": {
        "id": "zFq3is5-vp6Q"
      }
    },
    {
      "cell_type": "code",
      "source": [
        "one_row = np.ones((3,3))\n",
        "one_sqr = np.ones((4,5))\n",
        "one_rct = np.ones((6,6))\n",
        "\n",
        "print(f'One Row Matrix: \\n{one_row}')\n",
        "print(f'One Square Matrix: \\n{one_sqr}')\n",
        "print(f'One Rectangular Matrix: \\n{one_rct}')"
      ],
      "metadata": {
        "colab": {
          "base_uri": "https://localhost:8080/"
        },
        "id": "2z_NkQO6v2wG",
        "outputId": "179ded56-c86c-4a07-b9ef-920f8f944c45"
      },
      "execution_count": null,
      "outputs": [
        {
          "output_type": "stream",
          "name": "stdout",
          "text": [
            "One Row Matrix: \n",
            "[[1. 1. 1.]\n",
            " [1. 1. 1.]\n",
            " [1. 1. 1.]]\n",
            "One Square Matrix: \n",
            "[[1. 1. 1. 1. 1.]\n",
            " [1. 1. 1. 1. 1.]\n",
            " [1. 1. 1. 1. 1.]\n",
            " [1. 1. 1. 1. 1.]]\n",
            "One Rectangular Matrix: \n",
            "[[1. 1. 1. 1. 1. 1.]\n",
            " [1. 1. 1. 1. 1. 1.]\n",
            " [1. 1. 1. 1. 1. 1.]\n",
            " [1. 1. 1. 1. 1. 1.]\n",
            " [1. 1. 1. 1. 1. 1.]\n",
            " [1. 1. 1. 1. 1. 1.]]\n"
          ]
        }
      ]
    },
    {
      "cell_type": "markdown",
      "source": [
        "---\n",
        "##**Diagonal Matrix**\n",
        "A square matric that the values are only at the diagonal of the matrix.\n"
      ],
      "metadata": {
        "id": "_EiJMJxkwbIp"
      }
    },
    {
      "cell_type": "code",
      "source": [
        "np.array([[5,0,0], [0,5,0],[0,0,5]])"
      ],
      "metadata": {
        "colab": {
          "base_uri": "https://localhost:8080/"
        },
        "id": "h55GC3mZwjSL",
        "outputId": "07577fe3-f08a-45c6-97cb-dc3872ad3bbf"
      },
      "execution_count": null,
      "outputs": [
        {
          "output_type": "execute_result",
          "data": {
            "text/plain": [
              "array([[5, 0, 0],\n",
              "       [0, 5, 0],\n",
              "       [0, 0, 5]])"
            ]
          },
          "metadata": {},
          "execution_count": 52
        }
      ]
    },
    {
      "cell_type": "code",
      "source": [
        "q = np.diag([4, 3, 5, 6])\n",
        "np.diag(q).shape == q.shape[0] == q.shape[1]"
      ],
      "metadata": {
        "colab": {
          "base_uri": "https://localhost:8080/"
        },
        "id": "P-Dl5-mew3T3",
        "outputId": "f9d41b29-0c30-4315-fb27-a0b6c9631792"
      },
      "execution_count": null,
      "outputs": [
        {
          "output_type": "execute_result",
          "data": {
            "text/plain": [
              "False"
            ]
          },
          "metadata": {},
          "execution_count": 56
        }
      ]
    },
    {
      "cell_type": "markdown",
      "source": [
        "---\n",
        "##**Identity Matrix**\n",
        "A special diagonal matrix which the values at the diagonal are 1s.\n"
      ],
      "metadata": {
        "id": "Iv_0EOfyxo-9"
      }
    },
    {
      "cell_type": "code",
      "source": [
        "np.eye(6)"
      ],
      "metadata": {
        "colab": {
          "base_uri": "https://localhost:8080/"
        },
        "id": "SEaVN7RRxygH",
        "outputId": "74839cc2-c5a9-4919-a3e0-2d9cd683de51"
      },
      "execution_count": null,
      "outputs": [
        {
          "output_type": "execute_result",
          "data": {
            "text/plain": [
              "array([[1., 0., 0., 0., 0., 0.],\n",
              "       [0., 1., 0., 0., 0., 0.],\n",
              "       [0., 0., 1., 0., 0., 0.],\n",
              "       [0., 0., 0., 1., 0., 0.],\n",
              "       [0., 0., 0., 0., 1., 0.],\n",
              "       [0., 0., 0., 0., 0., 1.]])"
            ]
          },
          "metadata": {},
          "execution_count": 54
        }
      ]
    },
    {
      "cell_type": "code",
      "source": [
        "np.identity(7)"
      ],
      "metadata": {
        "colab": {
          "base_uri": "https://localhost:8080/"
        },
        "id": "fFeUR1Dax2Xs",
        "outputId": "a310a010-9571-4b4d-cc5c-de393f9f3c33"
      },
      "execution_count": null,
      "outputs": [
        {
          "output_type": "execute_result",
          "data": {
            "text/plain": [
              "array([[1., 0., 0., 0., 0., 0., 0.],\n",
              "       [0., 1., 0., 0., 0., 0., 0.],\n",
              "       [0., 0., 1., 0., 0., 0., 0.],\n",
              "       [0., 0., 0., 1., 0., 0., 0.],\n",
              "       [0., 0., 0., 0., 1., 0., 0.],\n",
              "       [0., 0., 0., 0., 0., 1., 0.],\n",
              "       [0., 0., 0., 0., 0., 0., 1.]])"
            ]
          },
          "metadata": {},
          "execution_count": 55
        }
      ]
    },
    {
      "cell_type": "markdown",
      "source": [
        "---\n",
        "##**Upper Triangular Matrix**\n",
        "It's a matrix that has no values below the diagonal."
      ],
      "metadata": {
        "id": "E38KFFnyyGTT"
      }
    },
    {
      "cell_type": "code",
      "source": [
        "np.array([ [3,2,1], [0,6,5], [0,0,8]\n",
        "])"
      ],
      "metadata": {
        "colab": {
          "base_uri": "https://localhost:8080/"
        },
        "id": "lVizIExfyPAy",
        "outputId": "92cde798-4675-4357-a723-b8432e8cdf83"
      },
      "execution_count": null,
      "outputs": [
        {
          "output_type": "execute_result",
          "data": {
            "text/plain": [
              "array([[3, 2, 1],\n",
              "       [0, 6, 5],\n",
              "       [0, 0, 8]])"
            ]
          },
          "metadata": {},
          "execution_count": 62
        }
      ]
    },
    {
      "cell_type": "markdown",
      "source": [
        "---\n",
        "##**Lower Triangular Matrix**\n",
        "Has no value above the diagonal"
      ],
      "metadata": {
        "id": "Y2wvTIPGy7gs"
      }
    },
    {
      "cell_type": "code",
      "source": [
        "np.array([[3,0,0],[4,8,0],[1,2,3]])"
      ],
      "metadata": {
        "colab": {
          "base_uri": "https://localhost:8080/"
        },
        "id": "CnUmSb76zAkb",
        "outputId": "d5016141-3076-485e-eace-9a6d05432518"
      },
      "execution_count": null,
      "outputs": [
        {
          "output_type": "execute_result",
          "data": {
            "text/plain": [
              "array([[3, 0, 0],\n",
              "       [4, 8, 0],\n",
              "       [1, 2, 3]])"
            ]
          },
          "metadata": {},
          "execution_count": 63
        }
      ]
    },
    {
      "cell_type": "markdown",
      "source": [
        "---\n",
        "#*Practice*\n"
      ],
      "metadata": {
        "id": "iHB9hG0kzWDf"
      }
    },
    {
      "cell_type": "markdown",
      "source": [
        "1.\n",
        " $$\n",
        "\\theta = 5x + 3y -z\n",
        "$$\n"
      ],
      "metadata": {
        "id": "-h6vFMfJzZsC"
      }
    },
    {
      "cell_type": "markdown",
      "source": [
        "2.\n",
        "\n",
        "$$\n",
        "A = \\left\\{\n",
        "    \\begin{array}\\\n",
        "      x_1 + 2x_2 +x_3 \\\\\n",
        "      4x_2 = x_3 \\\\\n",
        "      10x_3\n",
        "    \\end{array}\n",
        "  \\right.\n",
        "$$"
      ],
      "metadata": {
        "id": "c6QMEoVU0AB-"
      }
    },
    {
      "cell_type": "markdown",
      "source": [
        "3. Given the matrix below, express it as a linear combination in a markdown."
      ],
      "metadata": {
        "id": "SYwl18ny12xx"
      }
    },
    {
      "cell_type": "code",
      "source": [
        "G = np.array([\n",
        "    [1,7,8],\n",
        "    [2,2,2],\n",
        "    [4,6,7]\n",
        "])"
      ],
      "metadata": {
        "id": "xmxtDJzN0ZQb"
      },
      "execution_count": null,
      "outputs": []
    },
    {
      "cell_type": "markdown",
      "source": [
        "4. Given the matrix below, display the output as a LaTeX makdown also express it as a system of linear combinations."
      ],
      "metadata": {
        "id": "OpNeE8Iz2Cj3"
      }
    },
    {
      "cell_type": "code",
      "source": [
        "H = np.tril(G)\n",
        "H"
      ],
      "metadata": {
        "colab": {
          "base_uri": "https://localhost:8080/"
        },
        "id": "75sk4zcm2Ebp",
        "outputId": "252ed577-eb7f-4074-faee-103127d3423d"
      },
      "execution_count": null,
      "outputs": [
        {
          "output_type": "execute_result",
          "data": {
            "text/plain": [
              "array([[1, 0, 0],\n",
              "       [2, 2, 0],\n",
              "       [4, 6, 7]])"
            ]
          },
          "metadata": {},
          "execution_count": 68
        }
      ]
    },
    {
      "cell_type": "markdown",
      "source": [
        "---\n",
        "#MATRIX ALGEBRA\n"
      ],
      "metadata": {
        "id": "mQoxDB8G2O0_"
      }
    },
    {
      "cell_type": "markdown",
      "source": [
        "##**Addition**"
      ],
      "metadata": {
        "id": "i8YiK8uY2UJL"
      }
    },
    {
      "cell_type": "code",
      "source": [
        "X = np.array([ [1,1],[2,2],[4,4]])\n",
        "Y = np.array([[3,3],[5,5],[7,7]])\n",
        "X+Y"
      ],
      "metadata": {
        "colab": {
          "base_uri": "https://localhost:8080/"
        },
        "id": "RLLgI5XX2WMk",
        "outputId": "e86a4851-f775-473c-de02-52e86efb0b2b"
      },
      "execution_count": null,
      "outputs": [
        {
          "output_type": "execute_result",
          "data": {
            "text/plain": [
              "array([[ 4,  4],\n",
              "       [ 7,  7],\n",
              "       [11, 11]])"
            ]
          },
          "metadata": {},
          "execution_count": 70
        }
      ]
    },
    {
      "cell_type": "code",
      "source": [
        "2+X"
      ],
      "metadata": {
        "colab": {
          "base_uri": "https://localhost:8080/"
        },
        "id": "7HJO6hVI2nMc",
        "outputId": "a1345c5a-3488-4a57-a4b6-e3add4cfccc1"
      },
      "execution_count": null,
      "outputs": [
        {
          "output_type": "execute_result",
          "data": {
            "text/plain": [
              "array([[3, 3],\n",
              "       [4, 4],\n",
              "       [6, 6]])"
            ]
          },
          "metadata": {},
          "execution_count": 72
        }
      ]
    },
    {
      "cell_type": "markdown",
      "source": [
        "##**Subtraction**"
      ],
      "metadata": {
        "id": "fHpJQ08G2uPH"
      }
    },
    {
      "cell_type": "code",
      "source": [
        "X-Y"
      ],
      "metadata": {
        "colab": {
          "base_uri": "https://localhost:8080/"
        },
        "id": "CwOq7TbV2s7X",
        "outputId": "6b6a6b0a-d8ce-4096-9e68-9d7cfcc51dee"
      },
      "execution_count": null,
      "outputs": [
        {
          "output_type": "execute_result",
          "data": {
            "text/plain": [
              "array([[-2, -2],\n",
              "       [-3, -3],\n",
              "       [-3, -3]])"
            ]
          },
          "metadata": {},
          "execution_count": 73
        }
      ]
    },
    {
      "cell_type": "code",
      "source": [
        "4-Y == 4*np.ones(Y.shape)-Y"
      ],
      "metadata": {
        "colab": {
          "base_uri": "https://localhost:8080/"
        },
        "id": "A3QSvZh32zKF",
        "outputId": "54687f75-9750-46bd-c291-f9a0d4135347"
      },
      "execution_count": null,
      "outputs": [
        {
          "output_type": "execute_result",
          "data": {
            "text/plain": [
              "array([[ True,  True],\n",
              "       [ True,  True],\n",
              "       [ True,  True]])"
            ]
          },
          "metadata": {},
          "execution_count": 75
        }
      ]
    },
    {
      "cell_type": "markdown",
      "source": [
        "##**Element-wise Multiplication**"
      ],
      "metadata": {
        "id": "S4qRoEgs298d"
      }
    },
    {
      "cell_type": "code",
      "source": [
        "X*Y\n",
        "np.multiply(X,Y)"
      ],
      "metadata": {
        "colab": {
          "base_uri": "https://localhost:8080/"
        },
        "id": "Ctc6-Yev3Amp",
        "outputId": "10508185-4fcb-468d-becf-9fce563a84e4"
      },
      "execution_count": null,
      "outputs": [
        {
          "output_type": "execute_result",
          "data": {
            "text/plain": [
              "array([[ 3,  3],\n",
              "       [10, 10],\n",
              "       [28, 28]])"
            ]
          },
          "metadata": {},
          "execution_count": 76
        }
      ]
    },
    {
      "cell_type": "code",
      "source": [
        "5*Y"
      ],
      "metadata": {
        "colab": {
          "base_uri": "https://localhost:8080/"
        },
        "id": "9PgvHgbL3F98",
        "outputId": "d7243b9d-bc69-47fd-fb57-6de7b61570b9"
      },
      "execution_count": null,
      "outputs": [
        {
          "output_type": "execute_result",
          "data": {
            "text/plain": [
              "array([[15, 15],\n",
              "       [25, 25],\n",
              "       [35, 35]])"
            ]
          },
          "metadata": {},
          "execution_count": 77
        }
      ]
    },
    {
      "cell_type": "code",
      "source": [
        "X@Y\n",
        "\n",
        "##cannot be with the given matix"
      ],
      "metadata": {
        "colab": {
          "base_uri": "https://localhost:8080/",
          "height": 183
        },
        "id": "ZwHvsrUG9dDV",
        "outputId": "bea580f9-d7f7-46b1-b4c5-8ca81473d4ec"
      },
      "execution_count": null,
      "outputs": [
        {
          "output_type": "error",
          "ename": "ValueError",
          "evalue": "ignored",
          "traceback": [
            "\u001b[0;31m---------------------------------------------------------------------------\u001b[0m",
            "\u001b[0;31mValueError\u001b[0m                                Traceback (most recent call last)",
            "\u001b[0;32m<ipython-input-83-3f192d1cb710>\u001b[0m in \u001b[0;36m<module>\u001b[0;34m()\u001b[0m\n\u001b[0;32m----> 1\u001b[0;31m \u001b[0mX\u001b[0m\u001b[0;34m@\u001b[0m\u001b[0mY\u001b[0m\u001b[0;34m\u001b[0m\u001b[0;34m\u001b[0m\u001b[0m\n\u001b[0m",
            "\u001b[0;31mValueError\u001b[0m: matmul: Input operand 1 has a mismatch in its core dimension 0, with gufunc signature (n?,k),(k,m?)->(n?,m?) (size 3 is different from 2)"
          ]
        }
      ]
    },
    {
      "cell_type": "code",
      "source": [
        "alpha=5**-5\n",
        "X/(alpha+Y)"
      ],
      "metadata": {
        "colab": {
          "base_uri": "https://localhost:8080/"
        },
        "id": "-oau2oIh3Q8k",
        "outputId": "e9f393f6-1323-42a3-ba05-c4728d37fb1f"
      },
      "execution_count": null,
      "outputs": [
        {
          "output_type": "execute_result",
          "data": {
            "text/plain": [
              "array([[0.33329778, 0.33329778],\n",
              "       [0.3999744 , 0.3999744 ],\n",
              "       [0.57140245, 0.57140245]])"
            ]
          },
          "metadata": {},
          "execution_count": 80
        }
      ]
    },
    {
      "cell_type": "code",
      "source": [
        "np.add(X,Y)"
      ],
      "metadata": {
        "colab": {
          "base_uri": "https://localhost:8080/"
        },
        "id": "_G5LWNZi3ZGQ",
        "outputId": "6c829431-345f-4122-8676-123e2c70cf39"
      },
      "execution_count": null,
      "outputs": [
        {
          "output_type": "execute_result",
          "data": {
            "text/plain": [
              "array([[ 4,  4],\n",
              "       [ 7,  7],\n",
              "       [11, 11]])"
            ]
          },
          "metadata": {},
          "execution_count": 82
        }
      ]
    },
    {
      "cell_type": "markdown",
      "source": [
        "#***TASK 1***\n",
        "Create a function ``` mat_desc() ``` that describes a matrix that should:\n",
        "\n",
        "\n",
        "1.   Displays **shape**, **size**, and **rank** of the matrix\n",
        "2.   Displays whether the matrix is a ```square``` or ```non-square```\n",
        "3. Displays whether the matrix is an **empty matrix**\n",
        "4. Displays if the matrix is an ```identity```, ```ones```, or ```zero``` matrix\n",
        "\n",
        "\n"
      ],
      "metadata": {
        "id": "jkg7Vae-3gWN"
      }
    },
    {
      "cell_type": "code",
      "source": [
        "## Function Area\n",
        "def mat_desc(matrix):\n",
        "  if matrix.size > 0:\n",
        "    matrix = np.array(matrix)\n",
        "    square_check = True if matrix.shape[0] == matrix.shape[1] else False\n",
        "    ones_check = True if (np.ones([matrix.shape[0], matrix.shape[1]]) == matrix).all() else False\n",
        "    zeroes_check = True if (np.zeros([matrix.shape[0], matrix.shape[1]]) == matrix).all() else False\n",
        "    if matrix.shape[0] == matrix.shape[1]:\n",
        "      identity_check = True if (np.identity(matrix.shape[0]) == matrix).all() else False\n",
        "    else:\n",
        "      identity_check = False\n",
        "    print(f'Matrix:\\n{matrix}\\n\\nShape:\\t{matrix.shape}\\nRank:\\t{matrix.ndim}\\nSquare: {square_check}\\nIdentity: {identity_check}\\nOnes: {ones_check}\\nZeros: {zeroes_check}\\n')\n",
        "  else:\n",
        "    print('Empty Matrix')"
      ],
      "metadata": {
        "id": "fVP3alMs3p0Z"
      },
      "execution_count": null,
      "outputs": []
    },
    {
      "cell_type": "code",
      "source": [
        "## Matrix Declarations\n",
        "ident = np.eye(4)\n",
        "onces = np.ones((3,5))\n",
        "rect = np.array([\n",
        "       [3, 6, 8, 5],\n",
        "       [1, 2, 9, 3],\n",
        "       [11, 16, 7, 4]\n",
        "])\n",
        "zeroes = np.zeros((5,3))\n",
        "nothing = np.array([])\n"
      ],
      "metadata": {
        "id": "OtD7aMxn6pdR"
      },
      "execution_count": null,
      "outputs": []
    },
    {
      "cell_type": "code",
      "source": [
        "## Test Areas\n",
        "print(\"1)\")\n",
        "mat_desc(ident)\n",
        "\n",
        "print(\"2)\")\n",
        "mat_desc(onces)\n",
        "\n",
        "print(\"3)\")\n",
        "mat_desc(rect)\n",
        "\n",
        "print(\"4)\")\n",
        "mat_desc(zeroes)\n",
        "\n",
        "print(\"5)\")\n",
        "mat_desc(nothing)"
      ],
      "metadata": {
        "id": "dS5HofPI6ryg",
        "colab": {
          "base_uri": "https://localhost:8080/"
        },
        "outputId": "71610685-ffc5-415a-b977-7e05b20eb1fa"
      },
      "execution_count": null,
      "outputs": [
        {
          "output_type": "stream",
          "name": "stdout",
          "text": [
            "1)\n",
            "Matrix:\n",
            "[[1. 0. 0. 0.]\n",
            " [0. 1. 0. 0.]\n",
            " [0. 0. 1. 0.]\n",
            " [0. 0. 0. 1.]]\n",
            "\n",
            "Shape:\t(4, 4)\n",
            "Rank:\t2\n",
            "Square: True\n",
            "Identity: True\n",
            "Ones: False\n",
            "Zeros: False\n",
            "\n",
            "2)\n",
            "Matrix:\n",
            "[[1. 1. 1. 1. 1.]\n",
            " [1. 1. 1. 1. 1.]\n",
            " [1. 1. 1. 1. 1.]]\n",
            "\n",
            "Shape:\t(3, 5)\n",
            "Rank:\t2\n",
            "Square: False\n",
            "Identity: False\n",
            "Ones: True\n",
            "Zeros: False\n",
            "\n",
            "3)\n",
            "Matrix:\n",
            "[[ 3  6  8  5]\n",
            " [ 1  2  9  3]\n",
            " [11 16  7  4]]\n",
            "\n",
            "Shape:\t(3, 4)\n",
            "Rank:\t2\n",
            "Square: False\n",
            "Identity: False\n",
            "Ones: False\n",
            "Zeros: False\n",
            "\n",
            "4)\n",
            "Matrix:\n",
            "[[0. 0. 0.]\n",
            " [0. 0. 0.]\n",
            " [0. 0. 0.]\n",
            " [0. 0. 0.]\n",
            " [0. 0. 0.]]\n",
            "\n",
            "Shape:\t(5, 3)\n",
            "Rank:\t2\n",
            "Square: False\n",
            "Identity: False\n",
            "Ones: False\n",
            "Zeros: True\n",
            "\n",
            "5)\n",
            "Empty Matrix\n"
          ]
        }
      ]
    },
    {
      "cell_type": "markdown",
      "source": [
        "#***TASK 2***\n",
        "Create a funciton named ```mat_operations()``` that takes two matrices a input parameters it should:\n",
        "\n",
        "\n",
        "1.   Determine if the matrices are viable for operation and returns your own *error mesage* if they are not viable.\n",
        "2.   Returns the **sum** of the matrices\n",
        "3. Returns the **difference** of the matrices\n",
        "4. Returns the **element-wise multiplication** of the matrices.\n",
        "5. Returns the **element-wise division** of the matrices.\n",
        "\n"
      ],
      "metadata": {
        "id": "rlkJ6zZ13sgL"
      }
    },
    {
      "cell_type": "code",
      "source": [
        "## Function Area\n",
        "def mat_operations(matrix1, matrix2):\n",
        "  if matrix1.size and matrix2.size > 0:\n",
        "    matrix1 = np.array(matrix1)\n",
        "    matrix2 = np.array(matrix2)\n",
        "    viable_check = True if matrix1.shape[0] == matrix2.shape[0] and matrix1.shape[1] == matrix2.shape[1] else False\n",
        "    if viable_check == False:\n",
        "      print(f'Matrix 1:\\n{matrix1}\\n\\nMatrix 2:\\n{matrix2}\\n\\nMatrices Shapes: {matrix1.shape} and {matrix2.shape}\\nViable for Operation: {viable_check}\\nMatrices Not Viable for Operations: Inequal Matrix Shapes')\n",
        "    else:\n",
        "      sum_check = matrix1 + matrix2\n",
        "      diff_check = matrix1 - matrix2\n",
        "      mult_check = np.multiply(matrix1,matrix2)\n",
        "      div_check = matrix1 / matrix2\n",
        "      print(f'Matrix 1:\\n{matrix1}\\n\\nMatrix 2:\\n{matrix2}\\n\\nMatrices Shapes: {matrix1.shape} and {matrix2.shape}\\nViable for Operation: {viable_check}\\n\\nSum of Matrices:\\n{sum_check}\\n\\nDifference of Matrices:\\n{diff_check}\\n\\nElement-Wise Multiplication:\\n{mult_check}\\n\\nElement-Wise Division:\\n{div_check}')\n",
        "  else:\n",
        "    print('Error: One or both of the matrices is/are null matrices')"
      ],
      "metadata": {
        "id": "2vSF_8cT8M9s"
      },
      "execution_count": null,
      "outputs": []
    },
    {
      "cell_type": "code",
      "source": [
        "## Matrix Declarations\n",
        "nullm = np.array([])\n",
        "none = np.ones((5, 7))\n",
        "\n",
        "one = np.eye(4)\n",
        "two = np.array([\n",
        "      [5, 3, 8, 9],\n",
        "      [2, 3, 6, 1],\n",
        "      [6, 7, 4, 5],\n",
        "      [11, 9, 14, 7]\n",
        "])\n",
        "\n",
        "box1 = np.array([\n",
        "       [8, 9, 2, 6, 3, 6],\n",
        "       [9, 4, 4, 3, 4, 6],\n",
        "       [6, 8, 7, 2, 5, 6],\n",
        "])\n",
        "box2 = np.array([\n",
        "       [6, 3, 7, 4, 7, 1],\n",
        "       [9, 6, 8, 6, 4, 5],\n",
        "       [1, 5, 6, 4, 8, 3]\n",
        "])\n",
        "\n",
        "mat1 = np.eye(5)\n",
        "mat2 = np.ones((4,5))\n",
        "\n",
        "cat = np.eye(7)\n",
        "dog = np.ones((7,7))"
      ],
      "metadata": {
        "id": "m4gWwb7OOCpu"
      },
      "execution_count": null,
      "outputs": []
    },
    {
      "cell_type": "code",
      "source": [
        "## Test Area\n",
        "print(\"1)\")\n",
        "mat_operations(nullm, none)\n",
        "print('\\n\\n')\n",
        "\n",
        "print(\"2)\")\n",
        "mat_operations(one, two)\n",
        "print('\\n\\n')\n",
        "\n",
        "print(\"3)\")\n",
        "mat_operations(box1, box2)\n",
        "print('\\n\\n')\n",
        "\n",
        "print(\"4)\")\n",
        "mat_operations(mat1, mat2)\n",
        "print('\\n\\n')\n",
        "\n",
        "print(\"5)\")\n",
        "mat_operations(cat, dog)"
      ],
      "metadata": {
        "colab": {
          "base_uri": "https://localhost:8080/"
        },
        "id": "gVSPKGyROF20",
        "outputId": "68be7515-3517-47bb-cf34-8e9bd663727b"
      },
      "execution_count": null,
      "outputs": [
        {
          "output_type": "stream",
          "name": "stdout",
          "text": [
            "1)\n",
            "Error: One or both of the matrices is/are null matrices\n",
            "\n",
            "\n",
            "\n",
            "2)\n",
            "Matrix 1:\n",
            "[[1. 0. 0. 0.]\n",
            " [0. 1. 0. 0.]\n",
            " [0. 0. 1. 0.]\n",
            " [0. 0. 0. 1.]]\n",
            "\n",
            "Matrix 2:\n",
            "[[ 5  3  8  9]\n",
            " [ 2  3  6  1]\n",
            " [ 6  7  4  5]\n",
            " [11  9 14  7]]\n",
            "\n",
            "Matrices Shapes: (4, 4) and (4, 4)\n",
            "Viable for Operation: True\n",
            "\n",
            "Sum of Matrices:\n",
            "[[ 6.  3.  8.  9.]\n",
            " [ 2.  4.  6.  1.]\n",
            " [ 6.  7.  5.  5.]\n",
            " [11.  9. 14.  8.]]\n",
            "\n",
            "Difference of Matrices:\n",
            "[[ -4.  -3.  -8.  -9.]\n",
            " [ -2.  -2.  -6.  -1.]\n",
            " [ -6.  -7.  -3.  -5.]\n",
            " [-11.  -9. -14.  -6.]]\n",
            "\n",
            "Element-Wise Multiplication:\n",
            "[[5. 0. 0. 0.]\n",
            " [0. 3. 0. 0.]\n",
            " [0. 0. 4. 0.]\n",
            " [0. 0. 0. 7.]]\n",
            "\n",
            "Element-Wise Division:\n",
            "[[0.2        0.         0.         0.        ]\n",
            " [0.         0.33333333 0.         0.        ]\n",
            " [0.         0.         0.25       0.        ]\n",
            " [0.         0.         0.         0.14285714]]\n",
            "\n",
            "\n",
            "\n",
            "3)\n",
            "Matrix 1:\n",
            "[[8 9 2 6 3 6]\n",
            " [9 4 4 3 4 6]\n",
            " [6 8 7 2 5 6]]\n",
            "\n",
            "Matrix 2:\n",
            "[[6 3 7 4 7 1]\n",
            " [9 6 8 6 4 5]\n",
            " [1 5 6 4 8 3]]\n",
            "\n",
            "Matrices Shapes: (3, 6) and (3, 6)\n",
            "Viable for Operation: True\n",
            "\n",
            "Sum of Matrices:\n",
            "[[14 12  9 10 10  7]\n",
            " [18 10 12  9  8 11]\n",
            " [ 7 13 13  6 13  9]]\n",
            "\n",
            "Difference of Matrices:\n",
            "[[ 2  6 -5  2 -4  5]\n",
            " [ 0 -2 -4 -3  0  1]\n",
            " [ 5  3  1 -2 -3  3]]\n",
            "\n",
            "Element-Wise Multiplication:\n",
            "[[48 27 14 24 21  6]\n",
            " [81 24 32 18 16 30]\n",
            " [ 6 40 42  8 40 18]]\n",
            "\n",
            "Element-Wise Division:\n",
            "[[1.33333333 3.         0.28571429 1.5        0.42857143 6.        ]\n",
            " [1.         0.66666667 0.5        0.5        1.         1.2       ]\n",
            " [6.         1.6        1.16666667 0.5        0.625      2.        ]]\n",
            "\n",
            "\n",
            "\n",
            "4)\n",
            "Matrix 1:\n",
            "[[1. 0. 0. 0. 0.]\n",
            " [0. 1. 0. 0. 0.]\n",
            " [0. 0. 1. 0. 0.]\n",
            " [0. 0. 0. 1. 0.]\n",
            " [0. 0. 0. 0. 1.]]\n",
            "\n",
            "Matrix 2:\n",
            "[[1. 1. 1. 1. 1.]\n",
            " [1. 1. 1. 1. 1.]\n",
            " [1. 1. 1. 1. 1.]\n",
            " [1. 1. 1. 1. 1.]]\n",
            "\n",
            "Matrices Shapes: (5, 5) and (4, 5)\n",
            "Viable for Operation: False\n",
            "Matrices Not Viable for Operations: Inequal Matrix Shapes\n",
            "\n",
            "\n",
            "\n",
            "5)\n",
            "Matrix 1:\n",
            "[[1. 0. 0. 0. 0. 0. 0.]\n",
            " [0. 1. 0. 0. 0. 0. 0.]\n",
            " [0. 0. 1. 0. 0. 0. 0.]\n",
            " [0. 0. 0. 1. 0. 0. 0.]\n",
            " [0. 0. 0. 0. 1. 0. 0.]\n",
            " [0. 0. 0. 0. 0. 1. 0.]\n",
            " [0. 0. 0. 0. 0. 0. 1.]]\n",
            "\n",
            "Matrix 2:\n",
            "[[1. 1. 1. 1. 1. 1. 1.]\n",
            " [1. 1. 1. 1. 1. 1. 1.]\n",
            " [1. 1. 1. 1. 1. 1. 1.]\n",
            " [1. 1. 1. 1. 1. 1. 1.]\n",
            " [1. 1. 1. 1. 1. 1. 1.]\n",
            " [1. 1. 1. 1. 1. 1. 1.]\n",
            " [1. 1. 1. 1. 1. 1. 1.]]\n",
            "\n",
            "Matrices Shapes: (7, 7) and (7, 7)\n",
            "Viable for Operation: True\n",
            "\n",
            "Sum of Matrices:\n",
            "[[2. 1. 1. 1. 1. 1. 1.]\n",
            " [1. 2. 1. 1. 1. 1. 1.]\n",
            " [1. 1. 2. 1. 1. 1. 1.]\n",
            " [1. 1. 1. 2. 1. 1. 1.]\n",
            " [1. 1. 1. 1. 2. 1. 1.]\n",
            " [1. 1. 1. 1. 1. 2. 1.]\n",
            " [1. 1. 1. 1. 1. 1. 2.]]\n",
            "\n",
            "Difference of Matrices:\n",
            "[[ 0. -1. -1. -1. -1. -1. -1.]\n",
            " [-1.  0. -1. -1. -1. -1. -1.]\n",
            " [-1. -1.  0. -1. -1. -1. -1.]\n",
            " [-1. -1. -1.  0. -1. -1. -1.]\n",
            " [-1. -1. -1. -1.  0. -1. -1.]\n",
            " [-1. -1. -1. -1. -1.  0. -1.]\n",
            " [-1. -1. -1. -1. -1. -1.  0.]]\n",
            "\n",
            "Element-Wise Multiplication:\n",
            "[[1. 0. 0. 0. 0. 0. 0.]\n",
            " [0. 1. 0. 0. 0. 0. 0.]\n",
            " [0. 0. 1. 0. 0. 0. 0.]\n",
            " [0. 0. 0. 1. 0. 0. 0.]\n",
            " [0. 0. 0. 0. 1. 0. 0.]\n",
            " [0. 0. 0. 0. 0. 1. 0.]\n",
            " [0. 0. 0. 0. 0. 0. 1.]]\n",
            "\n",
            "Element-Wise Division:\n",
            "[[1. 0. 0. 0. 0. 0. 0.]\n",
            " [0. 1. 0. 0. 0. 0. 0.]\n",
            " [0. 0. 1. 0. 0. 0. 0.]\n",
            " [0. 0. 0. 1. 0. 0. 0.]\n",
            " [0. 0. 0. 0. 1. 0. 0.]\n",
            " [0. 0. 0. 0. 0. 1. 0.]\n",
            " [0. 0. 0. 0. 0. 0. 1.]]\n"
          ]
        }
      ]
    }
  ]
}