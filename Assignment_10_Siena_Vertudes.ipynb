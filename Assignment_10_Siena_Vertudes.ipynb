{
  "nbformat": 4,
  "nbformat_minor": 0,
  "metadata": {
    "colab": {
      "name": "Assignment 10_Siena_Vertudes.ipynb",
      "provenance": [],
      "authorship_tag": "ABX9TyOU69I3DxCF/me0oDXAAN4C",
      "include_colab_link": true
    },
    "kernelspec": {
      "name": "python3",
      "display_name": "Python 3"
    },
    "language_info": {
      "name": "python"
    }
  },
  "cells": [
    {
      "cell_type": "markdown",
      "metadata": {
        "id": "view-in-github",
        "colab_type": "text"
      },
      "source": [
        "<a href=\"https://colab.research.google.com/github/ja-nana/Linear-Algebra_ChE_2nd-Sem-2021/blob/main/Assignment_10_Siena_Vertudes.ipynb\" target=\"_parent\"><img src=\"https://colab.research.google.com/assets/colab-badge.svg\" alt=\"Open In Colab\"/></a>"
      ]
    },
    {
      "cell_type": "markdown",
      "source": [
        "#**Linear Combination and Vector Spaces**\n",
        "\n",
        "##Objectives\n",
        "* Be familiar with representing linear combinations in the 2-dimensional plane.\n",
        "* Visualize spans using vector fields in Python.\n",
        "* Perform vector fields operations using scientific programming."
      ],
      "metadata": {
        "id": "sCXhjaHiBy7G"
      }
    },
    {
      "cell_type": "code",
      "execution_count": null,
      "metadata": {
        "id": "CrUtt0QOBPnx"
      },
      "outputs": [],
      "source": [
        "import numpy as np\n",
        "import matplotlib.pyplot as plt\n",
        "%matplotlib inline"
      ]
    },
    {
      "cell_type": "markdown",
      "source": [
        "###**Linear Combination**\n",
        "It's a combination of linear scaling and addition of a vector its bases/components. Visualize the vectors and their linear combinations by plotting a sampple of real number values for scalar for the vectors.\n",
        "\n"
      ],
      "metadata": {
        "id": "l_sF-CkbCJ4X"
      }
    },
    {
      "cell_type": "markdown",
      "source": [
        "$$X = \\begin{bmatrix} 6 \\\\ 2 \\end{bmatrix} ,  Y = \\begin{bmatrix} 4 \\\\ 8 \\end{bmatrix}$$"
      ],
      "metadata": {
        "id": "4yTbCSsBCmAp"
      }
    },
    {
      "cell_type": "code",
      "source": [
        "vectX = np.array([6,2])\n",
        "vectY = np.array([4,8])\n",
        "vectX"
      ],
      "metadata": {
        "colab": {
          "base_uri": "https://localhost:8080/"
        },
        "id": "U2CsrF1QCwTw",
        "outputId": "d55741fb-80db-411d-d55d-4cb060fdd009"
      },
      "execution_count": null,
      "outputs": [
        {
          "output_type": "execute_result",
          "data": {
            "text/plain": [
              "array([6, 2])"
            ]
          },
          "metadata": {},
          "execution_count": 12
        }
      ]
    },
    {
      "cell_type": "markdown",
      "source": [
        "###**Span Of Single Vectors**\n",
        "Span of individual vectors can be represented by a line span. \n",
        "\n",
        "$$X = c \\cdot \\begin{bmatrix} 6 \\\\ 2 \\end{bmatrix}$$"
      ],
      "metadata": {
        "id": "cOXirRFkC9X7"
      }
    },
    {
      "cell_type": "code",
      "source": [
        "c = np.arange(-15,15,0.35)\n",
        "\n",
        "plt.scatter(c*vectX[0],c*vectX[1])\n",
        "\n",
        "plt.xlim(-13,13)\n",
        "plt.ylim(-13,13)\n",
        "plt.axhline(y=0, color='k')\n",
        "plt.axvline(x=0, color='k')\n",
        "plt.grid()\n",
        "plt.show()"
      ],
      "metadata": {
        "colab": {
          "base_uri": "https://localhost:8080/",
          "height": 265
        },
        "id": "tqjDOTCwDbgI",
        "outputId": "0e6eefbb-8780-4a4b-9ed2-24af9d7bbf93"
      },
      "execution_count": null,
      "outputs": [
        {
          "output_type": "display_data",
          "data": {
            "text/plain": [
              "<Figure size 432x288 with 1 Axes>"
            ],
            "image/png": "[encoded data removed]"
          },
          "metadata": {
            "needs_background": "light"
          }
        }
      ]
    },
    {
      "cell_type": "markdown",
      "source": [
        "$$Y = c \\cdot \\begin{bmatrix} 4 \\\\ 8 \\end{bmatrix}$$"
      ],
      "metadata": {
        "id": "zd6fL2KrD1xZ"
      }
    },
    {
      "cell_type": "code",
      "source": [
        "c = np.arange(-15,15,0.5)\n",
        "\n",
        "plt.scatter(c*vectY[0],c*vectY[1])\n",
        "\n",
        "plt.xlim(-20,20)\n",
        "plt.ylim(-20,20)\n",
        "plt.axhline(y=0, color='k')\n",
        "plt.axvline(x=0, color='k')\n",
        "plt.grid()\n",
        "plt.show()"
      ],
      "metadata": {
        "colab": {
          "base_uri": "https://localhost:8080/",
          "height": 269
        },
        "id": "QViNfoTXD09l",
        "outputId": "b45d369a-2ceb-47b8-c130-4a9f0f8390a8"
      },
      "execution_count": null,
      "outputs": [
        {
          "output_type": "display_data",
          "data": {
            "text/plain": [
              "<Figure size 432x288 with 1 Axes>"
            ],
            "image/png": "[encoded data removed]"
          },
          "metadata": {
            "needs_background": "light"
          }
        }
      ]
    },
    {
      "cell_type": "markdown",
      "source": [
        "##**Span of a linear combination of vectors**\n",
        "\n",
        "$$Q = \\begin{bmatrix} c_1 \\cdot \\begin{bmatrix} 4 \\\\ 8 \\\\\\end{bmatrix}, c_2 \\cdot \\begin{bmatrix} 2\\\\3 \\\\\\end{bmatrix} \\end{bmatrix} $$"
      ],
      "metadata": {
        "id": "iuKh8tm8ET4L"
      }
    },
    {
      "cell_type": "code",
      "source": [
        "vectA = np.array([4,8])\n",
        "vectB = np.array([2,3])\n",
        "\n",
        "R = np.arange(-5,5,2)\n",
        "\n",
        "c1, c2 = np.meshgrid(R,R)\n",
        "\n",
        "vectR = vectA + vectB\n",
        "spanRx = c1*vectA[0] + c2*vectB[0]\n",
        "spanRy = c1*vectA[1] + c2*vectB[1]\n",
        "plt.scatter(R*vectA[0],R*vectA[1])\n",
        "plt.scatter(R*vectB[0],R*vectB[1])\n",
        "plt.scatter(spanRx,spanRy, s=5, alpha=0.75)\n",
        "\n",
        "plt.axhline(y=0, color='k')\n",
        "plt.axvline(x=0, color='k')\n",
        "plt.grid()\n",
        "plt.show()"
      ],
      "metadata": {
        "colab": {
          "base_uri": "https://localhost:8080/",
          "height": 265
        },
        "id": "wftD9RoiFcSR",
        "outputId": "3e83d8d2-d2e6-49ab-861c-1162277816a3"
      },
      "execution_count": null,
      "outputs": [
        {
          "output_type": "display_data",
          "data": {
            "text/plain": [
              "<Figure size 432x288 with 1 Axes>"
            ],
            "image/png": "[encoded data removed]"
          },
          "metadata": {
            "needs_background": "light"
          }
        }
      ]
    },
    {
      "cell_type": "code",
      "source": [
        "vectP = np.array([3,1])\n",
        "vectQ = np.array([4,2])\n",
        "\n",
        "R = np.arange(-15, 13,1)\n",
        "\n",
        "c1, c2 = np.meshgrid(R,R)\n",
        "\n",
        "vectR = vectP + vectQ\n",
        "spanRx = c1*vectP[0] + c2*vectQ[0]\n",
        "spanRy = c1*vectP[1] + c2*vectQ[1]\n",
        "plt.scatter(R*vectA[0],R*vectA[1])\n",
        "plt.scatter(R*vectB[0],R*vectB[1])\n",
        "plt.scatter(spanRx,spanRy, s=5, alpha=0.75)\n",
        "\n",
        "plt.axhline(y=0, color='k')\n",
        "plt.axvline(x=0, color='k')\n",
        "plt.grid()\n",
        "plt.show()"
      ],
      "metadata": {
        "colab": {
          "base_uri": "https://localhost:8080/",
          "height": 265
        },
        "id": "x9K7-vo9FocG",
        "outputId": "a8f259f3-532d-418c-cb4a-49861c827567"
      },
      "execution_count": null,
      "outputs": [
        {
          "output_type": "display_data",
          "data": {
            "text/plain": [
              "<Figure size 432x288 with 1 Axes>"
            ],
            "image/png": "[encoded data removed]"
          },
          "metadata": {
            "needs_background": "light"
          }
        }
      ]
    },
    {
      "cell_type": "markdown",
      "source": [
        "##**Activity**\n",
        "###***TASK 1***\n"
      ],
      "metadata": {
        "id": "sWWTHbX5F7QL"
      }
    },
    {
      "cell_type": "markdown",
      "source": [
        "$$\n",
        "J = \\begin{bmatrix} J \\cdot \\begin{bmatrix} 4\\\\15 \\end{bmatrix}\\, K \\cdot \\begin{bmatrix} 11\\\\2 \\end{bmatrix} \\end{bmatrix} \n",
        "$$\n",
        "\n",
        "\n",
        "---\n",
        "\n",
        "\n",
        "$$ \n",
        "A = \\begin{array}\\ 4 \\hat{x} + 15 \\hat{y} \\\\\\end{array}\n",
        "$$\n",
        "$$\n",
        "B = \\begin{array}\\ 11\\hat{x} + 2 \\hat{y} \n",
        "\\\\\\end{array}\n",
        "$$"
      ],
      "metadata": {
        "id": "EpBwILlpLVHa"
      }
    },
    {
      "cell_type": "code",
      "source": [
        "A = np.array ([4,15])\n",
        "B = np.array ([11,2])\n",
        "C = np.arange(-25, 25, 1)\n",
        "J, K = np.meshgrid(C,C)\n",
        "\n",
        "vectC = A + B\n",
        "spanCa = J*A[0] + K*B[0]\n",
        "spanCb = J*A[1] + K*B[1]\n",
        "plt.scatter(C*A[0], C*B[1])\n",
        "plt.scatter(C*A[0], C*B[1])\n",
        "plt.scatter(spanCa,spanCb, s=0.50, alpha=0.75)\n",
        "plt.axhline(y=0, color='k')\n",
        "plt.axvline(x=0, color='k')\n",
        "plt.grid()\n",
        "plt.show()"
      ],
      "metadata": {
        "colab": {
          "base_uri": "https://localhost:8080/",
          "height": 265
        },
        "id": "NK0hJZ9XGCwy",
        "outputId": "2307e82f-bb4e-4010-df88-ce4d2b1f842f"
      },
      "execution_count": null,
      "outputs": [
        {
          "output_type": "display_data",
          "data": {
            "text/plain": [
              "<Figure size 432x288 with 1 Axes>"
            ],
            "image/png": "[encoded data removed]"
          },
          "metadata": {
            "needs_background": "light"
          }
        }
      ]
    }
  ]
}