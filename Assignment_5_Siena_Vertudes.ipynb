{
  "nbformat": 4,
  "nbformat_minor": 0,
  "metadata": {
    "colab": {
      "name": "Assignment 5_Siena_Vertudes.ipynb",
      "provenance": [],
      "collapsed_sections": [
        "Jev1_LOpdSxx"
      ],
      "include_colab_link": true
    },
    "kernelspec": {
      "name": "python3",
      "display_name": "Python 3"
    },
    "language_info": {
      "name": "python"
    }
  },
  "cells": [
    {
      "cell_type": "markdown",
      "metadata": {
        "id": "view-in-github",
        "colab_type": "text"
      },
      "source": [
        "<a href=\"https://colab.research.google.com/github/ja-nana/Linear-Algebra_ChE_2nd-Sem-2021/blob/main/Assignment_5_Siena_Vertudes.ipynb\" target=\"_parent\"><img src=\"https://colab.research.google.com/assets/colab-badge.svg\" alt=\"Open In Colab\"/></a>"
      ]
    },
    {
      "cell_type": "markdown",
      "source": [
        "#LABORATORY 6:\n",
        "##**MATRIX OPERATIONS**\n",
        "---"
      ],
      "metadata": {
        "id": "tpO_xOjI9Q0N"
      }
    },
    {
      "cell_type": "code",
      "execution_count": 1,
      "metadata": {
        "id": "iadmPwrq74xz"
      },
      "outputs": [],
      "source": [
        "import numpy as np\n",
        "import matplotlib.pyplot as plt\n",
        "%matplotlib inline"
      ]
    },
    {
      "cell_type": "markdown",
      "source": [
        "---\n",
        "##Transposition\n",
        "Transpose of matrix is done by flipping the values of its elements over diagonals. Both the rows and the columns from the original are switched:\n",
        "\n",
        "*Example*\n",
        "\n",
        "```\n",
        "```\n",
        "$$\n",
        "A = \\begin{bmatrix} 3 & 4 & 1\\\\ 9 & 8 & 7\\\\ 0 & -1 & 3\\end{bmatrix} \n",
        "$$\n",
        "\n",
        "```\n",
        "```\n",
        "$$\n",
        "A^T = \\begin{bmatrix} 3 & 9 & 0\\\\ 4 & 8 & -1\\\\ 1 & 7 & 3\\end{bmatrix}\n",
        "$$\n",
        "\n",
        "```\n",
        "```\n",
        "---\n"
      ],
      "metadata": {
        "id": "mnMKRNlS-Evu"
      }
    },
    {
      "cell_type": "markdown",
      "source": [
        "This can now be achieved programmatically by using `np.transpose()` or using the `T` method."
      ],
      "metadata": {
        "id": "uNh4G2qddgTg"
      }
    },
    {
      "cell_type": "code",
      "source": [
        "A = np.array([[1,2,4], [5,8,6],[9,5,3]])\n",
        "A"
      ],
      "metadata": {
        "colab": {
          "base_uri": "https://localhost:8080/"
        },
        "id": "fUV9U6Fy-HIB",
        "outputId": "21755535-5c77-449e-ed2e-e87c2c65e4c3"
      },
      "execution_count": 2,
      "outputs": [
        {
          "output_type": "execute_result",
          "data": {
            "text/plain": [
              "array([[1, 2, 4],\n",
              "       [5, 8, 6],\n",
              "       [9, 5, 3]])"
            ]
          },
          "metadata": {},
          "execution_count": 2
        }
      ]
    },
    {
      "cell_type": "code",
      "source": [
        "AT = np.transpose(A)\n",
        "AT"
      ],
      "metadata": {
        "colab": {
          "base_uri": "https://localhost:8080/"
        },
        "id": "fQw-RdKzFGEl",
        "outputId": "b4a87252-e2f7-40bc-b83c-091869a4dd3c"
      },
      "execution_count": 3,
      "outputs": [
        {
          "output_type": "execute_result",
          "data": {
            "text/plain": [
              "array([[1, 5, 9],\n",
              "       [2, 8, 5],\n",
              "       [4, 6, 3]])"
            ]
          },
          "metadata": {},
          "execution_count": 3
        }
      ]
    },
    {
      "cell_type": "code",
      "source": [
        "ATT = A.T\n",
        "ATT"
      ],
      "metadata": {
        "colab": {
          "base_uri": "https://localhost:8080/"
        },
        "id": "X8Hrcd_TFrPG",
        "outputId": "61b8a421-3670-4086-992c-d0b59046f99e"
      },
      "execution_count": 4,
      "outputs": [
        {
          "output_type": "execute_result",
          "data": {
            "text/plain": [
              "array([[1, 5, 9],\n",
              "       [2, 8, 5],\n",
              "       [4, 6, 3]])"
            ]
          },
          "metadata": {},
          "execution_count": 4
        }
      ]
    },
    {
      "cell_type": "code",
      "source": [
        "np.array_equiv(AT,ATT)"
      ],
      "metadata": {
        "colab": {
          "base_uri": "https://localhost:8080/"
        },
        "id": "hUPou1_AFxc_",
        "outputId": "ce7334d4-8f0f-476b-89d8-5193430b84b9"
      },
      "execution_count": 5,
      "outputs": [
        {
          "output_type": "execute_result",
          "data": {
            "text/plain": [
              "True"
            ]
          },
          "metadata": {},
          "execution_count": 5
        }
      ]
    },
    {
      "cell_type": "markdown",
      "source": [
        "---\n",
        "## Dot Product / Inner Product\n",
        "\n",
        "If you recall the dot product from laboratory activity before, we will try to implement the same operation with matrices. In matrix dot product we are going to get the sum of products of the vectors by row-column pairs. So if we have two matrices X and Y :"
      ],
      "metadata": {
        "id": "PiBXt5fRGmGn"
      }
    },
    {
      "cell_type": "markdown",
      "source": [
        "$$X = \\begin{bmatrix} X_{(0,0)} & X_{(0,1)} \\\\ X_{(1,0)} & X_{(1,1)} \\end{bmatrix} \\\\\n",
        "$$\n",
        "$$Y = \\begin{bmatrix} Y_{(0,0)} & Y_{(0,1)} \\\\ Y_{(1,0)} & Y_{(1,1)} \\end{bmatrix} \\\\\n",
        "$$"
      ],
      "metadata": {
        "id": "kwXw5tRmGozP"
      }
    },
    {
      "cell_type": "markdown",
      "source": [
        "The dot product will then be computed as:\n",
        "\n"
      ],
      "metadata": {
        "id": "UENSTVvJI10_"
      }
    },
    {
      "cell_type": "markdown",
      "source": [
        "$$X · Y = \\begin{bmatrix} X_{(0,0)} * Y_{(0,1)} + X_{(0,1)} * Y_{(1,0)} & X_{(0,0)} * Y_{(0,1)} + X_{(0,1)} * Y_{(1,1)}\\\\ X_{(1,0)} * Y_{(0,0)} + X_{(1,1)} * Y_{(1,0)} & X_{(1,0)} * Y_{(0,1)} + X_{(1,1)} * Y_{(1,1)} \\end{bmatrix} \\\\\n",
        "$$"
      ],
      "metadata": {
        "id": "u9JTK3pIyEas"
      }
    },
    {
      "cell_type": "markdown",
      "source": [
        "So if we assign values to *X* and *Y*:"
      ],
      "metadata": {
        "id": "lWnpyMt-y1lT"
      }
    },
    {
      "cell_type": "markdown",
      "source": [
        "$$X = \\begin{bmatrix} 1 & 2 \\\\0 & 1 \\end{bmatrix}, Y = \\begin{bmatrix} -1 & 0 \\\\2 & 2\\end{bmatrix} \\\\\n",
        "$$"
      ],
      "metadata": {
        "id": "d8044lczzsok"
      }
    },
    {
      "cell_type": "markdown",
      "source": [
        "$$X · Y = \\begin{bmatrix} 1 * -1 + 2 * 2 & 1 * 0 + 2 * 2\\\\ 0 * -1 + 1 * 2 & 0 * 0 + 1 * 2 \\end{bmatrix} = \\begin{bmatrix} 3 & 4 \\\\ 2 & 2 \\end{bmatrix} \\\\\n",
        "$$"
      ],
      "metadata": {
        "id": "4YomDLOh0MUK"
      }
    },
    {
      "cell_type": "markdown",
      "source": [
        "This could be achieved programmatically using `np.dot()`, `np.matmul()` or the `@` operator."
      ],
      "metadata": {
        "id": "M4GDivN71jOT"
      }
    },
    {
      "cell_type": "code",
      "source": [
        "X = np.array([\n",
        "    [1,20],\n",
        "    [36,1]\n",
        "])\n",
        "Y = np.array([\n",
        "    [-1,0],\n",
        "    [2,7]\n",
        "])"
      ],
      "metadata": {
        "id": "ARZLWo9q1on2"
      },
      "execution_count": 6,
      "outputs": []
    },
    {
      "cell_type": "code",
      "source": [
        "np.array_equiv(X, Y)"
      ],
      "metadata": {
        "colab": {
          "base_uri": "https://localhost:8080/"
        },
        "id": "_N6JVgni12Lz",
        "outputId": "608e8ead-6f55-4d1a-8cee-1d543320c2ea"
      },
      "execution_count": 7,
      "outputs": [
        {
          "output_type": "execute_result",
          "data": {
            "text/plain": [
              "False"
            ]
          },
          "metadata": {},
          "execution_count": 7
        }
      ]
    },
    {
      "cell_type": "code",
      "source": [
        "np.dot(X,Y)"
      ],
      "metadata": {
        "colab": {
          "base_uri": "https://localhost:8080/"
        },
        "id": "ZcXnRpPq14o7",
        "outputId": "6d3ebb8e-de0a-405a-9fb9-c32c7d6423f0"
      },
      "execution_count": 8,
      "outputs": [
        {
          "output_type": "execute_result",
          "data": {
            "text/plain": [
              "array([[ 39, 140],\n",
              "       [-34,   7]])"
            ]
          },
          "metadata": {},
          "execution_count": 8
        }
      ]
    },
    {
      "cell_type": "code",
      "source": [
        "X.dot(Y)"
      ],
      "metadata": {
        "colab": {
          "base_uri": "https://localhost:8080/"
        },
        "id": "vnxJPPe115pC",
        "outputId": "c1c9e170-b664-4df2-e316-deb94590e724"
      },
      "execution_count": 9,
      "outputs": [
        {
          "output_type": "execute_result",
          "data": {
            "text/plain": [
              "array([[ 39, 140],\n",
              "       [-34,   7]])"
            ]
          },
          "metadata": {},
          "execution_count": 9
        }
      ]
    },
    {
      "cell_type": "code",
      "source": [
        "X @ Y"
      ],
      "metadata": {
        "colab": {
          "base_uri": "https://localhost:8080/"
        },
        "id": "MAhNrHVq15s2",
        "outputId": "e20049b9-b440-4c73-aebb-aab05cc4dd86"
      },
      "execution_count": 11,
      "outputs": [
        {
          "output_type": "execute_result",
          "data": {
            "text/plain": [
              "array([[ 39, 140],\n",
              "       [-34,   7]])"
            ]
          },
          "metadata": {},
          "execution_count": 11
        }
      ]
    },
    {
      "cell_type": "code",
      "source": [
        "np.matmul(X,Y)"
      ],
      "metadata": {
        "colab": {
          "base_uri": "https://localhost:8080/"
        },
        "id": "y6jhOriG18KE",
        "outputId": "33a1c08e-27d7-4cbc-9b42-f57373569239"
      },
      "execution_count": 10,
      "outputs": [
        {
          "output_type": "execute_result",
          "data": {
            "text/plain": [
              "array([[ 39, 140],\n",
              "       [-34,   7]])"
            ]
          },
          "metadata": {},
          "execution_count": 10
        }
      ]
    },
    {
      "cell_type": "code",
      "source": [
        "D = np.array([\n",
        "    [4,2,2],\n",
        "    [7,1,3],\n",
        "    [5,4,2]\n",
        "])\n",
        "E = np.array([\n",
        "    [-22,0,57],\n",
        "    [29,4,66],\n",
        "    [7,47,3]\n",
        "])"
      ],
      "metadata": {
        "id": "RWTrYCA619uT"
      },
      "execution_count": 12,
      "outputs": []
    },
    {
      "cell_type": "code",
      "source": [
        "D @ E"
      ],
      "metadata": {
        "colab": {
          "base_uri": "https://localhost:8080/"
        },
        "id": "dL2NZQUl1-2r",
        "outputId": "2ca8035c-abb5-4d29-ab94-2d7cb13da80e"
      },
      "execution_count": 13,
      "outputs": [
        {
          "output_type": "execute_result",
          "data": {
            "text/plain": [
              "array([[ -16,  102,  366],\n",
              "       [-104,  145,  474],\n",
              "       [  20,  110,  555]])"
            ]
          },
          "metadata": {},
          "execution_count": 13
        }
      ]
    },
    {
      "cell_type": "code",
      "source": [
        "D.dot(E)"
      ],
      "metadata": {
        "colab": {
          "base_uri": "https://localhost:8080/"
        },
        "id": "XdyvZG-v1_jK",
        "outputId": "8857211f-788c-437d-e076-16585a066bf3"
      },
      "execution_count": 14,
      "outputs": [
        {
          "output_type": "execute_result",
          "data": {
            "text/plain": [
              "array([[ -16,  102,  366],\n",
              "       [-104,  145,  474],\n",
              "       [  20,  110,  555]])"
            ]
          },
          "metadata": {},
          "execution_count": 14
        }
      ]
    },
    {
      "cell_type": "code",
      "source": [
        "np.matmul(D, E)"
      ],
      "metadata": {
        "colab": {
          "base_uri": "https://localhost:8080/"
        },
        "id": "TWh4XYHM2Asz",
        "outputId": "c0f13540-8558-4971-fb7a-08ec5f417d91"
      },
      "execution_count": 15,
      "outputs": [
        {
          "output_type": "execute_result",
          "data": {
            "text/plain": [
              "array([[ -16,  102,  366],\n",
              "       [-104,  145,  474],\n",
              "       [  20,  110,  555]])"
            ]
          },
          "metadata": {},
          "execution_count": 15
        }
      ]
    },
    {
      "cell_type": "code",
      "source": [
        "np.dot(D, E)"
      ],
      "metadata": {
        "colab": {
          "base_uri": "https://localhost:8080/"
        },
        "id": "XSnUcRhV2Bpb",
        "outputId": "5fd72481-e97f-45b2-c632-c4052236ae27"
      },
      "execution_count": 16,
      "outputs": [
        {
          "output_type": "execute_result",
          "data": {
            "text/plain": [
              "array([[ -16,  102,  366],\n",
              "       [-104,  145,  474],\n",
              "       [  20,  110,  555]])"
            ]
          },
          "metadata": {},
          "execution_count": 16
        }
      ]
    },
    {
      "cell_type": "markdown",
      "source": [
        "In matrix dot products there are additional rules compared with vector dot products. Since vector dot products were just in one dimension there are less restrictions. Since now we are dealing with Rank 2 vectors we need to consider some rules:"
      ],
      "metadata": {
        "id": "ReOfvlKQ2DAa"
      }
    },
    {
      "cell_type": "markdown",
      "source": [
        "**Rule 1: The inner dimensions of the two matrices in question must be the same.**"
      ],
      "metadata": {
        "id": "3liIdb972DxL"
      }
    },
    {
      "cell_type": "markdown",
      "source": [
        "So given a matrix *A* with a shape of *(a,b)* where *a* and *b* are any integers. If we want to do a dot product between *A* and another matrix *B*, then matrix *B* should have a shape of *(b,c)* where *b* and *c* are any integers. So for given the following matrices:\n",
        "\n"
      ],
      "metadata": {
        "id": "Hh80CmTg2D2i"
      }
    },
    {
      "cell_type": "markdown",
      "source": [
        "$$X = \\begin{bmatrix} 1 & 2 \\\\0 & 1 \\\\ 2 & 4\\end{bmatrix}, Y = \\begin{bmatrix} -1 & 0 \\\\2 & 2\\\\ 5 & 6\\end{bmatrix} \\\\ Z=\\begin{bmatrix} 3 & 4 & 1 \\\\ 2 & 6 & 4 \\end{bmatrix}\n",
        "$$"
      ],
      "metadata": {
        "id": "pkcMQVMuX4Mi"
      }
    },
    {
      "cell_type": "markdown",
      "source": [
        "So in this case *A* has a shape of *(3,2)*, *B* has a shape of *(3,2)* and *C* has a shape of *(2,3)*. So the only matrix pairs that is eligible to perform dot product is matrices *A·C*, or *B·C*."
      ],
      "metadata": {
        "id": "nz5EWni72ynB"
      }
    },
    {
      "cell_type": "code",
      "source": [
        "A = np.array([\n",
        "    [21, 14],\n",
        "    [15, -92],\n",
        "    [30, 12]\n",
        "])\n",
        "B = np.array([\n",
        "    [41,12],\n",
        "    [31,37],\n",
        "    [-41,-52]\n",
        "])\n",
        "C = np.array([\n",
        "    [56,12,61],\n",
        "    [21,81,52]\n",
        "])\n",
        "print(A.shape)\n",
        "print(B.shape)\n",
        "print(C.shape)"
      ],
      "metadata": {
        "colab": {
          "base_uri": "https://localhost:8080/"
        },
        "id": "z4U-2I3F2qPz",
        "outputId": "f3b8590a-2a6b-49fe-dc67-fc3a02998df4"
      },
      "execution_count": 17,
      "outputs": [
        {
          "output_type": "stream",
          "name": "stdout",
          "text": [
            "(3, 2)\n",
            "(3, 2)\n",
            "(2, 3)\n"
          ]
        }
      ]
    },
    {
      "cell_type": "code",
      "source": [
        "A @ C"
      ],
      "metadata": {
        "colab": {
          "base_uri": "https://localhost:8080/"
        },
        "id": "p2YdnwdoYev6",
        "outputId": "ff8b2a17-9724-4268-dee1-cb1ecf3fa679"
      },
      "execution_count": 18,
      "outputs": [
        {
          "output_type": "execute_result",
          "data": {
            "text/plain": [
              "array([[ 1470,  1386,  2009],\n",
              "       [-1092, -7272, -3869],\n",
              "       [ 1932,  1332,  2454]])"
            ]
          },
          "metadata": {},
          "execution_count": 18
        }
      ]
    },
    {
      "cell_type": "code",
      "source": [
        "B @ C"
      ],
      "metadata": {
        "colab": {
          "base_uri": "https://localhost:8080/"
        },
        "id": "a9iiZaJDYjgU",
        "outputId": "c599b09d-944d-4edc-92f7-5fc67d5afb9b"
      },
      "execution_count": 19,
      "outputs": [
        {
          "output_type": "execute_result",
          "data": {
            "text/plain": [
              "array([[ 2548,  1464,  3125],\n",
              "       [ 2513,  3369,  3815],\n",
              "       [-3388, -4704, -5205]])"
            ]
          },
          "metadata": {},
          "execution_count": 19
        }
      ]
    },
    {
      "cell_type": "markdown",
      "source": [
        "If you would notice the shape of the dot product changed and its shape is not the same as any of the matrices we used. The shape of a dot product is actually derived from the shapes of the matrices used. So recall matrix *A* with a shape of *(a,b)* and matrix *B* with a shape of *(b,c)*, *A·B* should have a shape *(a,c)*."
      ],
      "metadata": {
        "id": "7GGKF8skYmIh"
      }
    },
    {
      "cell_type": "code",
      "source": [
        "A @ B.T"
      ],
      "metadata": {
        "colab": {
          "base_uri": "https://localhost:8080/"
        },
        "id": "Ai6RehYhYxXS",
        "outputId": "60b42bf1-8f60-4805-f73b-60dd01ad3948"
      },
      "execution_count": 20,
      "outputs": [
        {
          "output_type": "execute_result",
          "data": {
            "text/plain": [
              "array([[ 1029,  1169, -1589],\n",
              "       [ -489, -2939,  4169],\n",
              "       [ 1374,  1374, -1854]])"
            ]
          },
          "metadata": {},
          "execution_count": 20
        }
      ]
    },
    {
      "cell_type": "code",
      "source": [
        "X = np.array([\n",
        "    [1,2,3,0]\n",
        "])\n",
        "Y = np.array([\n",
        "    [1,0,4,-1]\n",
        "])\n",
        "print(X.shape)\n",
        "print(Y.shape)"
      ],
      "metadata": {
        "colab": {
          "base_uri": "https://localhost:8080/"
        },
        "id": "cniIFcX1YzxT",
        "outputId": "b76bdc04-4763-4b25-b152-083d0bd46c0d"
      },
      "execution_count": 21,
      "outputs": [
        {
          "output_type": "stream",
          "name": "stdout",
          "text": [
            "(1, 4)\n",
            "(1, 4)\n"
          ]
        }
      ]
    },
    {
      "cell_type": "code",
      "source": [
        "Y.T @ X"
      ],
      "metadata": {
        "colab": {
          "base_uri": "https://localhost:8080/"
        },
        "id": "pkkjd8O-Y0yv",
        "outputId": "46a59fa5-b51a-4b4b-c4be-69ffc161d431"
      },
      "execution_count": 22,
      "outputs": [
        {
          "output_type": "execute_result",
          "data": {
            "text/plain": [
              "array([[ 1,  2,  3,  0],\n",
              "       [ 0,  0,  0,  0],\n",
              "       [ 4,  8, 12,  0],\n",
              "       [-1, -2, -3,  0]])"
            ]
          },
          "metadata": {},
          "execution_count": 22
        }
      ]
    },
    {
      "cell_type": "code",
      "source": [
        "X @ Y.T"
      ],
      "metadata": {
        "colab": {
          "base_uri": "https://localhost:8080/"
        },
        "id": "Q6oYk7b-Y2TC",
        "outputId": "34d53221-1e1e-4fb4-a8ee-554c56410533"
      },
      "execution_count": 23,
      "outputs": [
        {
          "output_type": "execute_result",
          "data": {
            "text/plain": [
              "array([[13]])"
            ]
          },
          "metadata": {},
          "execution_count": 23
        }
      ]
    },
    {
      "cell_type": "markdown",
      "source": [
        "And you can see that when you try to multiply A and B, it returns `ValueError` pertaining to matrix shape mismatch."
      ],
      "metadata": {
        "id": "3kxWyFwbY3nh"
      }
    },
    {
      "cell_type": "markdown",
      "source": [
        "##**Rule 2: Dot Product has special properties**"
      ],
      "metadata": {
        "id": "DCyk_qlUY7Kc"
      }
    },
    {
      "cell_type": "markdown",
      "source": [
        "Dot products are prevalent in matrix algebra, this implies that it has several unique properties and it should be considered when formulation solutions:"
      ],
      "metadata": {
        "id": "atFvq4vOZHn0"
      }
    },
    {
      "cell_type": "markdown",
      "source": [
        "1.   A·B =/= B·A\n",
        "2.   A·(B·C) = (A·B)·C\n",
        "3.   A·(B+C) = A·B + A·C\n",
        "4.   (B+C)·A = B·A + C·A\n",
        "5.   A·I = A\n",
        "6.   A·Φ=Φ\n",
        "\n",
        "\n",
        "\n",
        "\n"
      ],
      "metadata": {
        "id": "9dsnwHXbZJyy"
      }
    },
    {
      "cell_type": "code",
      "source": [
        "A = np.array([\n",
        "    [1,2,1],\n",
        "    [6,7,2],\n",
        "    [5,1,9]\n",
        "])\n",
        "B = np.array([\n",
        "    [5,1,8],\n",
        "    [7,2,7],\n",
        "    [1,5,3]\n",
        "])\n",
        "C = np.array([\n",
        "    [6,2,0],\n",
        "    [2,7,1],\n",
        "    [9,8,3]\n",
        "])"
      ],
      "metadata": {
        "id": "D2-tZoEgbJVI"
      },
      "execution_count": 31,
      "outputs": []
    },
    {
      "cell_type": "code",
      "source": [
        "np.eye(3)"
      ],
      "metadata": {
        "colab": {
          "base_uri": "https://localhost:8080/"
        },
        "id": "1uej9GLwbLVa",
        "outputId": "a99807f1-874d-4fbd-808e-42c9f0efa422"
      },
      "execution_count": 24,
      "outputs": [
        {
          "output_type": "execute_result",
          "data": {
            "text/plain": [
              "array([[1., 0., 0.],\n",
              "       [0., 1., 0.],\n",
              "       [0., 0., 1.]])"
            ]
          },
          "metadata": {},
          "execution_count": 24
        }
      ]
    },
    {
      "cell_type": "code",
      "source": [
        "A.dot(np.eye(3))"
      ],
      "metadata": {
        "colab": {
          "base_uri": "https://localhost:8080/"
        },
        "id": "7LZ2a7GebMWB",
        "outputId": "65f98308-6edc-4afe-dabb-35593ebf69f2"
      },
      "execution_count": 32,
      "outputs": [
        {
          "output_type": "execute_result",
          "data": {
            "text/plain": [
              "array([[1., 2., 1.],\n",
              "       [6., 7., 2.],\n",
              "       [5., 1., 9.]])"
            ]
          },
          "metadata": {},
          "execution_count": 32
        }
      ]
    },
    {
      "cell_type": "code",
      "source": [
        "np.array_equal(A@B, B@A)"
      ],
      "metadata": {
        "colab": {
          "base_uri": "https://localhost:8080/"
        },
        "id": "kVl95n23bNT9",
        "outputId": "913480ed-4a77-4242-b7d7-b35d5d5308ea"
      },
      "execution_count": 33,
      "outputs": [
        {
          "output_type": "execute_result",
          "data": {
            "text/plain": [
              "False"
            ]
          },
          "metadata": {},
          "execution_count": 33
        }
      ]
    },
    {
      "cell_type": "code",
      "source": [
        "E = A @ (B @ C)\n",
        "E"
      ],
      "metadata": {
        "colab": {
          "base_uri": "https://localhost:8080/"
        },
        "id": "l8DCDXgqbOIZ",
        "outputId": "7a488d80-c049-4118-b30f-625ab9b8f78a"
      },
      "execution_count": 34,
      "outputs": [
        {
          "output_type": "execute_result",
          "data": {
            "text/plain": [
              "array([[ 365,  310,   85],\n",
              "       [1473, 1196,  339],\n",
              "       [1016, 1038,  274]])"
            ]
          },
          "metadata": {},
          "execution_count": 34
        }
      ]
    },
    {
      "cell_type": "code",
      "source": [
        "F = (A @ B) @ C\n",
        "F"
      ],
      "metadata": {
        "colab": {
          "base_uri": "https://localhost:8080/"
        },
        "id": "PbhMw7xxbPGr",
        "outputId": "0e7c76ff-8d10-47fe-8398-5b2ad2aad82a"
      },
      "execution_count": 35,
      "outputs": [
        {
          "output_type": "execute_result",
          "data": {
            "text/plain": [
              "array([[ 365,  310,   85],\n",
              "       [1473, 1196,  339],\n",
              "       [1016, 1038,  274]])"
            ]
          },
          "metadata": {},
          "execution_count": 35
        }
      ]
    },
    {
      "cell_type": "code",
      "source": [
        "np.array_equal(E, X)"
      ],
      "metadata": {
        "colab": {
          "base_uri": "https://localhost:8080/"
        },
        "id": "nFROZz98bP-h",
        "outputId": "54a7a063-cfcf-4fb7-b544-185b74671852"
      },
      "execution_count": 30,
      "outputs": [
        {
          "output_type": "execute_result",
          "data": {
            "text/plain": [
              "False"
            ]
          },
          "metadata": {},
          "execution_count": 30
        }
      ]
    },
    {
      "cell_type": "code",
      "source": [
        "np.array_equiv(E, F)"
      ],
      "metadata": {
        "colab": {
          "base_uri": "https://localhost:8080/"
        },
        "id": "n_78GZRKbRDj",
        "outputId": "033fc8f7-4837-44a6-a0f6-4d5723427388"
      },
      "execution_count": 36,
      "outputs": [
        {
          "output_type": "execute_result",
          "data": {
            "text/plain": [
              "True"
            ]
          },
          "metadata": {},
          "execution_count": 36
        }
      ]
    },
    {
      "cell_type": "code",
      "source": [
        "A @ E"
      ],
      "metadata": {
        "colab": {
          "base_uri": "https://localhost:8080/"
        },
        "id": "rls8dX-PbaV8",
        "outputId": "d51d170b-d005-4783-fb9e-8e19e5c1e6fd"
      },
      "execution_count": 37,
      "outputs": [
        {
          "output_type": "execute_result",
          "data": {
            "text/plain": [
              "array([[ 4327,  3740,  1037],\n",
              "       [14533, 12308,  3431],\n",
              "       [12442, 12088,  3230]])"
            ]
          },
          "metadata": {},
          "execution_count": 37
        }
      ]
    },
    {
      "cell_type": "code",
      "source": [
        "z_mat = np.zeros(A.shape)\n",
        "z_mat"
      ],
      "metadata": {
        "colab": {
          "base_uri": "https://localhost:8080/"
        },
        "id": "M-uRkD7Vbce-",
        "outputId": "f1979a6b-964b-49e7-fcf3-21faa75b6a52"
      },
      "execution_count": 38,
      "outputs": [
        {
          "output_type": "execute_result",
          "data": {
            "text/plain": [
              "array([[0., 0., 0.],\n",
              "       [0., 0., 0.],\n",
              "       [0., 0., 0.]])"
            ]
          },
          "metadata": {},
          "execution_count": 38
        }
      ]
    },
    {
      "cell_type": "code",
      "source": [
        "a_dot_z = A.dot(np.zeros(A.shape))\n",
        "a_dot_z"
      ],
      "metadata": {
        "colab": {
          "base_uri": "https://localhost:8080/"
        },
        "id": "bY_jhEW8bdXC",
        "outputId": "423a90c9-13c3-4bfb-ed4b-fec8bcf7c1b2"
      },
      "execution_count": 39,
      "outputs": [
        {
          "output_type": "execute_result",
          "data": {
            "text/plain": [
              "array([[0., 0., 0.],\n",
              "       [0., 0., 0.],\n",
              "       [0., 0., 0.]])"
            ]
          },
          "metadata": {},
          "execution_count": 39
        }
      ]
    },
    {
      "cell_type": "code",
      "source": [
        "np.array_equal(a_dot_z,z_mat)"
      ],
      "metadata": {
        "colab": {
          "base_uri": "https://localhost:8080/"
        },
        "id": "marcMqpDbePB",
        "outputId": "44b984e2-d4c4-47be-cebd-55018d622dc4"
      },
      "execution_count": 40,
      "outputs": [
        {
          "output_type": "execute_result",
          "data": {
            "text/plain": [
              "True"
            ]
          },
          "metadata": {},
          "execution_count": 40
        }
      ]
    },
    {
      "cell_type": "code",
      "source": [
        "null_mat = np.empty(A.shape, dtype=float)\n",
        "null = np.array(null_mat,dtype=float)\n",
        "print(null)\n",
        "np.allclose(a_dot_z,null)"
      ],
      "metadata": {
        "colab": {
          "base_uri": "https://localhost:8080/"
        },
        "id": "tQMtNhRsbfjh",
        "outputId": "f6dff680-0a04-408d-fb33-4e65a2f2b793"
      },
      "execution_count": 41,
      "outputs": [
        {
          "output_type": "stream",
          "name": "stdout",
          "text": [
            "[[0. 0. 0.]\n",
            " [0. 0. 0.]\n",
            " [0. 0. 0.]]\n"
          ]
        },
        {
          "output_type": "execute_result",
          "data": {
            "text/plain": [
              "True"
            ]
          },
          "metadata": {},
          "execution_count": 41
        }
      ]
    },
    {
      "cell_type": "markdown",
      "source": [
        "##**Determinant**\n",
        "\n",
        "A determinant is a scalar value derived from a square matrix. The determinant is a fundamental and important value used in matrix algebra. Although it will not be evident in this laboratory on how it can be used practically, but it will be reatly used in future lessons.\n",
        "\n",
        "The determinant of some matrix *A* is denoted as *det(A)* or *|A|*. So let's say  *A* is represented as:"
      ],
      "metadata": {
        "id": "qD9E1xGdbh6Z"
      }
    },
    {
      "cell_type": "markdown",
      "source": [
        "$$A = \\begin{bmatrix} a_{(0,0)} & a_{(0,1)} \\\\a_{(1,0)} & a_{(1,1)} \\end{bmatrix}\n",
        "$$"
      ],
      "metadata": {
        "id": "1FGwtALJcZVo"
      }
    },
    {
      "cell_type": "markdown",
      "source": [
        "We can compute for the determinant as:\n"
      ],
      "metadata": {
        "id": "P4jlS_iycZYh"
      }
    },
    {
      "cell_type": "markdown",
      "source": [
        "$\n",
        "|A| = a_{(0,0)} * a_{(1,1)} - a_{(1,0)} * a_{(0,1)}\n",
        "$"
      ],
      "metadata": {
        "id": "wRLdUxoicaYa"
      }
    },
    {
      "cell_type": "markdown",
      "source": [
        "So if we have *A* as:"
      ],
      "metadata": {
        "id": "xfBFqVe3caao"
      }
    },
    {
      "cell_type": "markdown",
      "source": [
        "$$A = \\begin{bmatrix} 3 & 0 \\\\4 & 1 \\end{bmatrix} , |A| = 3\n",
        "$$"
      ],
      "metadata": {
        "id": "RgtUY4pLfNj8"
      }
    },
    {
      "cell_type": "markdown",
      "source": [
        "But you might wonder how about square matrices beyond the shape *(2,2)*? We can approach this problem by using several methods such as co-factor expansion and the minors method. This can be taught in the lecture of the laboratory but we can achieve the strenuous computation of high-dimensional matrices programmatically using Python. We can achieve this by using `np.linalg.det()`."
      ],
      "metadata": {
        "id": "43CQrmdtcet6"
      }
    },
    {
      "cell_type": "code",
      "source": [
        "A = np.array([\n",
        "    [1,4],\n",
        "    [0,3]\n",
        "])\n",
        "np.linalg.det(A)"
      ],
      "metadata": {
        "colab": {
          "base_uri": "https://localhost:8080/"
        },
        "id": "_CWJ-Az1ck_y",
        "outputId": "93f09680-ba10-4dd1-8ca7-2188e3183d93"
      },
      "execution_count": 42,
      "outputs": [
        {
          "output_type": "execute_result",
          "data": {
            "text/plain": [
              "3.0000000000000004"
            ]
          },
          "metadata": {},
          "execution_count": 42
        }
      ]
    },
    {
      "cell_type": "code",
      "source": [
        "B = np.array([\n",
        "              [1, 5, 2],\n",
        "              [3, -1 ,-1],\n",
        "              [0, -2, 1]\n",
        "])\n",
        "np.linalg.det(B)"
      ],
      "metadata": {
        "colab": {
          "base_uri": "https://localhost:8080/"
        },
        "id": "Y9s8BNnacmO0",
        "outputId": "4c94a5c5-776d-4953-c68a-e68140b79b7d"
      },
      "execution_count": 43,
      "outputs": [
        {
          "output_type": "execute_result",
          "data": {
            "text/plain": [
              "-30.000000000000014"
            ]
          },
          "metadata": {},
          "execution_count": 43
        }
      ]
    },
    {
      "cell_type": "code",
      "source": [
        "\n",
        "B = np.array([\n",
        "    [1,3,5,6],\n",
        "    [0,3,1,3],\n",
        "    [3,1,8,2],\n",
        "    [5,2,6,8]\n",
        "])\n",
        "np.linalg.det(B)"
      ],
      "metadata": {
        "colab": {
          "base_uri": "https://localhost:8080/"
        },
        "id": "rizUiEIZcngc",
        "outputId": "09ad3050-3dcc-413a-a349-938c644c3216"
      },
      "execution_count": 44,
      "outputs": [
        {
          "output_type": "execute_result",
          "data": {
            "text/plain": [
              "-235.0000000000002"
            ]
          },
          "metadata": {},
          "execution_count": 44
        }
      ]
    },
    {
      "cell_type": "markdown",
      "source": [
        "***Inverse***\n",
        "\n",
        "The inverse of a matrix is another fundamental operation in matrix algebra. Determining the inverse of a matrix let us determine if its solvability and its characteristic as a system of linear equation — we'll expand on this in the nect module. Another use of the inverse matrix is solving the problem of divisibility between matrices. Although element-wise division exists but dividing the entire concept of matrices does not exists. Inverse matrices provides a related operation that could have the same concept of \"dividing\" matrices.\n",
        "\n",
        "Now to determine the inverse of a matrix we need to perform several steps. So let's say we have a matrix *M*:"
      ],
      "metadata": {
        "id": "mMaC6OfLcovh"
      }
    },
    {
      "cell_type": "markdown",
      "source": [
        "$$M = \\begin{bmatrix} 5 & -3 \\\\7 & 1 \\end{bmatrix} \n",
        "$$"
      ],
      "metadata": {
        "id": "aHnKWk98ctRp"
      }
    },
    {
      "cell_type": "markdown",
      "source": [
        "First, we need to get the determinant of *M*."
      ],
      "metadata": {
        "id": "zo_ndDSrctTl"
      }
    },
    {
      "cell_type": "markdown",
      "source": [
        "|M| = (5)(1) - (7)(-3) = 26"
      ],
      "metadata": {
        "id": "SrJdWvQTcyxJ"
      }
    },
    {
      "cell_type": "markdown",
      "source": [
        "Next, we need to reform the matrix into the inverse form:"
      ],
      "metadata": {
        "id": "PxT59LcFcwfS"
      }
    },
    {
      "cell_type": "markdown",
      "source": [
        "$\n",
        "M^{-1} = \\frac{1}{|M|} \\begin{bmatrix} m_{(1,1)} & -m_{(0,1)} \\\\-m_{(1,0)} & m_{(0,0)} \\end{bmatrix}\n",
        "$"
      ],
      "metadata": {
        "id": "xkuUjNYoczQR"
      }
    },
    {
      "cell_type": "markdown",
      "source": [
        "So that will be:"
      ],
      "metadata": {
        "id": "LmfOWV4JczbI"
      }
    },
    {
      "cell_type": "markdown",
      "source": [
        "$\n",
        "M^{-1} = \\frac{1}{26} \\begin{bmatrix} 1 & 3 \\\\-7 & 5 \\end{bmatrix} = \\begin{bmatrix} \\frac{1}{26} & \\frac{3}{26} \\\\\\frac{-7}{26} & \\frac{5}{26} \\end{bmatrix}\n",
        "$"
      ],
      "metadata": {
        "id": "ZCBY_w5Pcz-5"
      }
    },
    {
      "cell_type": "markdown",
      "source": [
        "For higher-dimension matrices you might need to use co-factors, minors, adjugates, and other reduction techinques. To solve this programmatially we can use `np.linalg.inv()`."
      ],
      "metadata": {
        "id": "Rs_mwLS0c0Bb"
      }
    },
    {
      "cell_type": "code",
      "source": [
        "M = np.array([\n",
        "    [12,71],\n",
        "    [-36, 54]\n",
        "])\n",
        "\n",
        "np.array(M @ np.linalg.inv(M), dtype=int)"
      ],
      "metadata": {
        "colab": {
          "base_uri": "https://localhost:8080/"
        },
        "id": "o9lKIAr7c3Ii",
        "outputId": "139d40b5-f7de-41f9-dc5f-7d2902439a94"
      },
      "execution_count": 45,
      "outputs": [
        {
          "output_type": "execute_result",
          "data": {
            "text/plain": [
              "array([[0, 0],\n",
              "       [0, 1]])"
            ]
          },
          "metadata": {},
          "execution_count": 45
        }
      ]
    },
    {
      "cell_type": "code",
      "source": [
        "P = np.array([\n",
        "              [6, 9, 0],\n",
        "              [4, 2, -1],\n",
        "              [3, 6, 7]\n",
        "])\n",
        "Q = np.linalg.inv(P)\n",
        "Q"
      ],
      "metadata": {
        "colab": {
          "base_uri": "https://localhost:8080/"
        },
        "id": "DI_x_EmDc4Rs",
        "outputId": "58b2b2a8-b932-45a9-8f9d-0796d8ca7597"
      },
      "execution_count": 46,
      "outputs": [
        {
          "output_type": "execute_result",
          "data": {
            "text/plain": [
              "array([[-0.12578616,  0.39622642,  0.05660377],\n",
              "       [ 0.19496855, -0.26415094, -0.03773585],\n",
              "       [-0.11320755,  0.05660377,  0.1509434 ]])"
            ]
          },
          "metadata": {},
          "execution_count": 46
        }
      ]
    },
    {
      "cell_type": "code",
      "source": [
        "P @ Q"
      ],
      "metadata": {
        "colab": {
          "base_uri": "https://localhost:8080/"
        },
        "id": "KSAGFJ0Xc5Hq",
        "outputId": "005fda24-d086-4b82-b208-3c456006abe6"
      },
      "execution_count": 47,
      "outputs": [
        {
          "output_type": "execute_result",
          "data": {
            "text/plain": [
              "array([[ 1.00000000e+00, -5.55111512e-17, -6.93889390e-18],\n",
              "       [ 8.32667268e-17,  1.00000000e+00, -2.77555756e-17],\n",
              "       [ 2.77555756e-17, -1.38777878e-17,  1.00000000e+00]])"
            ]
          },
          "metadata": {},
          "execution_count": 47
        }
      ]
    },
    {
      "cell_type": "code",
      "source": [
        "N = np.array([\n",
        "    [8,23,63,11,9,3,15],\n",
        "    [1,5,9,1,62,44,22],\n",
        "    [5,4,2,0,10,10,8],\n",
        "    [1,6,5,4,9,43,10],\n",
        "    [81,4,85,17,78,15,10],\n",
        "    [-15,5,2,80,10,6,-30],\n",
        "    [-25,-15,19,27,10,20,12],\n",
        "])\n",
        "N_inv = np.linalg.inv(N)\n",
        "np.array(N @ N_inv,dtype=int)"
      ],
      "metadata": {
        "colab": {
          "base_uri": "https://localhost:8080/"
        },
        "id": "KZvhuM4Zc6EA",
        "outputId": "38a15cd1-9ff0-4381-a2d8-a5da72b6c5d7"
      },
      "execution_count": 48,
      "outputs": [
        {
          "output_type": "execute_result",
          "data": {
            "text/plain": [
              "array([[1, 0, 0, 0, 0, 0, 0],\n",
              "       [0, 1, 0, 0, 0, 0, 0],\n",
              "       [0, 0, 1, 0, 0, 0, 0],\n",
              "       [0, 0, 0, 1, 0, 0, 0],\n",
              "       [0, 0, 0, 0, 1, 0, 0],\n",
              "       [0, 0, 0, 0, 0, 0, 0],\n",
              "       [0, 0, 0, 0, 0, 0, 0]])"
            ]
          },
          "metadata": {},
          "execution_count": 48
        }
      ]
    },
    {
      "cell_type": "markdown",
      "source": [
        "To validate the wether if the matric that you have solved is really the inverse, we follow this dot product property for a matrix *M*:"
      ],
      "metadata": {
        "id": "2oWqYNjEc7u6"
      }
    },
    {
      "cell_type": "markdown",
      "source": [
        "$\n",
        "M \\cdotp M^{-1} = I\n",
        "$"
      ],
      "metadata": {
        "id": "JxM62j59c9bb"
      }
    },
    {
      "cell_type": "code",
      "source": [
        "squad = np.array([\n",
        "    [1.0, 1.0, 0.5],\n",
        "    [0.7, 0.7, 0.9],\n",
        "    [0.3, 0.3, 1.0]\n",
        "])\n",
        "weights = np.array([\n",
        "    [0.2, 0.2, 0.6]\n",
        "])\n",
        "p_grade = squad @ weights.T\n",
        "p_grade"
      ],
      "metadata": {
        "colab": {
          "base_uri": "https://localhost:8080/"
        },
        "id": "9tfeACWZc9id",
        "outputId": "f2825c33-642e-4f97-d977-48265801bb0f"
      },
      "execution_count": 49,
      "outputs": [
        {
          "output_type": "execute_result",
          "data": {
            "text/plain": [
              "array([[0.7 ],\n",
              "       [0.82],\n",
              "       [0.72]])"
            ]
          },
          "metadata": {},
          "execution_count": 49
        }
      ]
    },
    {
      "cell_type": "markdown",
      "source": [
        "##**Activity**\n",
        "\n",
        "#####**Task 1**\n",
        "\n",
        "Prove and implement the remaining 6 matrix multiplication properties. You may create your own matrices in which their shapes should not be lower than *(3,3)*. In your methodology, create individual flowcharts for each property and discuss the property you would then present your proofs or validity of your implementation in the results section by comparing your result to present functions from NumPy."
      ],
      "metadata": {
        "id": "nX6x3zqYc_Wz"
      }
    },
    {
      "cell_type": "markdown",
      "source": [
        "First Property\n",
        "\n",
        "A·B =/= B·A\n"
      ],
      "metadata": {
        "id": "1K9Z21ZnoiNT"
      }
    },
    {
      "cell_type": "code",
      "source": [
        "X1 = np.array([\n",
        "    [420,500,612],\n",
        "    [745,877,998],\n",
        "    [312,253,188]\n",
        "])\n",
        "Y1 = np.array([\n",
        "    [1100,5245,8007],\n",
        "    [1129,9769, 2003],\n",
        "    [4454,7123,6578]\n",
        "])\n",
        "Z1 = np.array([\n",
        "    [1235,1223,117],\n",
        "    [2001,736,911],\n",
        "    [275,600,4678]\n",
        "])"
      ],
      "metadata": {
        "id": "pe0CUkO6dQdy"
      },
      "execution_count": 50,
      "outputs": []
    },
    {
      "cell_type": "code",
      "source": [
        "X1@Y1"
      ],
      "metadata": {
        "colab": {
          "base_uri": "https://localhost:8080/"
        },
        "id": "mA9NS96nyiz4",
        "outputId": "4f3af9cf-fbd1-440b-c460-5b5f72d22302"
      },
      "execution_count": 51,
      "outputs": [
        {
          "output_type": "execute_result",
          "data": {
            "text/plain": [
              "array([[ 3752348, 11446676,  8390176],\n",
              "       [ 6254725, 19583692, 14286690],\n",
              "       [ 1466189,  5447121,  4241607]])"
            ]
          },
          "metadata": {},
          "execution_count": 51
        }
      ]
    },
    {
      "cell_type": "code",
      "source": [
        "Y1@X1"
      ],
      "metadata": {
        "colab": {
          "base_uri": "https://localhost:8080/"
        },
        "id": "hj69oE8Ayp-q",
        "outputId": "ceb7e364-c934-4b5d-f1b2-ecf945bf2bb3"
      },
      "execution_count": 52,
      "outputs": [
        {
          "output_type": "execute_result",
          "data": {
            "text/plain": [
              "array([[ 6867709,  7175636,  7413026],\n",
              "       [ 8377021,  9638672, 10816974],\n",
              "       [ 9229651, 10138105, 11071266]])"
            ]
          },
          "metadata": {},
          "execution_count": 52
        }
      ]
    },
    {
      "cell_type": "code",
      "source": [
        "np.array_equal(X1@Y1, Y1@X1)"
      ],
      "metadata": {
        "colab": {
          "base_uri": "https://localhost:8080/"
        },
        "id": "9xy1x6nryt48",
        "outputId": "d6eef227-10c8-4a4d-ebf1-e579c4abccd8"
      },
      "execution_count": 53,
      "outputs": [
        {
          "output_type": "execute_result",
          "data": {
            "text/plain": [
              "False"
            ]
          },
          "metadata": {},
          "execution_count": 53
        }
      ]
    },
    {
      "cell_type": "markdown",
      "source": [
        "Second Property\n",
        "\n",
        "A·(B·C) = (A·B)·C"
      ],
      "metadata": {
        "id": "jRuFMDTTokfy"
      }
    },
    {
      "cell_type": "code",
      "source": [
        "X2 = np.array([\n",
        "    [320,510,812],\n",
        "    [765,871,908],\n",
        "    [372,153,138]\n",
        "])\n",
        "Y2 = np.array([\n",
        "    [1680,1565,8024],\n",
        "    [2399,1269, 2113],\n",
        "    [7845,1029,7459]\n",
        "])\n",
        "Z2 = np.array([\n",
        "    [3819,123,1217],\n",
        "    [201,7365,9111],\n",
        "    [8775,699,4599]\n",
        "])"
      ],
      "metadata": {
        "id": "o6qYelUzdSNC"
      },
      "execution_count": 54,
      "outputs": []
    },
    {
      "cell_type": "code",
      "source": [
        "X2 @ (Y2 @ Z2)"
      ],
      "metadata": {
        "id": "4nekBXOR0vAl",
        "colab": {
          "base_uri": "https://localhost:8080/"
        },
        "outputId": "14ee41c8-df61-443f-8330-7df758d332b7"
      },
      "execution_count": 55,
      "outputs": [
        {
          "output_type": "execute_result",
          "data": {
            "text/plain": [
              "array([[116587066458,  22390609242,  72587302410],\n",
              "       [170187323172,  35442034032, 110109449074],\n",
              "       [ 46169628687,  10050698367,  30840229359]])"
            ]
          },
          "metadata": {},
          "execution_count": 55
        }
      ]
    },
    {
      "cell_type": "code",
      "source": [
        "(X2 @ Y2) @ Z2"
      ],
      "metadata": {
        "id": "jtV0XVSD0xfm",
        "colab": {
          "base_uri": "https://localhost:8080/"
        },
        "outputId": "23d4cf9f-5b9f-4aec-b5ce-a64c7daa7a46"
      },
      "execution_count": 56,
      "outputs": [
        {
          "output_type": "execute_result",
          "data": {
            "text/plain": [
              "array([[116587066458,  22390609242,  72587302410],\n",
              "       [170187323172,  35442034032, 110109449074],\n",
              "       [ 46169628687,  10050698367,  30840229359]])"
            ]
          },
          "metadata": {},
          "execution_count": 56
        }
      ]
    },
    {
      "cell_type": "code",
      "source": [
        "np.array_equal(X2 @ (Y2 @ Z2), (X2 @ Y2) @ Z2)"
      ],
      "metadata": {
        "id": "iAyOhWTT00gt",
        "colab": {
          "base_uri": "https://localhost:8080/"
        },
        "outputId": "7cece4c7-2e6c-423b-8b1c-b8a8c55dcdd8"
      },
      "execution_count": 57,
      "outputs": [
        {
          "output_type": "execute_result",
          "data": {
            "text/plain": [
              "True"
            ]
          },
          "metadata": {},
          "execution_count": 57
        }
      ]
    },
    {
      "cell_type": "markdown",
      "source": [
        "Third Property\n",
        "\n",
        "A·(B+C) = A·B + A·C\n"
      ],
      "metadata": {
        "id": "0tSJyNi4ol_t"
      }
    },
    {
      "cell_type": "code",
      "source": [
        "X3 = np.array([\n",
        "    [3210,53410,9812],\n",
        "    [7765,8712,9808],\n",
        "    [3372,9153,5138]\n",
        "])\n",
        "Y3 = np.array([\n",
        "    [80,15,24],\n",
        "    [39,26, 23],\n",
        "    [75,29,45]\n",
        "])\n",
        "Z3 = np.array([\n",
        "    [819,1623,117],\n",
        "    [791,1265,671],\n",
        "    [715,6299,459]\n",
        "])"
      ],
      "metadata": {
        "id": "2vjvwGNxdSTx"
      },
      "execution_count": 58,
      "outputs": []
    },
    {
      "cell_type": "code",
      "source": [
        "X3 @ (Y3 + Z3)"
      ],
      "metadata": {
        "id": "uex3Fu8P2Ft0",
        "colab": {
          "base_uri": "https://localhost:8080/"
        },
        "outputId": "69de2863-dffc-47d7-ac09-baeda2599b36"
      },
      "execution_count": 59,
      "outputs": [
        {
          "output_type": "execute_result",
          "data": {
            "text/plain": [
              "array([[ 54967570, 136300626,  42464398],\n",
              "       [ 21960015,  86031286,  12084225],\n",
              "       [ 14687438,  49853123,   9417186]])"
            ]
          },
          "metadata": {},
          "execution_count": 59
        }
      ]
    },
    {
      "cell_type": "code",
      "source": [
        "(X3 @ Y3) + (X3 @ Z3)"
      ],
      "metadata": {
        "id": "SbPUBcn12Igz",
        "colab": {
          "base_uri": "https://localhost:8080/"
        },
        "outputId": "fdec1eb2-2b25-4541-fc92-76ec4ecbc193"
      },
      "execution_count": 60,
      "outputs": [
        {
          "output_type": "execute_result",
          "data": {
            "text/plain": [
              "array([[ 54967570, 136300626,  42464398],\n",
              "       [ 21960015,  86031286,  12084225],\n",
              "       [ 14687438,  49853123,   9417186]])"
            ]
          },
          "metadata": {},
          "execution_count": 60
        }
      ]
    },
    {
      "cell_type": "code",
      "source": [
        "np.array_equal(X3 @ (Y3 + Z3), (X3 @ Y3) + (X3 @ Z3))"
      ],
      "metadata": {
        "id": "da8lRKdP2PSB",
        "colab": {
          "base_uri": "https://localhost:8080/"
        },
        "outputId": "2b9da144-9d94-4970-da07-36e1fc41e26a"
      },
      "execution_count": 61,
      "outputs": [
        {
          "output_type": "execute_result",
          "data": {
            "text/plain": [
              "True"
            ]
          },
          "metadata": {},
          "execution_count": 61
        }
      ]
    },
    {
      "cell_type": "markdown",
      "source": [
        "Fourth Property\n",
        "\n",
        "(B+C)·A = B·A + C·A\n"
      ],
      "metadata": {
        "id": "aOpHH7w1onAT"
      }
    },
    {
      "cell_type": "code",
      "source": [
        "fourth_a = np.array([\n",
        "          [34, 62, 12, 58],\n",
        "          [77, 32, 25, 16],\n",
        "          [21, 43, 14, 53]\n",
        "])\n",
        "fourth_b = np.array([\n",
        "          [15, 33, 85],\n",
        "          [19, 20, 41],\n",
        "          [47, 23, 11],\n",
        "          [24, 52, 30]\n",
        "])\n",
        "fourth_c = np.array([\n",
        "          [86, 49, 80],\n",
        "          [46, 62, 22],\n",
        "          [37, 69, 5],\n",
        "          [66, 24, 40]\n",
        "])"
      ],
      "metadata": {
        "id": "Tik5XDIidSYa"
      },
      "execution_count": 62,
      "outputs": []
    },
    {
      "cell_type": "code",
      "source": [
        "fourth_bc = fourth_b + fourth_c\n",
        "fourth_bc"
      ],
      "metadata": {
        "colab": {
          "base_uri": "https://localhost:8080/"
        },
        "id": "siniCDV9sIfF",
        "outputId": "3d87659f-8e7f-4e2a-b9d2-db19001fe3c8"
      },
      "execution_count": 63,
      "outputs": [
        {
          "output_type": "execute_result",
          "data": {
            "text/plain": [
              "array([[101,  82, 165],\n",
              "       [ 65,  82,  63],\n",
              "       [ 84,  92,  16],\n",
              "       [ 90,  76,  70]])"
            ]
          },
          "metadata": {},
          "execution_count": 63
        }
      ]
    },
    {
      "cell_type": "code",
      "source": [
        "fourth_left = np.dot(fourth_bc,fourth_a)\n",
        "fourth_left"
      ],
      "metadata": {
        "colab": {
          "base_uri": "https://localhost:8080/"
        },
        "id": "DBoZdCx8sKXj",
        "outputId": "8104f0d3-40ab-403b-b516-93e5a098ec04"
      },
      "execution_count": 64,
      "outputs": [
        {
          "output_type": "execute_result",
          "data": {
            "text/plain": [
              "array([[13213, 15981,  5572, 15915],\n",
              "       [ 9847,  9363,  3712,  8421],\n",
              "       [10276,  8840,  3532,  7192],\n",
              "       [10382, 11022,  3960, 10146]])"
            ]
          },
          "metadata": {},
          "execution_count": 64
        }
      ]
    },
    {
      "cell_type": "code",
      "source": [
        "fourth_ba = np.dot(fourth_b,fourth_a)\n",
        "fourth_ba"
      ],
      "metadata": {
        "colab": {
          "base_uri": "https://localhost:8080/"
        },
        "id": "yechpLfJsLha",
        "outputId": "a7ade452-969e-4382-bca6-88504c215a6f"
      },
      "execution_count": 65,
      "outputs": [
        {
          "output_type": "execute_result",
          "data": {
            "text/plain": [
              "array([[4836, 5641, 2195, 5903],\n",
              "       [3047, 3581, 1302, 3595],\n",
              "       [3600, 4123, 1293, 3677],\n",
              "       [5450, 4442, 2008, 3814]])"
            ]
          },
          "metadata": {},
          "execution_count": 65
        }
      ]
    },
    {
      "cell_type": "code",
      "source": [
        "fourth_ca = np.dot(fourth_c,fourth_a)\n",
        "fourth_ca"
      ],
      "metadata": {
        "colab": {
          "base_uri": "https://localhost:8080/"
        },
        "id": "EHkSR-2DsMVj",
        "outputId": "3b734bdd-9cd1-42ba-8423-338bc74a974c"
      },
      "execution_count": 66,
      "outputs": [
        {
          "output_type": "execute_result",
          "data": {
            "text/plain": [
              "array([[ 8377, 10340,  3377, 10012],\n",
              "       [ 6800,  5782,  2410,  4826],\n",
              "       [ 6676,  4717,  2239,  3515],\n",
              "       [ 4932,  6580,  1952,  6332]])"
            ]
          },
          "metadata": {},
          "execution_count": 66
        }
      ]
    },
    {
      "cell_type": "code",
      "source": [
        "fourth_right = fourth_ba + fourth_ca\n",
        "fourth_right"
      ],
      "metadata": {
        "colab": {
          "base_uri": "https://localhost:8080/"
        },
        "id": "xyLMvE0XsNN6",
        "outputId": "5680503b-71f9-44f4-e45e-87aaed881cea"
      },
      "execution_count": 67,
      "outputs": [
        {
          "output_type": "execute_result",
          "data": {
            "text/plain": [
              "array([[13213, 15981,  5572, 15915],\n",
              "       [ 9847,  9363,  3712,  8421],\n",
              "       [10276,  8840,  3532,  7192],\n",
              "       [10382, 11022,  3960, 10146]])"
            ]
          },
          "metadata": {},
          "execution_count": 67
        }
      ]
    },
    {
      "cell_type": "code",
      "source": [
        "np.array_equiv(fourth_left, fourth_right)"
      ],
      "metadata": {
        "colab": {
          "base_uri": "https://localhost:8080/"
        },
        "id": "z_Ua3-RYsOKy",
        "outputId": "120ec382-e216-4540-cc6f-22c944530b2c"
      },
      "execution_count": 68,
      "outputs": [
        {
          "output_type": "execute_result",
          "data": {
            "text/plain": [
              "True"
            ]
          },
          "metadata": {},
          "execution_count": 68
        }
      ]
    },
    {
      "cell_type": "markdown",
      "source": [
        "Fifth Property\n",
        "\n",
        "A·I = A\n"
      ],
      "metadata": {
        "id": "tkuDbgOKooKD"
      }
    },
    {
      "cell_type": "code",
      "source": [
        "fifth_a = np.array([\n",
        "          [30, 48, 75, 57],\n",
        "          [28, 54, 40, 69],\n",
        "          [59, 72, 38, 48],\n",
        "          [53, 39, 73, 42]\n",
        "])\n",
        "fifth_i = np.eye(4)"
      ],
      "metadata": {
        "id": "suKSJ9yHdSdx"
      },
      "execution_count": 69,
      "outputs": []
    },
    {
      "cell_type": "code",
      "source": [
        "fifth_left = fifth_a.dot(fifth_i)\n",
        "fifth_left"
      ],
      "metadata": {
        "colab": {
          "base_uri": "https://localhost:8080/"
        },
        "id": "nj-AFM6lwwTt",
        "outputId": "f4fa4f3d-81df-40f2-ac42-2e4f2b150f5e"
      },
      "execution_count": 70,
      "outputs": [
        {
          "output_type": "execute_result",
          "data": {
            "text/plain": [
              "array([[30., 48., 75., 57.],\n",
              "       [28., 54., 40., 69.],\n",
              "       [59., 72., 38., 48.],\n",
              "       [53., 39., 73., 42.]])"
            ]
          },
          "metadata": {},
          "execution_count": 70
        }
      ]
    },
    {
      "cell_type": "code",
      "source": [
        "np.array_equiv(fifth_left,fifth_a)"
      ],
      "metadata": {
        "colab": {
          "base_uri": "https://localhost:8080/"
        },
        "id": "mGqcBjxwwxV0",
        "outputId": "d4f2c8cc-9a46-41fb-81d4-96d82a6e3840"
      },
      "execution_count": 71,
      "outputs": [
        {
          "output_type": "execute_result",
          "data": {
            "text/plain": [
              "True"
            ]
          },
          "metadata": {},
          "execution_count": 71
        }
      ]
    },
    {
      "cell_type": "markdown",
      "source": [
        "Sixth Property\n",
        "\n",
        "A·Φ=Φ"
      ],
      "metadata": {
        "id": "JxHWmU7gopa7"
      }
    },
    {
      "cell_type": "code",
      "source": [
        "sixth_a = np.array([\n",
        "          [30, 48, 75, 57],\n",
        "          [28, 54, 40, 69],\n",
        "          [59, 72, 38, 48],\n",
        "          [53, 39, 73, 42]\n",
        "])\n",
        "sixth_zero = np.zeros([4,4])"
      ],
      "metadata": {
        "id": "tV7lKpsodSjy"
      },
      "execution_count": 72,
      "outputs": []
    },
    {
      "cell_type": "code",
      "source": [
        "sixth_left = sixth_a.dot(sixth_zero)\n",
        "sixth_left"
      ],
      "metadata": {
        "colab": {
          "base_uri": "https://localhost:8080/"
        },
        "id": "AgZC0_83xzT0",
        "outputId": "177b7e54-7721-4d90-8abf-1989fa89e6e4"
      },
      "execution_count": 73,
      "outputs": [
        {
          "output_type": "execute_result",
          "data": {
            "text/plain": [
              "array([[0., 0., 0., 0.],\n",
              "       [0., 0., 0., 0.],\n",
              "       [0., 0., 0., 0.],\n",
              "       [0., 0., 0., 0.]])"
            ]
          },
          "metadata": {},
          "execution_count": 73
        }
      ]
    },
    {
      "cell_type": "code",
      "source": [
        "np.array_equiv(sixth_left,sixth_zero)"
      ],
      "metadata": {
        "colab": {
          "base_uri": "https://localhost:8080/"
        },
        "id": "s5ZE_qcYx1Vc",
        "outputId": "88ba852f-1fdd-4fb5-cd39-49daa133ec66"
      },
      "execution_count": 74,
      "outputs": [
        {
          "output_type": "execute_result",
          "data": {
            "text/plain": [
              "True"
            ]
          },
          "metadata": {},
          "execution_count": 74
        }
      ]
    },
    {
      "cell_type": "markdown",
      "source": [
        "##**Conclusion**\n",
        "\n",
        "For your conclusion synthesize the concept and application of the laboratory. Briefly discuss what you have learned and achieved in this activity."
      ],
      "metadata": {
        "id": "Jev1_LOpdSxx"
      }
    }
  ]
}